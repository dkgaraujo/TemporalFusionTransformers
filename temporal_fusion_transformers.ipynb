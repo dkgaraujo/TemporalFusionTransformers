{
 "cells": [
  {
   "cell_type": "raw",
   "metadata": {},
   "source": [
    "---\n",
    "title: \"Experimenting with TFT\"\n",
    "author: Douglas Araujo\n",
    "format: \n",
    "    html:\n",
    "        toc: true\n",
    "        toc-location: right\n",
    "        toc-depth: 4\n",
    "        number-sections: true\n",
    "        code-fold: true\n",
    "        code-tools: true\n",
    "        embed-resources: true\n",
    "bibliography: ref.bib\n",
    "---"
   ]
  },
  {
   "cell_type": "markdown",
   "metadata": {},
   "source": [
    "This notebook describes the temporal fusion transformers [@lim2021temporal] architecture, and ports it over to keras 3 while making some punctual improvements, including making the notation closer to the paper math.\n",
    "\n",
    "The original repository is: https://github.com/google-research/google-research/tree/master/tft."
   ]
  },
  {
   "cell_type": "code",
   "execution_count": 135,
   "metadata": {},
   "outputs": [],
   "source": [
    "from __future__ import annotations\n",
    "\n",
    "import os\n",
    "os.environ[\"KERAS_BACKEND\"] = \"tensorflow\"\n",
    "import keras\n",
    "from keras import layers\n",
    "\n",
    "import matplotlib.pyplot as plt\n",
    "import numpy as np\n",
    "import pandas as pd\n",
    "import random\n",
    "\n",
    "from fastcore import docments\n",
    "from nbdev.showdoc import show_doc\n"
   ]
  },
  {
   "cell_type": "markdown",
   "metadata": {},
   "source": [
    "# Introduction"
   ]
  },
  {
   "cell_type": "markdown",
   "metadata": {},
   "source": [
    "The main characteristics of TFT that make it interesting for nowcasting or forecasting purposes are:\n",
    "\n",
    "- **multi-horizon forecasting**: the ability to output, at each point in time $t$, a sequence of forecasts for $t+h, h > 1$\n",
    "- **quantile prediction**: each forecast is accompanied by a quantile band that communicates the amount of uncertainty around a prediction\n",
    "- **flexible use of different types of inputs**: static inputs (akin to fixed effects), historical input and known future input (eg, important holidays, years that are known to have major sports events such as Olympic games, etc)\n",
    "- **interpretability**: the model learns to select variables from the space of all input variables to retain only those that are globally meaningful, to assign attention to different parts of the time series, and to identify events of significance\n"
   ]
  },
  {
   "cell_type": "markdown",
   "metadata": {},
   "source": [
    "# Notation\n",
    "\n",
    "* unique entities: $i \\in (1, \\dots\\, I)$\n",
    "* time periods $t \\in [0, T_i]$\n",
    "  * $k \\geq 1$ lags\n",
    "  * $h \\geq 1$ forecasting period\n",
    "* set of entity-level static covariates: $s_i \\in \\mathbf{R}^{m_s}$\n",
    "* set of temporal inputs: $\\chi_{i, t} \\in \\mathbf{R}^{m_\\chi}$\n",
    "  * $\\chi_{i,t} = [z_{i,t}, x_{i,t}]$\n",
    "    * $z_{i,t} \\in \\mathbf{R}^{m_z}$ are observed inputs\n",
    "    * $x_{i,t} \\in \\mathbf{R}^{m_z}$ are a priori known inputs (eg, years that have major sports events)\n",
    "    * $m_\\chi = m_z + m_x$\n",
    "* target scalars: $y_{i,t}$\n",
    "  * $\\hat{y}_{i,t,q} = f_q(y_{i,t-k:t}, z_{i,t-k:t}, x_{i,t-k:t+h}, s_i)$\n",
    "* hidden unit size (common across all the TFT architecture): $d_{\\text{model}}$\n",
    "* transformed input of $j$-th variable at time $t$: $\\xi_t^{(j)} \\in \\mathbf{R}^{d_{\\text{model}}}$\n",
    "  * $\\Xi_t = [\\xi_t^{(1)}, \\dots, \\xi_t^{(m_\\chi)}]$"
   ]
  },
  {
   "cell_type": "markdown",
   "metadata": {},
   "source": [
    "# Architecture"
   ]
  },
  {
   "cell_type": "markdown",
   "metadata": {},
   "source": [
    "## Concepts"
   ]
  },
  {
   "cell_type": "markdown",
   "metadata": {},
   "source": [
    "* **time distributed**: \n",
    "  * applies same layer to each of the time steps in the data\n",
    "    * in other words, a layer with the exact same weights\n",
    "  * indices:\n",
    "    * index 0: batch\n",
    "    * index 1: time\n",
    "    * indices 2...: data\n",
    "  * More info: https://www.tensorflow.org/api_docs/python/tf/keras/layers/TimeDistributed"
   ]
  },
  {
   "cell_type": "markdown",
   "metadata": {},
   "source": [
    "## Components"
   ]
  },
  {
   "cell_type": "markdown",
   "metadata": {},
   "source": [
    "### Linear layer\n",
    "\n",
    "> dedicated implementation to better control use of time distribution on vanilla linear layer\n",
    "\n",
    "$$\n",
    "\\mathbb{Y} = \\phi(\\mathbf{W} x + \\mathbf{b}),\n",
    "$$ {#eq-dense}\n",
    "\n",
    "where $x$ is the input to `linear_layer()(x)`, $\\mathbb{Y}$ is the output of `linear_layer()(x)`, $\\phi$ is an activation function (or no activation function is `activation` is `None`), $\\mathbf{W} \\in \\mathbf{R}^{(d_{\\text{size}} \\times d_{\\text{inputs}})}$ is a matrix of weights and $\\mathbf{b} \\in \\mathbf{R}^{d_{size}}$ is a vector of biases. Importantly, $\\mathbf{W}$ and $\\mathbf{b}$ are indexed with $_{\\omega}$ to denote weight-sharing when the layer is time-distributed."
   ]
  },
  {
   "cell_type": "code",
   "execution_count": 2,
   "metadata": {},
   "outputs": [],
   "source": [
    "def linear_layer(size:int, # Output size\n",
    "                 activation:str|callable|None=None, # Activation function\n",
    "                 use_time_distributed:bool=False, # Apply the layer across all time steps?\n",
    "                 use_bias:bool=True # Include bias in the layer?\n",
    ")->layers.Dense: # Dense layer\n",
    "    \"Linear layer.\"\n",
    "\n",
    "    linear = layers.Dense(size, activation=activation, use_bias=use_bias)\n",
    "    if use_time_distributed:\n",
    "        linear = layers.TimeDistributed(linear)\n",
    "    return linear"
   ]
  },
  {
   "cell_type": "code",
   "execution_count": 3,
   "metadata": {},
   "outputs": [
    {
     "data": {
      "text/markdown": [
       "---\n",
       "\n",
       "#### linear_layer\n",
       "\n",
       "\n",
       "\n",
       "Linear layer."
      ],
      "text/plain": [
       "---\n",
       "\n",
       "#### linear_layer\n",
       "\n",
       "\n",
       "\n",
       "Linear layer."
      ]
     },
     "execution_count": 3,
     "metadata": {},
     "output_type": "execute_result"
    }
   ],
   "source": [
    "#| output: asis\n",
    "#| echo: false\n",
    "show_doc(linear_layer, title_level=4)"
   ]
  },
  {
   "cell_type": "markdown",
   "metadata": {},
   "source": [
    "#### Example usage"
   ]
  },
  {
   "cell_type": "code",
   "execution_count": 4,
   "metadata": {},
   "outputs": [],
   "source": [
    "#| code-fold: show\n",
    "\n",
    "batch_size = 2\n",
    "n_timesteps = 5\n",
    "n_features = 100\n",
    "layer_size = 8\n",
    "\n",
    "# input dimensions: batches / timesteps / features\n",
    "x = np.ones(batch_size*n_timesteps*n_features).reshape([batch_size, n_timesteps, n_features]) \n",
    "\n",
    "# dense layer\n",
    "linear_td_true = linear_layer(size=layer_size, use_time_distributed=True)\n",
    "linear_td_false = linear_layer(size=layer_size, use_time_distributed=False)\n",
    "\n",
    "# output dimensions: batches / timesteps / layer size\n",
    "assert linear_td_true(x).shape == [batch_size, n_timesteps, layer_size]\n",
    "assert linear_td_false(x).shape == [batch_size, n_timesteps, layer_size]"
   ]
  },
  {
   "cell_type": "markdown",
   "metadata": {},
   "source": [
    "Note that the time-distributed linear layer results in the same weights being applied to each time step:"
   ]
  },
  {
   "cell_type": "code",
   "execution_count": 5,
   "metadata": {},
   "outputs": [
    {
     "data": {
      "text/plain": [
       "<tf.Tensor: shape=(1, 5, 8), dtype=float32, numpy=\n",
       "array([[[ 0.5619693 ,  1.186127  ,  2.730394  , -0.62543887,\n",
       "          1.81532   , -1.1254747 ,  1.745105  ,  0.5894729 ],\n",
       "        [ 0.5619693 ,  1.186127  ,  2.730394  , -0.62543887,\n",
       "          1.81532   , -1.1254747 ,  1.745105  ,  0.5894729 ],\n",
       "        [ 0.5619693 ,  1.186127  ,  2.730394  , -0.62543887,\n",
       "          1.81532   , -1.1254747 ,  1.745105  ,  0.5894729 ],\n",
       "        [ 0.5619693 ,  1.186127  ,  2.730394  , -0.62543887,\n",
       "          1.81532   , -1.1254747 ,  1.745105  ,  0.5894729 ],\n",
       "        [ 0.5619693 ,  1.186127  ,  2.730394  , -0.62543887,\n",
       "          1.81532   , -1.1254747 ,  1.745105  ,  0.5894729 ]]],\n",
       "      dtype=float32)>"
      ]
     },
     "execution_count": 5,
     "metadata": {},
     "output_type": "execute_result"
    }
   ],
   "source": [
    "#| code-fold: show\n",
    "\n",
    "x = np.ones((1, n_timesteps, n_features))\n",
    "timesteps_equal = []\n",
    "for i in range(n_timesteps-1):\n",
    "    timesteps_equal.append((np.array_equal(linear_td_true(x)[0,0,:], linear_td_true(x)[0,i+1,:])))\n",
    "\n",
    "assert np.all(timesteps_equal)\n",
    "\n",
    "linear_td_true(x)"
   ]
  },
  {
   "cell_type": "markdown",
   "metadata": {},
   "source": [
    "### Categorical embeddings\n",
    "\n",
    "> Embeds categorical variables\n",
    "\n",
    "Most categorical economic variables do not have more than a few dozen different categories, unlike in natural language processing, where vocabulary sizes are counted in the tens of thousands. For this reason, the default number of categories is set at 50. However, this can be adjusted by the user in case there are more unique categories in a variable."
   ]
  },
  {
   "cell_type": "code",
   "execution_count": 6,
   "metadata": {},
   "outputs": [],
   "source": [
    "def cat_embed(\n",
    "    inputs, # Categorical variables with dimensions (batch_size, n_timesteps)\n",
    "    hidden_layer_size:int, # Hidden layer size,\n",
    "    n_categories:int=50 # Number of different categories\n",
    ")->keras.KerasTensor: # $\\xi^{(j)}$ with dimensions (batch_size, n_timesteps, hidden_layer_size)\n",
    "    \n",
    "    n_timesteps = inputs.shape[1]\n",
    "    \n",
    "    embed = keras.Sequential([\n",
    "        layers.Embedding(\n",
    "            input_dim=n_categories,\n",
    "            output_dim=hidden_layer_size,\n",
    "            #input_length=n_timesteps,\n",
    "            mask_zero=True\n",
    "        )\n",
    "    ])\n",
    "    return embed(inputs)"
   ]
  },
  {
   "cell_type": "code",
   "execution_count": 7,
   "metadata": {},
   "outputs": [
    {
     "data": {
      "text/markdown": [
       "---\n",
       "\n",
       "#### cat_embed\n",
       "\n",
       ">      cat_embed (inputs, hidden_layer_size:int, n_categories:int=50)\n",
       "\n",
       "|    | **Type** | **Default** | **Details** |\n",
       "| -- | -------- | ----------- | ----------- |\n",
       "| inputs |  |  | Categorical variables with dimensions (batch_size, n_timesteps) |\n",
       "| hidden_layer_size | int |  | Hidden layer size, |\n",
       "| n_categories | int | 50 | Number of different categories |\n",
       "| **Returns** | **keras.KerasTensor** |  | **$\\xi\\^{(j)}$ with dimensions (batch_size, n_timesteps, hidden_layer_size)** |"
      ],
      "text/plain": [
       "---\n",
       "\n",
       "#### cat_embed\n",
       "\n",
       ">      cat_embed (inputs, hidden_layer_size:int, n_categories:int=50)\n",
       "\n",
       "|    | **Type** | **Default** | **Details** |\n",
       "| -- | -------- | ----------- | ----------- |\n",
       "| inputs |  |  | Categorical variables with dimensions (batch_size, n_timesteps) |\n",
       "| hidden_layer_size | int |  | Hidden layer size, |\n",
       "| n_categories | int | 50 | Number of different categories |\n",
       "| **Returns** | **keras.KerasTensor** |  | **$\\xi\\^{(j)}$ with dimensions (batch_size, n_timesteps, hidden_layer_size)** |"
      ]
     },
     "execution_count": 7,
     "metadata": {},
     "output_type": "execute_result"
    }
   ],
   "source": [
    "#| output: asis\n",
    "#| echo: false\n",
    "\n",
    "show_doc(cat_embed, title_level=4)"
   ]
  },
  {
   "cell_type": "markdown",
   "metadata": {},
   "source": [
    "#### Example usage\n",
    "\n",
    "In the code below, the array `x` is created with distinct integers that stand for different categories.\n",
    "\n",
    "Also, for pedagogical purposes the example code below uses the same number of different categories as potentially exist in the data."
   ]
  },
  {
   "cell_type": "code",
   "execution_count": 8,
   "metadata": {},
   "outputs": [
    {
     "data": {
      "text/plain": [
       "(array([4, 0, 0, 1, 0, 0, 0, 4]),\n",
       " <tf.Tensor: shape=(8, 4), dtype=float32, numpy=\n",
       " array([[-0.04486846, -0.03725325, -0.01615609, -0.02743695],\n",
       "        [ 0.03812634,  0.04566753,  0.00253998,  0.04429752],\n",
       "        [ 0.03812634,  0.04566753,  0.00253998,  0.04429752],\n",
       "        [-0.03978486,  0.03321173, -0.00459155, -0.01740873],\n",
       "        [ 0.03812634,  0.04566753,  0.00253998,  0.04429752],\n",
       "        [ 0.03812634,  0.04566753,  0.00253998,  0.04429752],\n",
       "        [ 0.03812634,  0.04566753,  0.00253998,  0.04429752],\n",
       "        [-0.04486846, -0.03725325, -0.01615609, -0.02743695]],\n",
       "       dtype=float32)>)"
      ]
     },
     "execution_count": 8,
     "metadata": {},
     "output_type": "execute_result"
    }
   ],
   "source": [
    "#| code-fold: show\n",
    "\n",
    "batch_size = 3\n",
    "n_timesteps = 8\n",
    "hidden_layer_size = 4\n",
    "num_diff_categories = 6\n",
    "\n",
    "x = np.random.randint(low=0, high=num_diff_categories-1, size=(batch_size, n_timesteps))\n",
    "# inspecting the first batch below; note that same integers have the same embeddings\n",
    "x[0], cat_embed(x, hidden_layer_size=hidden_layer_size, n_categories=num_diff_categories)[0]"
   ]
  },
  {
   "cell_type": "markdown",
   "metadata": {},
   "source": [
    "### Skip connection\n",
    "\n",
    "> Adds inputs to layer and then implements layer normalisation\n",
    "\n",
    "$$\n",
    "\\text{LayerNorm}(a + b),\n",
    "$$ {#eq-skip}\n",
    "\n",
    "for $a$ and $b$ tensors of the same dimension and $\\text{LayerNorm}(\\cdot)$ being the layer normalisation (@ba2016layer), ie subtracting $\\mu^l$ and dividing by $\\sigma^l$ defined as:\n",
    "\n",
    "$$\n",
    "\\mu^l = \\frac{1}{H} \\sum_{i=1}^H n_i^l \\quad \\sigma^l = \\sqrt{\\frac{1}{H} \\sum_{i=1}^H (n_i^l - \\mu^l)^2},\n",
    "$$ {#eq-layernorm}\n",
    "\n",
    "with $H$ denoting the number of $n$ hidden units in a layer $l$.\n",
    "\n",
    "* Adding a layer's inputs to its outputs is also called \"skip connection\"\n",
    "* The layer is then normalised [@ba2016layer] to avoid having the numbers grow too big, which is detrimental for gradient transmission\n",
    "  * Layer normalisation uses the same computation both during training and inference times, and is particularly suitable for time series"
   ]
  },
  {
   "cell_type": "code",
   "execution_count": 9,
   "metadata": {},
   "outputs": [],
   "source": [
    "def add_and_norm(\n",
    "    x_list # List of input tensors (of the same dimension) for skip connection\n",
    "    )->keras.KerasTensor: # Normalised tensor with the same dimension as the tensors in the list\n",
    "    \"Adds tensors with same dimensions and then normalises layer\"\n",
    "    tmp = layers.Add()(x_list)\n",
    "    return layers.LayerNormalization()(tmp)"
   ]
  },
  {
   "cell_type": "code",
   "execution_count": 10,
   "metadata": {},
   "outputs": [
    {
     "data": {
      "text/markdown": [
       "---\n",
       "\n",
       "#### add_and_norm\n",
       "\n",
       ">      add_and_norm (x_list)\n",
       "\n",
       "Adds tensors with same dimensions and then normalises layer\n",
       "\n",
       "|    | **Type** | **Details** |\n",
       "| -- | -------- | ----------- |\n",
       "| x_list |  | List of input tensors (of the same dimension) for skip connection |\n",
       "| **Returns** | **keras.KerasTensor** | **Normalised tensor with the same dimension as the tensors in the list** |"
      ],
      "text/plain": [
       "---\n",
       "\n",
       "#### add_and_norm\n",
       "\n",
       ">      add_and_norm (x_list)\n",
       "\n",
       "Adds tensors with same dimensions and then normalises layer\n",
       "\n",
       "|    | **Type** | **Details** |\n",
       "| -- | -------- | ----------- |\n",
       "| x_list |  | List of input tensors (of the same dimension) for skip connection |\n",
       "| **Returns** | **keras.KerasTensor** | **Normalised tensor with the same dimension as the tensors in the list** |"
      ]
     },
     "execution_count": 10,
     "metadata": {},
     "output_type": "execute_result"
    }
   ],
   "source": [
    "#| output: asis\n",
    "#| echo: false\n",
    "show_doc(add_and_norm, title_level=4)"
   ]
  },
  {
   "cell_type": "markdown",
   "metadata": {},
   "source": [
    "#### Example usage"
   ]
  },
  {
   "cell_type": "code",
   "execution_count": 11,
   "metadata": {},
   "outputs": [],
   "source": [
    "#| code-fold: show\n",
    "\n",
    "batch_size = 3\n",
    "n_timesteps = 5\n",
    "n_features = 100\n",
    "\n",
    "# input dimensions: batches / timesteps / features\n",
    "x1 = np.random.randn(batch_size*n_timesteps*n_features).reshape([batch_size, n_timesteps, n_features]) \n",
    "x2 = np.random.randn(batch_size*n_timesteps*n_features).reshape([batch_size, n_timesteps, n_features]) \n",
    "\n",
    "# output dimensions: batches / timesteps / features\n",
    "x1x2 = add_and_norm(x_list=[x1, x2])\n",
    "assert x1.shape == x1x2.shape"
   ]
  },
  {
   "cell_type": "markdown",
   "metadata": {},
   "source": [
    "Mean values of the normalised layer should be around 0:"
   ]
  },
  {
   "cell_type": "code",
   "execution_count": 12,
   "metadata": {},
   "outputs": [
    {
     "name": "stdout",
     "output_type": "stream",
     "text": [
      "mean of x1 units at each batch X time step:  [[ 0.02423079  0.27551868  0.00652721  0.06933863 -0.10110351]\n",
      " [ 0.09564999  0.03990795  0.0989942  -0.0499648   0.1612401 ]\n",
      " [-0.06676308  0.00422137  0.09121888 -0.09015055 -0.03595006]] \n",
      "\n",
      "mean of x2 units at each batch X time step:  [[-0.05670447 -0.09016893 -0.09119486 -0.06959022 -0.08453582]\n",
      " [ 0.02237132  0.02594187  0.0632951   0.20154897  0.10926962]\n",
      " [ 0.14950795 -0.00929115 -0.03395515  0.06862373  0.00995618]] \n",
      "\n",
      "mean of sum of x1 and x2:\n"
     ]
    },
    {
     "data": {
      "text/plain": [
       "(None,\n",
       " array([[ 1.7881394e-08,  2.3543835e-08, -2.9802323e-09, -8.3446503e-09,\n",
       "         -4.3213366e-09],\n",
       "        [ 5.9604646e-09,  1.7881394e-08,  1.8924474e-08, -1.1324882e-08,\n",
       "          1.1324882e-08],\n",
       "        [ 7.1525572e-09,  8.3446503e-09, -4.1723252e-09,  1.5497207e-08,\n",
       "         -9.2387200e-09]], dtype=float32))"
      ]
     },
     "execution_count": 12,
     "metadata": {},
     "output_type": "execute_result"
    }
   ],
   "source": [
    "print(\"mean of x1 units at each batch X time step: \", x1.mean(axis=-1), \"\\n\")\n",
    "print(\"mean of x2 units at each batch X time step: \", x2.mean(axis=-1), \"\\n\")\n",
    "print(\"mean of sum of x1 and x2:\"), x1x2.numpy().mean(axis=-1)"
   ]
  },
  {
   "cell_type": "markdown",
   "metadata": {},
   "source": [
    "Standard deviation (for the normalised output it should be around 1):"
   ]
  },
  {
   "cell_type": "code",
   "execution_count": 13,
   "metadata": {},
   "outputs": [
    {
     "name": "stdout",
     "output_type": "stream",
     "text": [
      "std of x1 units at each batch X time step:  [[1.03262265 0.98802561 1.00921022 1.03635811 1.07990661]\n",
      " [0.95147762 0.94877569 0.95247414 1.14646854 0.98394174]\n",
      " [0.91501917 0.92605855 1.05916432 0.97791997 1.05818374]] \n",
      "\n",
      "std of x2 units at each batch X time step:  [[1.03933124 1.03531164 1.00298616 0.99184543 0.94995457]\n",
      " [0.99856704 0.88463574 1.06421894 0.97076696 1.22109697]\n",
      " [0.93261229 1.00318975 0.96534888 0.97917265 0.99660251]] \n",
      "\n",
      "std of normalised sum of x1 and x2:\n"
     ]
    },
    {
     "data": {
      "text/plain": [
       "(None,\n",
       " array([[0.99979943, 0.9997585 , 0.99973226, 0.9997831 , 0.9996915 ],\n",
       "        [0.99970996, 0.99972373, 0.99973845, 0.9997957 , 0.9997951 ],\n",
       "        [0.99966604, 0.9997121 , 0.9997507 , 0.9997494 , 0.9997482 ]],\n",
       "       dtype=float32))"
      ]
     },
     "execution_count": 13,
     "metadata": {},
     "output_type": "execute_result"
    }
   ],
   "source": [
    "print(\"std of x1 units at each batch X time step: \", x1.std(axis=-1), \"\\n\")\n",
    "print(\"std of x2 units at each batch X time step: \", x2.std(axis=-1), \"\\n\")\n",
    "print(\"std of normalised sum of x1 and x2:\"), x1x2.numpy().std(axis=-1)"
   ]
  },
  {
   "cell_type": "markdown",
   "metadata": {},
   "source": [
    "### Gated linear unit (GLU)\n",
    "\n",
    "> Linear layer that learns how much to gate vs let pass through\n",
    "\n",
    "Using input $\\gamma \\in \\mathbb{R}^{d_{\\text{model}}}$ and the subscript $\\omega$ to index weights, \n",
    "\n",
    "$$\n",
    "\\text{GLU}_{\\omega}(\\gamma) = \\sigma(W_{4, \\omega} \\gamma + b_{4, \\omega}) \\odot (W_{5, \\omega} \\gamma + b_{5, \\omega}).\n",
    "$$ {#eq-GLU}\n",
    "\n",
    "* Introduced by @dauphin2017language\n",
    "* The intuition is to train two versions of @eq-dense in the same data, but one of them having a sigmoid activation (which outputs values between zero and one), then multiplying each hidden unit\n",
    "* The result could be zero or very close to zero through the Hadamard multipliciation, which in practice means that the network would not be affected by that data (ie, it would be gated out)\n",
    "  * The first term (with the sigmoid) is the gate that determines what percentage of the linear layer passes through\n",
    "* *\"GLUs reduce the vanishing gradient problem for deep architectures by providing a linear path for gradients while retaining non-linear capabilities\"*\n",
    "* *\"provide flexibility to suppress any parts of the architecture that are not required for a given dataset\"*\n",
    "* The GLU is part of @sec-GRN"
   ]
  },
  {
   "cell_type": "code",
   "execution_count": 14,
   "metadata": {},
   "outputs": [],
   "source": [
    "def apply_gating_layer(\n",
    "    x, # Input tensors (batch first)\n",
    "    hidden_layer_size:int, # Dimension of the GLU\n",
    "    dropout_rate:float|None=None, # Dropout rate\n",
    "    use_time_distributed:bool=True, # Apply the GLU across all time steps?\n",
    "    activation:str|callable=None # Activation function\n",
    ")->(keras.KerasTensor, keras.KerasTensor): # $\\text{GLU}(\\gamma)$, $\\sigma(W_{4, \\omega} \\gamma + b_{4, \\omega})$, both with dimension (batch_size, num_time_steps, hidden_layer_size)\n",
    "    \"Gated Linear Unit (GLU) layer\"\n",
    "    \n",
    "    if dropout_rate is not None:\n",
    "        x = layers.Dropout(dropout_rate)(x)\n",
    "\n",
    "    activation_layer = linear_layer(\n",
    "        size=hidden_layer_size,\n",
    "        activation=activation,\n",
    "        use_time_distributed=use_time_distributed\n",
    "    )(x)\n",
    "    \n",
    "    gate_layer = linear_layer(\n",
    "        size=hidden_layer_size,\n",
    "        activation='sigmoid',\n",
    "        use_time_distributed=use_time_distributed\n",
    "    )(x)\n",
    "\n",
    "    return layers.Multiply()([activation_layer, gate_layer]), gate_layer"
   ]
  },
  {
   "cell_type": "code",
   "execution_count": 15,
   "metadata": {},
   "outputs": [
    {
     "data": {
      "text/markdown": [
       "---\n",
       "\n",
       "#### apply_gating_layer\n",
       "\n",
       "\n",
       "\n",
       "Gated Linear Unit (GLU) layer"
      ],
      "text/plain": [
       "---\n",
       "\n",
       "#### apply_gating_layer\n",
       "\n",
       "\n",
       "\n",
       "Gated Linear Unit (GLU) layer"
      ]
     },
     "execution_count": 15,
     "metadata": {},
     "output_type": "execute_result"
    }
   ],
   "source": [
    "#| output: asis\n",
    "#| echo: false\n",
    "\n",
    "show_doc(apply_gating_layer, title_level=4)"
   ]
  },
  {
   "cell_type": "markdown",
   "metadata": {},
   "source": [
    "#### Example usage"
   ]
  },
  {
   "cell_type": "code",
   "execution_count": 16,
   "metadata": {},
   "outputs": [],
   "source": [
    "#| code-fold: show\n",
    "\n",
    "batch_size = 3\n",
    "n_timesteps = 5\n",
    "n_features = 100\n",
    "hidden_layer_size = 16\n",
    "\n",
    "# input dimensions: batches / timesteps / features\n",
    "x = np.random.randn(batch_size*n_timesteps*n_features).reshape([batch_size, n_timesteps, n_features]) \n",
    "\n",
    "# output dimensions: batches / timesteps / hidden_layer_size\n",
    "assert apply_gating_layer(x=x, hidden_layer_size=hidden_layer_size)[0].shape == [batch_size, n_timesteps, hidden_layer_size]"
   ]
  },
  {
   "cell_type": "code",
   "execution_count": 17,
   "metadata": {},
   "outputs": [
    {
     "data": {
      "text/plain": [
       "[TensorShape([3, 5, 16]), TensorShape([3, 5, 16])]"
      ]
     },
     "execution_count": 17,
     "metadata": {},
     "output_type": "execute_result"
    }
   ],
   "source": [
    "#| code-fold: show\n",
    "\n",
    "[i.shape for i in apply_gating_layer(x=x, hidden_layer_size=hidden_layer_size)]"
   ]
  },
  {
   "cell_type": "markdown",
   "metadata": {},
   "source": [
    "### Gated residual network (GRN) {#sec-GRN}\n",
    "\n",
    "$$\n",
    "\\text{GRN}_{\\omega}(a, c) = \\text{LayerNorm}(a + \\text{GLU}_{\\omega}(W_{1, \\omega} \\text{ELU}(W_{2, \\omega} a + b_{2, \\omega} + W_{3, \\omega} c) + b_{1, w}))\n",
    "$$ {#eq-GRN}\n",
    "\n",
    "* Breaking down $\\text{GRN}_{\\omega}(a, c)$:\n",
    "    * *1st step*: $\\eta_{2} = \\text{ELU}(W_{2, \\omega} a + b_{2, \\omega} + W_{3, \\omega} c)$ (where the additional context $c$ might be zero) as in @eq-dense but adapted for the added context if any and with $\\text{ELU}(\\cdot)$ as the activation function,\n",
    "    * *2nd step*: $\\eta_{1} = W_{1, \\omega} \\eta_{2} + b_{1, w}$ as in @eq-dense,\n",
    "    * *3rd step*: $\\text{LayerNorm}(a + \\text{GLU}_{\\omega}(\\eta_{1}))$ as in @eq-skip and @eq-GLU\n",
    "* $\\text{ELU}(\\cdot)$ is the Exponential Linear Unit activation function (@clevert2015fast)\n",
    "    * Unlike ReLUs, ELUs allow for negative values, which pushes unit activations closer to zero at a lower computation complexity, and producing more accurate results\n",
    "* The GRN is a key building block of the TFT\n",
    "    * Helps keep information only from relevant input variables\n",
    "    * Also keeps the model as simple as possible by only applying non-linearities when relevant"
   ]
  },
  {
   "cell_type": "code",
   "execution_count": 18,
   "metadata": {},
   "outputs": [],
   "source": [
    "def gated_residual_network(\n",
    "    x, # Network inputs\n",
    "    hidden_layer_size:int, # Dimension of the GRN\n",
    "    output_size:int|None=None, # Size of output layer (if None, same as `hidden_layer_size`)\n",
    "    dropout_rate:float|None=None, # Dropout rate\n",
    "    use_time_distributed:bool=True, # Apply the GRN across all time steps?\n",
    "    additional_context=None, # Additional context vector to use if relevant\n",
    ")->(keras.KerasTensor, keras.KerasTensor): # $\\text{GRN}_\\omega (a, c)$, $\\sigma(W_{4, \\omega} \\gamma + b_{4, \\omega})$ for $\\gamma = \\text{ELU}(W_{2, \\omega} a + b_{2, \\omega} + W_{3, \\omega} c)$, both with dimension (batch_size, num_time_steps, hidden_layer_size)\n",
    "    \"Applies the gated residual network (GRN) as defined in the paper\"\n",
    "    \n",
    "    # Setup skip connection\n",
    "    if output_size is None:\n",
    "        output_size = hidden_layer_size\n",
    "        skip = x\n",
    "    else:\n",
    "        linear = keras.layers.Dense(output_size)\n",
    "        if use_time_distributed:\n",
    "            linear = keras.layers.TimeDistributed(linear)\n",
    "        skip = linear(x)\n",
    "\n",
    "    # 1st step: eta2\n",
    "    hidden = linear_layer(\n",
    "        size=hidden_layer_size, # W2\n",
    "        activation=None,\n",
    "        use_time_distributed=use_time_distributed,\n",
    "        use_bias=True # b2\n",
    "    )(x)\n",
    "\n",
    "    # \"For instances without a context vector, the GRN simply treates the context input as zero - ie, $c = 0$ in Eq. 4\"\n",
    "    if additional_context is not None: # if c is != 0...\n",
    "        hidden += linear_layer(\n",
    "            size=hidden_layer_size, # W3\n",
    "            activation=None,\n",
    "            use_time_distributed=use_time_distributed,\n",
    "            use_bias=False # no bias for additional context, since there already is bias from the \"main\" calculation of eta2\n",
    "        )(additional_context)\n",
    "\n",
    "    hidden = keras.layers.Activation('elu')(hidden)\n",
    "\n",
    "    # 2nd step: eta1\n",
    "    hidden = linear_layer(\n",
    "        size=hidden_layer_size, # W1\n",
    "        activation=None,\n",
    "        use_time_distributed=use_time_distributed,\n",
    "        use_bias=True # b1\n",
    "    )(hidden)\n",
    "\n",
    "    # 3rd step: concluding the GRN calculation\n",
    "    gating_layer, gate = apply_gating_layer(\n",
    "        x=hidden,\n",
    "        hidden_layer_size=output_size,\n",
    "        dropout_rate=dropout_rate,\n",
    "        use_time_distributed=use_time_distributed,\n",
    "        activation=None\n",
    "    )\n",
    "\n",
    "    GRN = add_and_norm([skip, gating_layer])\n",
    "\n",
    "    return GRN, gate"
   ]
  },
  {
   "cell_type": "code",
   "execution_count": 19,
   "metadata": {},
   "outputs": [
    {
     "data": {
      "text/markdown": [
       "---\n",
       "\n",
       "#### gated_residual_network\n",
       "\n",
       ">      gated_residual_network (x, hidden_layer_size:int,\n",
       ">                              output_size:int|None=None,\n",
       ">                              dropout_rate:float|None=None,\n",
       ">                              use_time_distributed:bool=True,\n",
       ">                              additional_context=None)\n",
       "\n",
       "Applies the gated residual network (GRN) as defined in the paper\n",
       "\n",
       "|    | **Type** | **Default** | **Details** |\n",
       "| -- | -------- | ----------- | ----------- |\n",
       "| x |  |  | Network inputs |\n",
       "| hidden_layer_size | int |  | Dimension of the GRN |\n",
       "| output_size | int \\| None | None | Size of output layer (if None, same as `hidden_layer_size`) |\n",
       "| dropout_rate | float \\| None | None | Dropout rate |\n",
       "| use_time_distributed | bool | True | Apply the GRN across all time steps? |\n",
       "| additional_context | NoneType | None | Additional context vector to use if relevant |\n",
       "| **Returns** | **(keras.KerasTensor, keras.KerasTensor)** |  | **$\\text{GRN}_\\omega (a, c)$, $\\sigma(W_{4, \\omega} \\gamma + b_{4, \\omega})$ for $\\gamma = \\text{ELU}(W_{2, \\omega} a + b_{2, \\omega} + W_{3, \\omega} c)$, both with dimension (batch_size, num_time_steps, hidden_layer_size)** |"
      ],
      "text/plain": [
       "---\n",
       "\n",
       "#### gated_residual_network\n",
       "\n",
       ">      gated_residual_network (x, hidden_layer_size:int,\n",
       ">                              output_size:int|None=None,\n",
       ">                              dropout_rate:float|None=None,\n",
       ">                              use_time_distributed:bool=True,\n",
       ">                              additional_context=None)\n",
       "\n",
       "Applies the gated residual network (GRN) as defined in the paper\n",
       "\n",
       "|    | **Type** | **Default** | **Details** |\n",
       "| -- | -------- | ----------- | ----------- |\n",
       "| x |  |  | Network inputs |\n",
       "| hidden_layer_size | int |  | Dimension of the GRN |\n",
       "| output_size | int \\| None | None | Size of output layer (if None, same as `hidden_layer_size`) |\n",
       "| dropout_rate | float \\| None | None | Dropout rate |\n",
       "| use_time_distributed | bool | True | Apply the GRN across all time steps? |\n",
       "| additional_context | NoneType | None | Additional context vector to use if relevant |\n",
       "| **Returns** | **(keras.KerasTensor, keras.KerasTensor)** |  | **$\\text{GRN}_\\omega (a, c)$, $\\sigma(W_{4, \\omega} \\gamma + b_{4, \\omega})$ for $\\gamma = \\text{ELU}(W_{2, \\omega} a + b_{2, \\omega} + W_{3, \\omega} c)$, both with dimension (batch_size, num_time_steps, hidden_layer_size)** |"
      ]
     },
     "execution_count": 19,
     "metadata": {},
     "output_type": "execute_result"
    }
   ],
   "source": [
    "#| output: asis\n",
    "#| echo: false\n",
    "\n",
    "show_doc(gated_residual_network, title_level=4)"
   ]
  },
  {
   "cell_type": "markdown",
   "metadata": {},
   "source": [
    "#### Example usage"
   ]
  },
  {
   "cell_type": "code",
   "execution_count": 20,
   "metadata": {},
   "outputs": [],
   "source": [
    "#| code-fold: show\n",
    "\n",
    "batch_size = 3\n",
    "n_timesteps = 5\n",
    "n_features = 100\n",
    "hidden_layer_size = 16\n",
    "output_size = 17\n",
    "\n",
    "# input dimensions: batches / timesteps / features\n",
    "x = np.random.randn(batch_size*n_timesteps*n_features).reshape([batch_size, n_timesteps, n_features]) \n",
    "\n",
    "grn, gate = gated_residual_network(\n",
    "    x=x,\n",
    "    hidden_layer_size=hidden_layer_size,\n",
    "    output_size=output_size,\n",
    "    dropout_rate=0,\n",
    "    use_time_distributed=True,\n",
    "    additional_context=None\n",
    ")\n",
    "\n",
    "# output dimensions: batches / timesteps / hidden_layer_size\n",
    "assert grn.shape == [batch_size, n_timesteps, output_size]"
   ]
  },
  {
   "cell_type": "markdown",
   "metadata": {},
   "source": [
    "### Variable selection networks\n",
    "\n",
    "$$\n",
    "\\sum_{j=1}^{m_{\\chi}} \\upsilon_{\\chi_t}^{(j)} \\tilde{\\xi}_t^{(j)},\n",
    "$$ {#eq-VSN}\n",
    "\n",
    "with $j$ indexing the input variable, $\\upsilon_{\\chi_t}^{(j)}$ standing for variable $j$'s selection weight, $m$ being the number of features and $\\tilde{\\xi}_t^{(j)}$ defined as:\n",
    "\n",
    "$$\n",
    "\\tilde{\\xi}_t^{(j)} = \\text{GRN}(\\xi_t^{(j)}).\n",
    "$$ {#eq-embed}\n",
    "\n",
    "* In the paper, they are represented in the bottom right of Fig. 2\n",
    "* Note there are separate variable selection networks for different input groups:\n",
    "  * `static_variable_selection`\n",
    "    * does not have static context as input, as it already contains static information\n",
    "  * `temporal_variable_selection`\n",
    "    * used for both historical and known future inputs\n",
    "    * includes static contexts\n",
    "* Both of these functions take the result of the transformed data, ie embeddings for categorical variables and a linear layer for continuous variables\n",
    "  * static variables are always categorical\n",
    "  * temporal variables can be either categorical or continuous\n",
    "  * in any case, following @lim2021temporal, the resulting transformation is expected to have the same dimension as `hidden_layer_size`"
   ]
  },
  {
   "cell_type": "code",
   "execution_count": 21,
   "metadata": {},
   "outputs": [],
   "source": [
    "def static_variable_selection( \n",
    "    embedding, # Embedded static inputs, $\\xi_t$\n",
    "    hidden_layer_size:int, # Dimension of the GRN\n",
    "    dropout_rate:float # Dropout rate\n",
    ")->(keras.KerasTensor, keras.KerasTensor): # $\\tilde{\\xi}_t$ with dimension (batch_size, hidden_layer_size), $\\upsilon_{\\chi t}$ with dimension (batch_size, num_static_vars, 1)\n",
    "    \"Filter contribution of different static variables\"\n",
    "\n",
    "    _, num_static, _ = embedding.get_shape().as_list() # (embeddings are $\\xi_t^(1, \\dots, \\m_{\\chi})$)\n",
    "    flattened = layers.Flatten()(embedding) # $\\Xi_t$, with dimensions (batch_size, num_static_vars)\n",
    "\n",
    "    # Nonlinear transformation with the GRN\n",
    "    mlp_outputs, _ = gated_residual_network(\n",
    "        x=flattened, # Network inputs\n",
    "        hidden_layer_size=hidden_layer_size, # Dimension of the GRN\n",
    "        output_size=num_static, # Size of output layer (if None, same as `hidden_layer_size`)\n",
    "        dropout_rate=dropout_rate, # Dropout rate\n",
    "        use_time_distributed=False, # Apply the GRN across all time steps?\n",
    "        additional_context=None, # Additional context vector to use if relevant\n",
    "    ) \n",
    "    sparse_weights = layers.Activation('softmax')(mlp_outputs)\n",
    "    sparse_weights = keras.ops.expand_dims(sparse_weights, axis=-1) # $\\upsilon_{\\chi t}$\n",
    "    \n",
    "    # it's the sparse weights above that determine how much each variable will be influencing the model\n",
    "\n",
    "    transformed_embeddings = []\n",
    "    for i in range(num_static):\n",
    "        embed, _ = gated_residual_network(\n",
    "            x=embedding[:, i:i+1, :], # Selects instances of the same static variable across all batches and individuals\n",
    "            hidden_layer_size=hidden_layer_size, # Dimension of the GRN\n",
    "            output_size=hidden_layer_size, # Size of output layer (if None, same as `hidden_layer_size`)\n",
    "            dropout_rate=dropout_rate, # Dropout rate\n",
    "            use_time_distributed=False, # Does not make sense to apply the GRN across all time steps because static variables do not have a time dimension\n",
    "        )\n",
    "        transformed_embeddings.append(embed)\n",
    "    transformed_embedding = keras.ops.concatenate(transformed_embeddings, axis=1) # $\\tilde{\\xi_t^(1, \\dots, \\m_{\\chi})}$\n",
    "\n",
    "    combined = layers.Multiply()(\n",
    "        [sparse_weights, transformed_embedding]\n",
    "    )\n",
    "    \n",
    "    static_vec = keras.ops.sum(combined, axis=1) # sums across the static variables, resulting in (batch_size, hidden_layer_size)\n",
    "\n",
    "    return static_vec, sparse_weights"
   ]
  },
  {
   "cell_type": "code",
   "execution_count": 22,
   "metadata": {},
   "outputs": [
    {
     "data": {
      "text/markdown": [
       "---\n",
       "\n",
       "#### static_variable_selection\n",
       "\n",
       ">      static_variable_selection (embedding, hidden_layer_size:int,\n",
       ">                                 dropout_rate:float)\n",
       "\n",
       "Filter contribution of different static variables\n",
       "\n",
       "|    | **Type** | **Details** |\n",
       "| -- | -------- | ----------- |\n",
       "| embedding |  | Embedded static inputs, $\\xi_t$ |\n",
       "| hidden_layer_size | int | Dimension of the GRN |\n",
       "| dropout_rate | float | Dropout rate |\n",
       "| **Returns** | **(keras.KerasTensor, keras.KerasTensor)** | **$\\tilde{\\xi}_t$ with dimension (batch_size, hidden_layer_size), $\\upsilon_{\\chi t}$ with dimension (batch_size, num_static_vars, 1)** |"
      ],
      "text/plain": [
       "---\n",
       "\n",
       "#### static_variable_selection\n",
       "\n",
       ">      static_variable_selection (embedding, hidden_layer_size:int,\n",
       ">                                 dropout_rate:float)\n",
       "\n",
       "Filter contribution of different static variables\n",
       "\n",
       "|    | **Type** | **Details** |\n",
       "| -- | -------- | ----------- |\n",
       "| embedding |  | Embedded static inputs, $\\xi_t$ |\n",
       "| hidden_layer_size | int | Dimension of the GRN |\n",
       "| dropout_rate | float | Dropout rate |\n",
       "| **Returns** | **(keras.KerasTensor, keras.KerasTensor)** | **$\\tilde{\\xi}_t$ with dimension (batch_size, hidden_layer_size), $\\upsilon_{\\chi t}$ with dimension (batch_size, num_static_vars, 1)** |"
      ]
     },
     "execution_count": 22,
     "metadata": {},
     "output_type": "execute_result"
    }
   ],
   "source": [
    "#| output: asis\n",
    "#| echo: false\n",
    "\n",
    "show_doc(static_variable_selection, title_level=4)"
   ]
  },
  {
   "cell_type": "markdown",
   "metadata": {},
   "source": [
    "#### Example usage"
   ]
  },
  {
   "cell_type": "code",
   "execution_count": 23,
   "metadata": {},
   "outputs": [
    {
     "data": {
      "text/plain": [
       "TensorShape([3, 8, 16])"
      ]
     },
     "execution_count": 23,
     "metadata": {},
     "output_type": "execute_result"
    }
   ],
   "source": [
    "#| code-fold: show\n",
    "\n",
    "batch_size = 3\n",
    "n_timesteps = 5\n",
    "n_static_vars = 8\n",
    "n_temporal_vars = 11\n",
    "hidden_layer_size = 16\n",
    "\n",
    "# input dimensions: batches / timesteps / features\n",
    "static_vars = np.random.randn(batch_size*n_static_vars).reshape([batch_size, n_static_vars]) \n",
    "\n",
    "# transformed variables (\\xi_t^{(1)}, \\xi_t^{(2)})\n",
    "xi = cat_embed(\n",
    "        inputs=static_vars,\n",
    "        hidden_layer_size=hidden_layer_size\n",
    ")\n",
    "xi.shape"
   ]
  },
  {
   "cell_type": "code",
   "execution_count": 24,
   "metadata": {},
   "outputs": [
    {
     "name": "stderr",
     "output_type": "stream",
     "text": [
      "/Users/douglasaraujo/Coding/.venv_gingado/lib/python3.10/site-packages/keras/src/layers/layer.py:862: UserWarning: Layer 'flatten' (of type Flatten) was passed an input with a mask attached to it. However, this layer does not support masking and will therefore destroy the mask information. Downstream layers will not see the mask.\n",
      "  warnings.warn(\n"
     ]
    },
    {
     "data": {
      "text/plain": [
       "(TensorShape([3, 16]), TensorShape([3, 8, 1]))"
      ]
     },
     "execution_count": 24,
     "metadata": {},
     "output_type": "execute_result"
    }
   ],
   "source": [
    "#| code-fold: show\n",
    "\n",
    "static_selected_vars, static_selection_weights = static_variable_selection(xi, hidden_layer_size=hidden_layer_size, dropout_rate=0.)\n",
    "\n",
    "static_selected_vars.shape, static_selection_weights.shape"
   ]
  },
  {
   "cell_type": "code",
   "execution_count": 25,
   "metadata": {},
   "outputs": [],
   "source": [
    "def temporal_variable_selection(#__lstm_combine_and_mask(\n",
    "        embedding, # Embedded temporal inputs, $\\xi_t^(v), v \\in (1, \\dots, m_\\chi)$\n",
    "        context, # Static context variable selection, $c_s$\n",
    "        hidden_layer_size:int, # Dimension of the GRN, $d_{\\text{model}}$\n",
    "        dropout_rate:float # Dropout rate\n",
    "    )->(keras.KerasTensor, keras.KerasTensor, keras.KerasTensor): # $\\tilde{\\xi}_t$ with dimension (batch_size, ), $\\upsilon_{\\chi t}$ with dimension (batch_size, num_static_vars, 1):\n",
    "        \"Filter contribution of different temporal variables\"\n",
    "\n",
    "        # Add temporal features\n",
    "        _, time_steps, embedding_dim, num_inputs = embedding.get_shape().as_list()\n",
    "\n",
    "        flattened = keras.ops.reshape(\n",
    "            embedding,\n",
    "            [1, time_steps, embedding_dim * num_inputs]\n",
    "        )\n",
    "        expanded_static_context_c_s = keras.ops.expand_dims(\n",
    "            context,\n",
    "            axis=1\n",
    "        )\n",
    "\n",
    "        # Variable selection weights \\upsilon\n",
    "        mlp_outputs, upsilon = gated_residual_network(\n",
    "            x=flattened,\n",
    "            hidden_layer=hidden_layer_size,\n",
    "            output_size=num_inputs,\n",
    "            dropout_rate=dropout_rate,\n",
    "            use_time_distributed=True,\n",
    "            additional_context=expanded_static_context_c_s\n",
    "        )\n",
    "        sparse_weights = keras.layers.Activation('softmax')(mlp_outputs)\n",
    "        sparse_weights = keras.ops.expand_dims(sparse_weights, axis=2)\n",
    "\n",
    "        # Nonlinear processing and application of weights\n",
    "        transformed_embeddings = []\n",
    "        for i in range(num_inputs):\n",
    "            embed = gated_residual_network(\n",
    "                    embedding[Ellipsis, i],\n",
    "                    hidde_layer=hidden_layer_size,\n",
    "                    dropout_rate=dropout_rate,\n",
    "                    use_time_distributed=True\n",
    "                )\n",
    "            transformed_embeddings.append(embed)\n",
    "        transformed_embeddings = keras.ops.stack(transformed_embeddings, axis=-1)\n",
    "\n",
    "        combined = layers.Multiply()([\n",
    "            sparse_weights, transformed_embeddings\n",
    "        ])\n",
    "        temporal_ctx = keras.ops.sum(combined, axis=-1)\n",
    "\n",
    "        return temporal_ctx, sparse_weights, upsilon"
   ]
  },
  {
   "cell_type": "code",
   "execution_count": 26,
   "metadata": {},
   "outputs": [
    {
     "data": {
      "text/markdown": [
       "---\n",
       "\n",
       "#### temporal_variable_selection\n",
       "\n",
       ">      temporal_variable_selection (embedding, context, hidden_layer_size:int,\n",
       ">                                   dropout_rate:float)\n",
       "\n",
       "Filter contribution of different temporal variables\n",
       "\n",
       "|    | **Type** | **Details** |\n",
       "| -- | -------- | ----------- |\n",
       "| embedding |  | Embedded temporal inputs, $\\xi_t\\^(v), v \\in (1, \\dots, m_\\chi)$ |\n",
       "| context |  | Static context variable selection, $c_s$ |\n",
       "| hidden_layer_size | int | Dimension of the GRN, $d_{\\text{model}}$ |\n",
       "| dropout_rate | float | Dropout rate |\n",
       "| **Returns** | **(keras.KerasTensor, keras.KerasTensor, keras.KerasTensor)** | **$\\tilde{\\xi}_t$ with dimension (batch_size, ), $\\upsilon_{\\chi t}$ with dimension (batch_size, num_static_vars, 1):** |"
      ],
      "text/plain": [
       "---\n",
       "\n",
       "#### temporal_variable_selection\n",
       "\n",
       ">      temporal_variable_selection (embedding, context, hidden_layer_size:int,\n",
       ">                                   dropout_rate:float)\n",
       "\n",
       "Filter contribution of different temporal variables\n",
       "\n",
       "|    | **Type** | **Details** |\n",
       "| -- | -------- | ----------- |\n",
       "| embedding |  | Embedded temporal inputs, $\\xi_t\\^(v), v \\in (1, \\dots, m_\\chi)$ |\n",
       "| context |  | Static context variable selection, $c_s$ |\n",
       "| hidden_layer_size | int | Dimension of the GRN, $d_{\\text{model}}$ |\n",
       "| dropout_rate | float | Dropout rate |\n",
       "| **Returns** | **(keras.KerasTensor, keras.KerasTensor, keras.KerasTensor)** | **$\\tilde{\\xi}_t$ with dimension (batch_size, ), $\\upsilon_{\\chi t}$ with dimension (batch_size, num_static_vars, 1):** |"
      ]
     },
     "execution_count": 26,
     "metadata": {},
     "output_type": "execute_result"
    }
   ],
   "source": [
    "#| output: asis\n",
    "#| echo: false\n",
    "\n",
    "show_doc(temporal_variable_selection, title_level=4)"
   ]
  },
  {
   "cell_type": "markdown",
   "metadata": {},
   "source": [
    "#### Example usage"
   ]
  },
  {
   "cell_type": "markdown",
   "metadata": {},
   "source": [
    "### Sequence-to-sequence layer (LSTM)"
   ]
  },
  {
   "cell_type": "code",
   "execution_count": 27,
   "metadata": {},
   "outputs": [],
   "source": [
    "def seq_to_seq(\n",
    "    hidden_layer_size:int, # Size of hidden layer\n",
    "    dropout_rate:float, # Dropout rate\n",
    "    historical_features, # $\\tilde{\\xi}_{t-k:t}$ with dimensions (batch_size, n_timesteps, hidden_layer_size)\n",
    "    future_features, # $\\tilde{\\xi}_{t+1:t+\\tau_{\\text{max}}}$ with dimensions (batch_size, n_timesteps, hidden_layer_size)\n",
    "    static_context_state_h, # static context to act as short-term state, $c_h$\n",
    "    static_context_state_c  # static context to act as long-term state, $c_c$\n",
    "):\n",
    "\n",
    "    # LSTM layers: LSTM Encoder for encoding past inputs\n",
    "    # because `return_sequences=True`, the output dimensions are\n",
    "    # history_lstm_encoder: (batch_size, n_timesteps, hidden_layer_size)\n",
    "    # state_h: (batch_size, hidden_layer_size)\n",
    "    # state_c: (batch_size, hidden_layer_size)\n",
    "    history_lstm_encoder, state_h, state_c = layers.LSTM(\n",
    "        units=hidden_layer_size,\n",
    "        return_sequences=True,\n",
    "        return_state=True,\n",
    "        stateful=False,\n",
    "        activation='tanh',\n",
    "        recurrent_activation='sigmoid',\n",
    "        recurrent_dropout=0,\n",
    "        unroll=False,\n",
    "        use_bias=True)(\n",
    "            inputs=historical_features,\n",
    "            initial_state=[\n",
    "                static_context_state_h, # short-term state\n",
    "                static_context_state_c  # long-term state\n",
    "            ]\n",
    "        )\n",
    "\n",
    "    # LSTM layers: LSTM Decoder for decoding future inputs\n",
    "    # because `return_sequences=True`, the output dimensions are\n",
    "    # future_lstm_decoder: (batch_size, n_timesteps, hidden_layer_size)\n",
    "    future_lstm_decoder = layers.LSTM(\n",
    "        units=hidden_layer_size,\n",
    "        return_sequences=True,\n",
    "        return_state=False,\n",
    "        stateful=False,\n",
    "        activation='tanh',\n",
    "        recurrent_activation='sigmoid',\n",
    "        recurrent_dropout=0,\n",
    "        unroll=False,\n",
    "        use_bias=True)(\n",
    "            inputs=future_features,\n",
    "            initial_stage=[\n",
    "                state_h, # short-term state\n",
    "                state_c  # long-term state\n",
    "            ]\n",
    "        )\n",
    "\n",
    "    # this step concatenates at the time dimension, ie\n",
    "    # the time series of history internal states are now\n",
    "    # concated in sequence with the series of future internal states\n",
    "    # $\\phi(t,n) \\in \\{\\phi(t,-k), \\dots, \\phi(t, \\tau_{\\text{max}})\\}$\n",
    "    lstm_layer = keras.ops.concatenate([history_lstm_encoder, future_lstm_decoder], axis=1)\n",
    "\n",
    "    # Apply gated skip connection (Gate followed by Add & Norm)\n",
    "    lstm_layer, _ = apply_gating_layer(\n",
    "        x=lstm_layer, # Input tensors (batch first)\n",
    "        hidden_layer_size=hidden_layer_size, # Dimension of the GLU\n",
    "        dropout_rate=dropout_rate, # Dropout rate\n",
    "        use_time_distributed=True, # Apply the GLU across all time steps?\n",
    "        activation=None # Activation function\n",
    "    )\n",
    "    \n",
    "    input_embeddings = keras.ops.concatenate(\n",
    "        [historical_features, future_features],\n",
    "        axis=1\n",
    "    )\n",
    "    # it's the temporal feature layer that is fed into the Temporal Fusion Decoder\n",
    "    return add_and_norm([lstm_layer, input_embeddings])"
   ]
  },
  {
   "cell_type": "code",
   "execution_count": 28,
   "metadata": {},
   "outputs": [
    {
     "data": {
      "text/markdown": [
       "---\n",
       "\n",
       "#### seq_to_seq\n",
       "\n",
       ">      seq_to_seq (hidden_layer_size:int, dropout_rate:float,\n",
       ">                  historical_features, future_features, static_context_state_h,\n",
       ">                  static_context_state_c)\n",
       "\n",
       "|    | **Type** | **Details** |\n",
       "| -- | -------- | ----------- |\n",
       "| hidden_layer_size | int | Size of hidden layer |\n",
       "| dropout_rate | float | Dropout rate |\n",
       "| historical_features |  | $\\tilde{\\xi}_{t-k:t}$ with dimensions (batch_size, n_timesteps, hidden_layer_size) |\n",
       "| future_features |  | $\\tilde{\\xi}_{t+1:t+\\tau_{\\text{max}}}$ with dimensions (batch_size, n_timesteps, hidden_layer_size) |\n",
       "| static_context_state_h |  | static context to act as short-term state, $c_h$ |\n",
       "| static_context_state_c |  | static context to act as long-term state, $c_c$ |"
      ],
      "text/plain": [
       "---\n",
       "\n",
       "#### seq_to_seq\n",
       "\n",
       ">      seq_to_seq (hidden_layer_size:int, dropout_rate:float,\n",
       ">                  historical_features, future_features, static_context_state_h,\n",
       ">                  static_context_state_c)\n",
       "\n",
       "|    | **Type** | **Details** |\n",
       "| -- | -------- | ----------- |\n",
       "| hidden_layer_size | int | Size of hidden layer |\n",
       "| dropout_rate | float | Dropout rate |\n",
       "| historical_features |  | $\\tilde{\\xi}_{t-k:t}$ with dimensions (batch_size, n_timesteps, hidden_layer_size) |\n",
       "| future_features |  | $\\tilde{\\xi}_{t+1:t+\\tau_{\\text{max}}}$ with dimensions (batch_size, n_timesteps, hidden_layer_size) |\n",
       "| static_context_state_h |  | static context to act as short-term state, $c_h$ |\n",
       "| static_context_state_c |  | static context to act as long-term state, $c_c$ |"
      ]
     },
     "execution_count": 28,
     "metadata": {},
     "output_type": "execute_result"
    }
   ],
   "source": [
    "#| output: asis\n",
    "#| echo: false\n",
    "\n",
    "show_doc(seq_to_seq, title_level=4)"
   ]
  },
  {
   "cell_type": "markdown",
   "metadata": {},
   "source": [
    "#### Example usage"
   ]
  },
  {
   "cell_type": "code",
   "execution_count": 153,
   "metadata": {},
   "outputs": [],
   "source": [
    "#| code-fold: show\n",
    "\n",
    "batch_size = 3\n",
    "hidden_layer_size = 5\n",
    "k = 13 # lags\n",
    "tau_max = 7 # prediction steps ahead\n",
    "\n",
    "past_inputs = np.ones(shape=(batch_size, k, hidden_layer_size))\n",
    "future_inputs = np.ones(shape=(batch_size, tau_max, hidden_layer_size))\n",
    "\n",
    "static_context_state_h=np.zeros(shape=(batch_size, hidden_layer_size, 1))\n",
    "static_context_state_c=np.zeros(shape=(batch_size, hidden_layer_size, 1))"
   ]
  },
  {
   "cell_type": "code",
   "execution_count": 154,
   "metadata": {},
   "outputs": [
    {
     "ename": "TypeError",
     "evalue": "seq_to_seq() missing 6 required positional arguments: 'hidden_layer_size', 'dropout_rate', 'historical_features', 'future_features', 'static_context_state_h', and 'static_context_state_c'",
     "output_type": "error",
     "traceback": [
      "\u001b[0;31m---------------------------------------------------------------------------\u001b[0m",
      "\u001b[0;31mTypeError\u001b[0m                                 Traceback (most recent call last)",
      "\u001b[1;32m/Users/douglasaraujo/Coding/TemporalFusionTransformers/temporal_fusion_transformers.ipynb Cell 57\u001b[0m in \u001b[0;36m<module>\u001b[0;34m\u001b[0m\n\u001b[0;32m----> <a href='vscode-notebook-cell:/Users/douglasaraujo/Coding/TemporalFusionTransformers/temporal_fusion_transformers.ipynb#Y326sZmlsZQ%3D%3D?line=0'>1</a>\u001b[0m seq_to_seq()\n",
      "\u001b[0;31mTypeError\u001b[0m: seq_to_seq() missing 6 required positional arguments: 'hidden_layer_size', 'dropout_rate', 'historical_features', 'future_features', 'static_context_state_h', and 'static_context_state_c'"
     ]
    }
   ],
   "source": [
    "seq_to_seq()"
   ]
  },
  {
   "cell_type": "markdown",
   "metadata": {},
   "source": [
    "### Attention components\n",
    "\n",
    "* Attention mechanisms use relationships between keys $K \\in \\mathbf{R}^{N \\times d_{attention}}$ and queries $Q \\in \\mathbf{R}^{N \\times d_{attention}}$ to scale a vector of values $V \\in \\mathbf{R}^{N \\times d_V}$: $\\text{Attention}(Q, K, V) = A(Q, K) V$\n",
    "    * $N$ is the number of timesteps going into the attention layer (the number of lags $k$ plus the number of periods to be forecasted $\\tau_{\\text{max}}$)\n",
    "    * $A(\\cdot)$ is a normalisation function\n",
    "        * After @vaswani2017attention, the canonical choice for $A(\\cdot)$ is the scaled dot-product: $A(Q, K) = \\text{Softmax}(\\frac{Q K^{T}}{\\sqrt{d_{attention}}} )$\n",
    "    \n",
    "* The TFT uses a modified attention head to enhance the explainability of the model\n",
    "* Specifically, the transformer block (multi-head attention) is modified to:\n",
    "    * share values in each head, and\n",
    "    * employ additive aggregation of all heads\n",
    "* More formally, compare the interpretable multi-head attention (used in this paper) with the canonical multi-head attention:\n",
    "    * $\\text{InterpretableMultiHead}(Q, K, V) = \\tilde{H} W_{H}$, with:\n",
    "        * $\\begin{aligned}\\tilde{H} &= \\tilde{A}(Q, K) V W_V \\\\\n",
    "        &= \\{\\frac{1}{m_H} \\sum^{m_{H}}_{h=1} A(Q W^{(h)}_Q, K W^{(h)}_K) \\} V W_V \\\\\n",
    "        &= \\frac{1}{m_H} \\sum^{m_{H}}_{h=1} \\text{Attention}(Q W^{(h)}_Q, K W^{(h)}_K, V W_V)\n",
    "        \\end{aligned}$\n",
    "    * $\\text{MultiHead}(Q, K, V) = [H_1, \\dots, H_{m_H}] W_H$, with:\n",
    "        * $H_h = \\text{Attention}(Q W^{(h)}_Q, K W^{(h)}_K, V W_V^{(h)}) $"
   ]
  },
  {
   "cell_type": "markdown",
   "metadata": {},
   "source": [
    "### Decoder mask for self-attention layer"
   ]
  },
  {
   "cell_type": "code",
   "execution_count": 30,
   "metadata": {},
   "outputs": [],
   "source": [
    "def get_decoder_mask(\n",
    "    self_attention_inputs # Inputs to the self-attention layer\n",
    "):\n",
    "    \"Determines shape of decoder mask\"\n",
    "    len_s = keras.ops.shape(self_attention_inputs)[1] # length of inputs\n",
    "    bs = keras.ops.shape(self_attention_inputs)[0] # batch shape\n",
    "    mask = keras.ops.cumsum(keras.ops.eye(len_s), 1) #keras.backend.cumsum(np.eye(len_s, bs))\n",
    "\n",
    "    ### warning: I had to manually implement some batch-wise shape here \n",
    "    ### because the new keras `eye` function does not have a batch_size arg.\n",
    "    ### inspired by: https://github.com/tensorflow/tensorflow/blob/v2.14.0/tensorflow/python/ops/linalg_ops_impl.py#L30\n",
    "    ### <hack>\n",
    "    mask = keras.ops.expand_dims(mask, axis=0)    \n",
    "    mask = keras.ops.tile(mask, (bs, 1, 1))\n",
    "    ### </hack>\n",
    "\n",
    "    return mask\n"
   ]
  },
  {
   "cell_type": "code",
   "execution_count": 31,
   "metadata": {},
   "outputs": [
    {
     "data": {
      "text/markdown": [
       "---\n",
       "\n",
       "#### get_decoder_mask\n",
       "\n",
       ">      get_decoder_mask (self_attention_inputs)\n",
       "\n",
       "Determines shape of decoder mask\n",
       "\n",
       "|    | **Details** |\n",
       "| -- | ----------- |\n",
       "| self_attention_inputs | Inputs to the self-attention layer |"
      ],
      "text/plain": [
       "---\n",
       "\n",
       "#### get_decoder_mask\n",
       "\n",
       ">      get_decoder_mask (self_attention_inputs)\n",
       "\n",
       "Determines shape of decoder mask\n",
       "\n",
       "|    | **Details** |\n",
       "| -- | ----------- |\n",
       "| self_attention_inputs | Inputs to the self-attention layer |"
      ]
     },
     "execution_count": 31,
     "metadata": {},
     "output_type": "execute_result"
    }
   ],
   "source": [
    "#| output: asis\n",
    "#| echo: false\n",
    "\n",
    "show_doc(get_decoder_mask, title_level=4)"
   ]
  },
  {
   "cell_type": "markdown",
   "metadata": {},
   "source": [
    "#### Example usage"
   ]
  },
  {
   "cell_type": "code",
   "execution_count": 32,
   "metadata": {},
   "outputs": [],
   "source": [
    "#| code-fold: show\n",
    "\n",
    "dec = get_decoder_mask(grn)\n",
    "\n",
    "assert dec.shape == (batch_size, n_timesteps, n_timesteps)"
   ]
  },
  {
   "cell_type": "markdown",
   "metadata": {},
   "source": [
    "Note that it produces an upper-triangular matrix of ones:"
   ]
  },
  {
   "cell_type": "code",
   "execution_count": 33,
   "metadata": {},
   "outputs": [
    {
     "data": {
      "text/plain": [
       "<tf.Tensor: shape=(5, 5), dtype=float32, numpy=\n",
       "array([[1., 1., 1., 1., 1.],\n",
       "       [0., 1., 1., 1., 1.],\n",
       "       [0., 0., 1., 1., 1.],\n",
       "       [0., 0., 0., 1., 1.],\n",
       "       [0., 0., 0., 0., 1.]], dtype=float32)>"
      ]
     },
     "execution_count": 33,
     "metadata": {},
     "output_type": "execute_result"
    }
   ],
   "source": [
    "#| code-fold: show\n",
    "\n",
    "dec[0]"
   ]
  },
  {
   "cell_type": "markdown",
   "metadata": {},
   "source": [
    "### Scaled dot product attention layer\n",
    "\n",
    "* This is the same as Eq. (1) of @vaswani2017attention \n",
    "    * except that in this case the dimension of the value vector is the same $d_{\\text{model}}$ as for the query and key vectors\n",
    "* As discussed in the paper, additive attention outperforms dot product attention for larger $d_{\\text{model}}$ values, so the attention is scaled back to smaller values"
   ]
  },
  {
   "cell_type": "code",
   "execution_count": 34,
   "metadata": {},
   "outputs": [],
   "source": [
    "class ScaledDotProductAttention():\n",
    "    def __init__(\n",
    "        self,\n",
    "        training:bool=True, # Whether the layer is being trained or used in inference\n",
    "        attention_dropout:float=0.0 # Will be ignored if `training=False`\n",
    "    ):\n",
    "        self.training = training\n",
    "        self.dropout = keras.layers.Dropout(rate=attention_dropout)\n",
    "        self.activation = keras.layers.Activation('softmax')\n",
    "\n",
    "    def __call__(\n",
    "        self,\n",
    "        q, # Queries, tensor of shape (?, time, D_model)\n",
    "        k, # Keys, tensor of shape (?, time, D_model)\n",
    "        v, # Values, tensor of shape (?, time, D_model)\n",
    "        mask # Masking if required (sets Softmax to very large value), tensor of shape (?, time, time)\n",
    "    ):\n",
    "        # returns Tuple (layer outputs, attention weights)\n",
    "        scale = keras.ops.sqrt(keras.ops.cast(keras.ops.shape(k)[-1], dtype='float32'))\n",
    "        attention = keras.ops.einsum(\"bij,bjk->bik\", q, keras.ops.transpose(k, axes=(0, 2, 1))) / scale\n",
    "        if mask is not None:\n",
    "            mmask = keras.layers.Lambda(lambda x: (-1e9) * (1. - keras.ops.cast(x, 'float32')))(mask)\n",
    "            attention = keras.layers.Add()([attention, mmask])\n",
    "        attention = self.activation(attention)\n",
    "        if self.training:\n",
    "            attention = self.dropout(attention)\n",
    "        output = keras.ops.einsum(\"btt,btd->bt\", attention, v)\n",
    "        return output, attention"
   ]
  },
  {
   "cell_type": "code",
   "execution_count": 35,
   "metadata": {},
   "outputs": [
    {
     "data": {
      "text/markdown": [
       "---\n",
       "\n",
       "#### ScaledDotProductAttention\n",
       "\n",
       ">      ScaledDotProductAttention (training:bool=True,\n",
       ">                                 attention_dropout:float=0.0)\n",
       "\n",
       "Initialize self.  See help(type(self)) for accurate signature.\n",
       "\n",
       "|    | **Type** | **Default** | **Details** |\n",
       "| -- | -------- | ----------- | ----------- |\n",
       "| training | bool | True | Whether the layer is being trained or used in inference |\n",
       "| attention_dropout | float | 0.0 | Will be ignored if `training=False` |"
      ],
      "text/plain": [
       "---\n",
       "\n",
       "#### ScaledDotProductAttention\n",
       "\n",
       ">      ScaledDotProductAttention (training:bool=True,\n",
       ">                                 attention_dropout:float=0.0)\n",
       "\n",
       "Initialize self.  See help(type(self)) for accurate signature.\n",
       "\n",
       "|    | **Type** | **Default** | **Details** |\n",
       "| -- | -------- | ----------- | ----------- |\n",
       "| training | bool | True | Whether the layer is being trained or used in inference |\n",
       "| attention_dropout | float | 0.0 | Will be ignored if `training=False` |"
      ]
     },
     "execution_count": 35,
     "metadata": {},
     "output_type": "execute_result"
    }
   ],
   "source": [
    "#| output: asis\n",
    "#| echo: false\n",
    "\n",
    "show_doc(ScaledDotProductAttention, title_level=4)"
   ]
  },
  {
   "cell_type": "markdown",
   "metadata": {},
   "source": [
    "#### Example usage\n",
    "Below is an example of how the `ScaledDotProductAttention` layer works:"
   ]
  },
  {
   "cell_type": "code",
   "execution_count": 36,
   "metadata": {},
   "outputs": [],
   "source": [
    "#| code-fold: show\n",
    "\n",
    "batch_size = 3\n",
    "n_timesteps = 5\n",
    "n_features = 13\n",
    "\n",
    "# input dimensions: batches / timesteps / features\n",
    "x_btf = np.random.randn(batch_size*n_timesteps*n_features).reshape([batch_size, n_timesteps, n_features]) \n",
    "\n",
    "# using the same vector for q, k and v just to simplify\n",
    "q=keras.ops.cast(x_btf, 'float32')\n",
    "k=keras.ops.cast(x_btf, 'float32')\n",
    "v=keras.ops.cast(x_btf, 'float32')"
   ]
  },
  {
   "cell_type": "markdown",
   "metadata": {},
   "source": [
    "Testing without masking:"
   ]
  },
  {
   "cell_type": "code",
   "execution_count": 37,
   "metadata": {},
   "outputs": [
    {
     "data": {
      "text/plain": [
       "(<tf.Tensor: shape=(3, 5), dtype=float32, numpy=\n",
       " array([[ -2.4535403 ,   0.571666  ,  -1.9602263 ,   1.1239247 ,\n",
       "           0.96486485],\n",
       "        [  7.299093  ,   1.9607214 ,  -0.28123808,  -0.6920938 ,\n",
       "          -0.8097032 ],\n",
       "        [  0.19816932,  -0.6766071 ,   1.5581406 , -10.929269  ,\n",
       "          -3.0608633 ]], dtype=float32)>,\n",
       " <tf.Tensor: shape=(3, 5, 5), dtype=float32, numpy=\n",
       " array([[[8.94534528e-01, 3.18587832e-02, 3.38544957e-02, 6.13382878e-03,\n",
       "          3.36182490e-02],\n",
       "         [1.65049255e-01, 5.62632322e-01, 1.01800732e-01, 1.04192905e-01,\n",
       "          6.63247034e-02],\n",
       "         [1.95234024e-03, 1.13319769e-03, 9.96073008e-01, 6.21765677e-04,\n",
       "          2.19823531e-04],\n",
       "         [1.56616922e-02, 5.13524041e-02, 2.75292639e-02, 8.40893269e-01,\n",
       "          6.45634308e-02],\n",
       "         [1.61171004e-01, 6.13765791e-02, 1.82745587e-02, 1.21224776e-01,\n",
       "          6.37953043e-01]],\n",
       " \n",
       "        [[9.64461923e-01, 1.66457985e-02, 8.47321656e-03, 1.52241287e-03,\n",
       "          8.89656227e-03],\n",
       "         [7.50466734e-02, 6.63813889e-01, 6.99727088e-02, 1.54261336e-01,\n",
       "          3.69053669e-02],\n",
       "         [1.56516433e-02, 2.86690760e-02, 8.99434507e-01, 4.78358679e-02,\n",
       "          8.40876158e-03],\n",
       "         [2.77038175e-03, 6.22640662e-02, 4.71247509e-02, 8.03173184e-01,\n",
       "          8.46676752e-02],\n",
       "         [4.45878953e-02, 4.10258397e-02, 2.28147060e-02, 2.33187482e-01,\n",
       "          6.58384085e-01]],\n",
       " \n",
       "        [[6.44835055e-01, 1.31041527e-01, 1.40223622e-01, 1.99132133e-02,\n",
       "          6.39865547e-02],\n",
       "         [6.51756898e-02, 7.06243813e-01, 1.40101984e-01, 4.65258025e-02,\n",
       "          4.19528149e-02],\n",
       "         [1.17412060e-01, 2.35862598e-01, 5.58558226e-01, 2.25266088e-02,\n",
       "          6.56404719e-02],\n",
       "         [1.43443025e-03, 6.73837448e-03, 1.93794887e-03, 9.61983204e-01,\n",
       "          2.79059969e-02],\n",
       "         [2.35856902e-02, 3.10916826e-02, 2.88961511e-02, 1.42797098e-01,\n",
       "          7.73629367e-01]]], dtype=float32)>)"
      ]
     },
     "execution_count": 37,
     "metadata": {},
     "output_type": "execute_result"
    }
   ],
   "source": [
    "#| code-fold: show\n",
    "\n",
    "output, attention = ScaledDotProductAttention()(q=q, k=k, v=v, mask=None)\n",
    "output, attention # both have shape (batch_size, n_timesteps)"
   ]
  },
  {
   "cell_type": "markdown",
   "metadata": {},
   "source": [
    "... and with masking:"
   ]
  },
  {
   "cell_type": "code",
   "execution_count": 38,
   "metadata": {},
   "outputs": [
    {
     "data": {
      "text/plain": [
       "(<tf.Tensor: shape=(3, 5), dtype=float32, numpy=\n",
       " array([[ -2.4535403 ,   0.6846703 ,  -1.9662931 ,   1.2412794 ,\n",
       "           1.5124385 ],\n",
       "        [  7.299093  ,   2.1198056 ,  -0.29428083,  -0.7795246 ,\n",
       "          -1.2298341 ],\n",
       "        [  0.19816932,  -0.7237799 ,   2.4092772 , -11.040901  ,\n",
       "          -3.9564981 ]], dtype=float32)>,\n",
       " <tf.Tensor: shape=(3, 5, 5), dtype=float32, numpy=\n",
       " array([[[8.94534528e-01, 3.18587832e-02, 3.38544957e-02, 6.13382878e-03,\n",
       "          3.36182490e-02],\n",
       "         [0.00000000e+00, 6.73850954e-01, 1.21924244e-01, 1.24789290e-01,\n",
       "          7.94354752e-02],\n",
       "         [0.00000000e+00, 0.00000000e+00, 9.99155819e-01, 6.23690023e-04,\n",
       "          2.20503876e-04],\n",
       "         [0.00000000e+00, 0.00000000e+00, 0.00000000e+00, 9.28695142e-01,\n",
       "          7.13048279e-02],\n",
       "         [0.00000000e+00, 0.00000000e+00, 0.00000000e+00, 0.00000000e+00,\n",
       "          9.99999940e-01]],\n",
       " \n",
       "        [[9.64461923e-01, 1.66457985e-02, 8.47321656e-03, 1.52241287e-03,\n",
       "          8.89656227e-03],\n",
       "         [0.00000000e+00, 7.17672825e-01, 7.56499842e-02, 1.66777417e-01,\n",
       "          3.98997031e-02],\n",
       "         [0.00000000e+00, 0.00000000e+00, 9.41146791e-01, 5.00543118e-02,\n",
       "          8.79872777e-03],\n",
       "         [0.00000000e+00, 0.00000000e+00, 0.00000000e+00, 9.04636443e-01,\n",
       "          9.53635722e-02],\n",
       "         [0.00000000e+00, 0.00000000e+00, 0.00000000e+00, 0.00000000e+00,\n",
       "          1.00000000e+00]],\n",
       " \n",
       "        [[6.44835055e-01, 1.31041527e-01, 1.40223622e-01, 1.99132133e-02,\n",
       "          6.39865547e-02],\n",
       "         [0.00000000e+00, 7.55482912e-01, 1.49869844e-01, 4.97695655e-02,\n",
       "          4.48777489e-02],\n",
       "         [0.00000000e+00, 0.00000000e+00, 8.63671482e-01, 3.48318033e-02,\n",
       "          1.01496674e-01],\n",
       "         [0.00000000e+00, 0.00000000e+00, 0.00000000e+00, 9.71808910e-01,\n",
       "          2.81910282e-02],\n",
       "         [0.00000000e+00, 0.00000000e+00, 0.00000000e+00, 0.00000000e+00,\n",
       "          1.00000000e+00]]], dtype=float32)>)"
      ]
     },
     "execution_count": 38,
     "metadata": {},
     "output_type": "execute_result"
    }
   ],
   "source": [
    "#| code-fold: show\n",
    "\n",
    "output, attention = ScaledDotProductAttention()(q=q, k=k, v=v, mask=get_decoder_mask(q))\n",
    "output, attention # both have shape (batch_size, n_timesteps)"
   ]
  },
  {
   "cell_type": "markdown",
   "metadata": {},
   "source": [
    "### Softmax\n",
    "\n",
    "A small detour to illustrate the softmax function. \n",
    "\n",
    "The $i^{\\text{th}}$ element of $\\text{Softmax}(x)$, with $x \\in \\mathbf{R}^K$ is:\n",
    "\n",
    "$$\n",
    "\\text{Softmax}(x)_i = \\frac{e^{x_i}}{\\sum_{j=1}^K e^{x_j}}\n",
    "$$"
   ]
  },
  {
   "cell_type": "markdown",
   "metadata": {},
   "source": [
    "For example, see the values below for an input vector $x$ ($K=5$ in this example):"
   ]
  },
  {
   "cell_type": "code",
   "execution_count": 39,
   "metadata": {},
   "outputs": [
    {
     "name": "stdout",
     "output_type": "stream",
     "text": [
      "x =  [-inf  -1.   0.   1.   3.]\n",
      "exp(x) =  [ 0.          0.36787944  1.          2.71828183 20.08553692]\n",
      "denominator (sum of exp(x_j), j=1,...,K) =  24.171698192818155\n",
      "softmax(x) =  [0.         0.01521943 0.0413707  0.11245721 0.83095266]\n",
      "sum of softmax(x)_j, j=1,...,K =  1.0\n"
     ]
    }
   ],
   "source": [
    "#| code-fold: show\n",
    "\n",
    "x = np.array([-np.Inf, -1., 0., 1., 3.])\n",
    "keras.layers.Activation('softmax')(x)\n",
    "print(\"x = \", x)\n",
    "print(\"exp(x) = \", np.exp(x))\n",
    "print(\"denominator (sum of exp(x_j), j=1,...,K) = \", sum(np.exp(x)))\n",
    "print(\"softmax(x) = \", np.exp(x) / sum(np.exp(x)))\n",
    "print(\"sum of softmax(x)_j, j=1,...,K = \", sum(np.exp(x) / sum(np.exp(x))))"
   ]
  },
  {
   "cell_type": "markdown",
   "metadata": {},
   "source": [
    "As can be seen above, the softmax function really makes the largest numbers stand out from the rest.\n",
    "\n",
    "Note also that $-\\infty$ results in 0."
   ]
  },
  {
   "cell_type": "markdown",
   "metadata": {},
   "source": [
    "### Interpretable Multi-head attention\n",
    "\n",
    "* When values are shared in each head and then are aggregated additively, each head still lcan learn different temporal patterns (from their own unique queries and keys), but with the same input values.\n",
    "    * In other words, they can be interpreted as an ensemble over the attention weights\n",
    "    * the paper doesn't mention this explicitly, but the ensemble is equally-weighted - maybe there is some performance to be gained by having some way to weight the different attention heads 🤔, such as having a linear layer combining them... will explore in the future"
   ]
  },
  {
   "cell_type": "code",
   "execution_count": 40,
   "metadata": {},
   "outputs": [],
   "source": [
    "class InterpretableMultiHeadAttention():\n",
    "    def __init__(\n",
    "        self,\n",
    "        n_head:int,\n",
    "        d_model:int,\n",
    "        training:bool=True, # Whether the layer is being trained or used in inference\n",
    "        dropout:float=0.0 # Will be ignored if `training=False`\n",
    "    ):\n",
    "        self.n_head = n_head\n",
    "        self.d_k = self.d_v = d_k = d_v = d_model // n_head # the original model divides by number of heads\n",
    "        self.training = training\n",
    "        self.dropout = dropout\n",
    "\n",
    "        # using the same value layer facilitates interpretability\n",
    "        vs_layer = keras.layers.Dense(d_v, use_bias=False, name=\"Shared value\")\n",
    "\n",
    "        # creates list of queries, keys and values across heads\n",
    "        self.qs_layers = self._build_layers(d_k, n_head)\n",
    "        self.ks_layers = self._build_layers(d_k, n_head)\n",
    "        self.vs_layers = [vs_layer for _ in range(n_head)]\n",
    "\n",
    "        self.attention = ScaledDotProductAttention()\n",
    "        self.w_o = keras.layers.Dense(d_v, use_bias=False, name=\"W_v\") # W_v in Eqs. (14)-(16), output weight matrix to project internal state to the original TFT\n",
    "\n",
    "    def __call__(\n",
    "        self,\n",
    "        q, # Queries, tensor of shape (?, time, D_model)\n",
    "        k, # Keys, tensor of shape (?, time, D_model)\n",
    "        v, # Values, tensor of shape (?, time, D_model)\n",
    "        mask=None # Masking if required (sets Softmax to very large value), tensor of shape (?, time, time)\n",
    "    ):\n",
    "        heads = []\n",
    "        attns = []\n",
    "        for i in range(self.n_head):\n",
    "            qs = self.qs_layers[i](q)\n",
    "            ks = self.ks_layers[i](q)\n",
    "            vs = self.vs_layers[i](v)\n",
    "           \n",
    "            head, attn = self.attention(qs, ks, vs, mask)\n",
    "            if self.training:\n",
    "                head = keras.layers.Dropout(self.dropout)(head)\n",
    "            heads.append(head)\n",
    "            attns.append(attn)\n",
    "\n",
    "        outputs = keras.ops.mean(heads, axis=0) if self.n_head > 1 else head # H_tilde\n",
    "        outputs = self.w_o(outputs)\n",
    "        if self.training:\n",
    "            outputs = keras.layers.Dropout(self.dropout)(outputs)\n",
    "\n",
    "        return outputs, attn\n",
    "\n",
    "    def _build_layers(self, d:int, n_head:int):\n",
    "            return [keras.layers.Dense(d) for _ in range(n_head)]"
   ]
  },
  {
   "cell_type": "code",
   "execution_count": 41,
   "metadata": {},
   "outputs": [
    {
     "data": {
      "text/markdown": [
       "---\n",
       "\n",
       "#### InterpretableMultiHeadAttention\n",
       "\n",
       ">      InterpretableMultiHeadAttention (n_head:int, d_model:int,\n",
       ">                                       training:bool=True, dropout:float=0.0)\n",
       "\n",
       "Initialize self.  See help(type(self)) for accurate signature.\n",
       "\n",
       "|    | **Type** | **Default** | **Details** |\n",
       "| -- | -------- | ----------- | ----------- |\n",
       "| n_head | int |  |  |\n",
       "| d_model | int |  |  |\n",
       "| training | bool | True | Whether the layer is being trained or used in inference |\n",
       "| dropout | float | 0.0 | Will be ignored if `training=False` |"
      ],
      "text/plain": [
       "---\n",
       "\n",
       "#### InterpretableMultiHeadAttention\n",
       "\n",
       ">      InterpretableMultiHeadAttention (n_head:int, d_model:int,\n",
       ">                                       training:bool=True, dropout:float=0.0)\n",
       "\n",
       "Initialize self.  See help(type(self)) for accurate signature.\n",
       "\n",
       "|    | **Type** | **Default** | **Details** |\n",
       "| -- | -------- | ----------- | ----------- |\n",
       "| n_head | int |  |  |\n",
       "| d_model | int |  |  |\n",
       "| training | bool | True | Whether the layer is being trained or used in inference |\n",
       "| dropout | float | 0.0 | Will be ignored if `training=False` |"
      ]
     },
     "execution_count": 41,
     "metadata": {},
     "output_type": "execute_result"
    }
   ],
   "source": [
    "#| output: asis\n",
    "#| echo: false\n",
    "\n",
    "show_doc(InterpretableMultiHeadAttention, title_level=4)"
   ]
  },
  {
   "cell_type": "markdown",
   "metadata": {},
   "source": [
    "#### Example usage"
   ]
  },
  {
   "cell_type": "code",
   "execution_count": 42,
   "metadata": {},
   "outputs": [],
   "source": [
    "#| code-fold: show\n",
    "\n",
    "imha = InterpretableMultiHeadAttention(n_head=8, d_model=16)"
   ]
  },
  {
   "cell_type": "code",
   "execution_count": 43,
   "metadata": {},
   "outputs": [
    {
     "data": {
      "text/plain": [
       "TensorShape([3, 5, 17])"
      ]
     },
     "execution_count": 43,
     "metadata": {},
     "output_type": "execute_result"
    }
   ],
   "source": [
    "#| code-fold: show\n",
    "\n",
    "grn.shape # B, T, F"
   ]
  },
  {
   "cell_type": "code",
   "execution_count": 44,
   "metadata": {},
   "outputs": [
    {
     "data": {
      "text/plain": [
       "TensorShape([3, 5, 5])"
      ]
     },
     "execution_count": 44,
     "metadata": {},
     "output_type": "execute_result"
    }
   ],
   "source": [
    "#| code-fold: show\n",
    "\n",
    "mask = get_decoder_mask(grn)\n",
    "mask.shape # B, T, T"
   ]
  },
  {
   "cell_type": "code",
   "execution_count": 45,
   "metadata": {},
   "outputs": [
    {
     "data": {
      "text/plain": [
       "(<tf.Tensor: shape=(3, 2), dtype=float32, numpy=\n",
       " array([[-0.0843555, -0.6175404],\n",
       "        [ 1.6576209,  1.3923272],\n",
       "        [-2.607572 , -2.3956532]], dtype=float32)>,\n",
       " <tf.Tensor: shape=(3, 5, 5), dtype=float32, numpy=\n",
       " array([[[0.1901174 , 0.59195393, 0.01528532, 0.15810408, 0.04453923],\n",
       "         [0.        , 0.25491545, 0.25671932, 0.24841288, 0.23995247],\n",
       "         [0.        , 0.        , 0.3709991 , 0.48096004, 0.14804068],\n",
       "         [0.        , 0.        , 0.        , 0.2579211 , 0.74207884],\n",
       "         [0.        , 0.        , 0.        , 0.        , 0.99999994]],\n",
       " \n",
       "        [[0.79281175, 0.06322197, 0.00107769, 0.14123029, 0.00165826],\n",
       "         [0.        , 0.01943918, 0.4687475 , 0.0087786 , 0.50303465],\n",
       "         [0.        , 0.        , 0.20982023, 0.00480776, 0.785372  ],\n",
       "         [0.        , 0.        , 0.        , 0.04265004, 0.95735   ],\n",
       "         [0.        , 0.        , 0.        , 0.        , 1.        ]],\n",
       " \n",
       "        [[0.31517228, 0.05864988, 0.0798993 , 0.05370067, 0.49257788],\n",
       "         [0.        , 0.12242372, 0.77560824, 0.10032991, 0.00163822],\n",
       "         [0.        , 0.        , 0.86183447, 0.13700171, 0.00116384],\n",
       "         [0.        , 0.        , 0.        , 0.45276278, 0.5472373 ],\n",
       "         [0.        , 0.        , 0.        , 0.        , 1.        ]]],\n",
       "       dtype=float32)>)"
      ]
     },
     "execution_count": 45,
     "metadata": {},
     "output_type": "execute_result"
    }
   ],
   "source": [
    "#| code-fold: show\n",
    "\n",
    "imha(grn, grn, grn, mask)"
   ]
  },
  {
   "cell_type": "markdown",
   "metadata": {},
   "source": [
    "## Putting it all together: TFT"
   ]
  },
  {
   "cell_type": "code",
   "execution_count": 46,
   "metadata": {},
   "outputs": [],
   "source": [
    "class TemporalFusionTransformer():\n",
    "    def __init__(\n",
    "        self,\n",
    "        # Data params\n",
    "        time_steps:int,\n",
    "        input_size:int,\n",
    "        output_size:int,\n",
    "        category_counts:int,\n",
    "        n_workers:int, # Number of multiprocessing workers\n",
    "\n",
    "        # TFT params\n",
    "        input_obs_loc,\n",
    "        static_input_loc,\n",
    "        known_regular_input_idx,\n",
    "        known_categorical_input_idx,\n",
    "        column_definition,\n",
    "\n",
    "        # Network params\n",
    "        quantile:list=[0.1, 0.5, 0.9], # List of quantiles the model should forecast\n",
    "        hidden_layer_size:int=30, # Size of hidden layer\n",
    "        dropout_rate:float=0.0, # Dropout ratio (between 0.0, inclusive, and less than 1.0)\n",
    "        num_encoder_steps:int=4,\n",
    "        num_stacks:int=4,\n",
    "        num_heads:int=4,\n",
    "        \n",
    "        # Training params\n",
    "        max_gradient_norm:float=1.0, # \n",
    "        learning_rate:float=0.001,\n",
    "        minibatch_size:int=64,\n",
    "        num_epochs:int=100,\n",
    "        early_stopping_patience:int=5,\n",
    "        use_gpu:bool=True\n",
    "    ):\n",
    "        self.time_steps = time_steps\n",
    "        self.input_size = input_size\n",
    "        self.output_size = output_size # Number of periods to be forecasted\n",
    "        self.category_counts = category_counts\n",
    "        self.n_workers = n_workers # Number of multiprocessing workers\n",
    "        \n",
    "        self.input_obs_loc = input_obs_loc\n",
    "        self.static_input_loc = static_input_loc\n",
    "        self.known_regular_input_idx = known_regular_input_idx\n",
    "        self.known_categorical_input_idx = known_categorical_input_idx\n",
    "        self.column_definition = column_definition\n",
    "\n",
    "        self.quantile = quantile # List of quantiles the model should forecast\n",
    "        self.hidden_layer_size = hidden_layer_size # Size of hidden layer\n",
    "        self.dropout_rate = dropout_rate # Dropout ratio (between 0.0, inclusive, and less than 1.0)\n",
    "        self.num_encoder_steps = num_encoder_steps\n",
    "        self.num_stacks = num_stacks\n",
    "        self.num_heads = num_heads\n",
    "        \n",
    "        self.max_gradient_norm = max_gradient_norm\n",
    "        self.learning_rate = learning_rate\n",
    "        self.minibatch_size = minibatch_size\n",
    "        self.num_epochs = num_epochs\n",
    "        self.early_stopping_patience = early_stopping_patience\n",
    "        self.use_gpu = use_gpu\n",
    "\n",
    "        self.model = self.build_model()\n",
    "\n",
    "    def __get_tft_embeddings(\n",
    "        self,\n",
    "        all_inputs # Input tensor of dimensions (batch, time steps, num variables)\n",
    "    ):\n",
    "        # Transform raw inputs to embeddings\n",
    "        # For continuous variables: linear transformation\n",
    "        # For categorical variables: embeddings\n",
    "        \n",
    "        num_categorical_variables = len(self.category_counts)\n",
    "        num_regular_variables = self.input_size - num_categorical_variables\n",
    "\n",
    "        embedding_sizes = [\n",
    "            self.hidden_layer_size\n",
    "            for i, size in enumerate(self.category_counts)\n",
    "        ]\n",
    "\n",
    "        embeddings = [\n",
    "            keras.Sequential([\n",
    "                layers.InputLayer([self.time_steps]),\n",
    "                layers.Embedding(\n",
    "                    self.category_counts[i],\n",
    "                    embedding_sizes[i],\n",
    "                    input_length=self.time_steps,\n",
    "                    dtype='float32'\n",
    "                )\n",
    "            ])\n",
    "            for i in range(num_categorical_variables)\n",
    "        ]\n",
    "\n",
    "        regular_inputs, categorical_inputs = \\\n",
    "            all_inputs[:, :, :num_regular_variables], \\\n",
    "            all_inputs[:, :, num_regular_variables:]\n",
    "\n",
    "        embedded_inputs = [\n",
    "            embeddings[i](categorical_inputs[Ellipsis, i])\n",
    "            for i in range(num_categorical_variables)\n",
    "        ]\n",
    "\n",
    "        # static inputs\n",
    "        if self._static_input_loc:\n",
    "            st_inp_dense = [\n",
    "                layers.Dense(self.hidden_layer_size)(\n",
    "                    regular_inputs[:, 0, i:i + 1]\n",
    "                )\n",
    "                for i in range(num_regular_variables)\n",
    "                if i in self._static_input_loc\n",
    "            ]\n",
    "            st_inp_embed = [\n",
    "                embedded_inputs[i][:, 0, :]\n",
    "                for i in range(num_categorical_variables)\n",
    "                if  i + num_regular_variables in self._static_input_loc\n",
    "            ]\n",
    "            static_inputs = st_inp_dense + st_inp_embed\n",
    "        else:\n",
    "            static_inputs = None\n",
    "\n",
    "        # Targets\n",
    "        past_inputs = keras.ops.stack([\n",
    "            linear_layer(\n",
    "                size=self.hidden_layer_size,\n",
    "                activation=None,\n",
    "                use_time_distributed=True\n",
    "            )(regular_inputs[Ellipsis, i:i + 1])\n",
    "        ], axis=-1)\n",
    "\n",
    "        # past inputs: observed but not known a priori\n",
    "        wired_embeddings = [\n",
    "            embeddings[i](categorical_inputs[:,:,i])\n",
    "            for i in range(num_categorical_variables)\n",
    "            if i not in self._known_categorical_input_idx \\\n",
    "                and i + num_regular_variables not in self._input_obs_loc    \n",
    "        ]\n",
    "        unknown_inputs = [\n",
    "            linear_layer(\n",
    "                size=self.hidden_layer_size,\n",
    "                activation=None,\n",
    "                use_time_distributed=True\n",
    "            )(regular_inputs[Ellipsis, i:i + 1])\n",
    "            for i in range(regular_inputs.shape[-1])\n",
    "            if i not in self._known_categorical_input_idx \\\n",
    "                and i + num_regular_variables not in self._input_obs_loc    \n",
    "        ]\n",
    "        if wired_embeddings + unknown_inputs:\n",
    "            unknown_inputs = keras.ops.stack(wired_embeddings + unknown_inputs, axis=-1)\n",
    "        else:\n",
    "            unkown_inputs = None\n",
    "\n",
    "        # a priori known inputs\n",
    "        known_regular_inputs = [\n",
    "            linear_layer(\n",
    "                size=self.hidden_layer_size,\n",
    "                activation=None,\n",
    "                use_time_distributed=True\n",
    "            )(regular_inputs[Ellipsis, i:i + 1])\n",
    "            for i in self._known_regular_input_idx\n",
    "            if i not in self._static_input_loc\n",
    "        ]\n",
    "        known_categorical_inputs = [\n",
    "            embedded_inputs[i]\n",
    "            for i in self._known_categorical_input_idx\n",
    "            if i + num_regular_variables not in self._static_input_loc\n",
    "        ]\n",
    "        known_combined_layer = keras.ops.stack(\n",
    "            known_regular_inputs + known_categorical_inputs,\n",
    "            axis=-1\n",
    "        )\n",
    "\n",
    "        return unknown_inputs, known_combined_layer, past_inputs, static_inputs\n",
    "\n",
    "    def _build_base_graph(self):\n",
    "        # Build the graph, defining the layers of the TFT\n",
    "        \n",
    "\n",
    "        ### <TFTInputs>\n",
    "        all_inputs = layers.Input(\n",
    "            shape=(self.time_steps, self.input_size) # Argument `shape` does not include batch size\n",
    "        )\n",
    "        unknown_inputs, known_combined_layer, past_inputs, static_inputs \\\n",
    "            = self.__get_tft_embeddings(all_inputs)\n",
    "        ### </TFTInputs>\n",
    "\n",
    "        # first we isolate the known future inputs and observed past inputs\n",
    "        if unknown_inputs is not None:\n",
    "            historical_inputs = keras.ops.concatenate([\n",
    "                unknown_inputs[:, :self.num_encoder_steps, :],\n",
    "                known_combined_layer[:, :self.num_encoder_steps, :],\n",
    "                past_inputs[:, :self.num_encoder_steps, :]\n",
    "            ], axis=1)\n",
    "        else:\n",
    "            historical_inputs = keras.ops.concatenate([\n",
    "                known_combined_layer[:, :self.num_encoder_steps, :],\n",
    "                past_inputs[:, :self.num_encoder_steps, :]\n",
    "            ])\n",
    "        \n",
    "        # and then we isolate the known future inputs\n",
    "        future_inputs = known_combined_layer[:, :self.num_encoder_steps, :]\n",
    "\n",
    "        # static vars\n",
    "        static_encoder, static_weights = static_variable_selection(static_inputs)\n",
    "\n",
    "        # Static covariate encoders\n",
    "        # These integrate static features into the network through encoding of context vectors\n",
    "        # that condition the time-varying dynamics\n",
    "        self.static_context_variable_selection = gated_residual_network( # c_s\n",
    "            x=static_encoder, # Network inputs\n",
    "            hidden_layer_size=self.hidden_layer_size, # Dimension of the GRN\n",
    "            output_size=self.hidden_layer_size, # Size of output layer (if None, same as `hidden_layer_size`)\n",
    "            dropout_rate=self.dropout_rate, # Dropout rate\n",
    "            use_time_distributed=False, # Apply the GRN across all time steps?\n",
    "        )\n",
    "        self.static_context_enrichment = gated_residual_network( # c_3\n",
    "            x=static_encoder, # Network inputs\n",
    "            hidden_layer_size=self.hidden_layer_size, # Dimension of the GRN\n",
    "            output_size=self.hidden_layer_size, # Size of output layer (if None, same as `hidden_layer_size`)\n",
    "            dropout_rate=self.dropout_rate, # Dropout rate\n",
    "            use_time_distributed=False, # Apply the GRN across all time steps?\n",
    "        )\n",
    "        self.static_context_state_h = gated_residual_network( # c_h\n",
    "            x=static_encoder, # Network inputs\n",
    "            hidden_layer_size=self.hidden_layer_size, # Dimension of the GRN\n",
    "            output_size=self.hidden_layer_size, # Size of output layer (if None, same as `hidden_layer_size`)\n",
    "            dropout_rate=self.dropout_rate, # Dropout rate\n",
    "            use_time_distributed=False, # Apply the GRN across all time steps?\n",
    "        )\n",
    "        self.static_context_state_c = gated_residual_network( # c_c\n",
    "            x=static_encoder, # Network inputs\n",
    "            hidden_layer_size=self.hidden_layer_size, # Dimension of the GRN\n",
    "            output_size=self.hidden_layer_size, # Size of output layer (if None, same as `hidden_layer_size`)\n",
    "            dropout_rate=self.dropout_rate, # Dropout rate\n",
    "            use_time_distributed=False, # Apply the GRN across all time steps?\n",
    "        )\n",
    "\n",
    "        historical_features, historical_flags, _ = temporal_variable_selection(\n",
    "            embedding=historical_inputs,\n",
    "            context=self.static_context_variable_selection,\n",
    "            hidden_layer_size=self.hidden_layer_size,\n",
    "            dropout_rate=self.dropout_rate)\n",
    "        future_features, future_flags, _ = temporal_variable_selection(\n",
    "            embedding=future_inputs,\n",
    "            context=self.static_context_variable_selection,\n",
    "            hidden_layer_size=self.hidden_layer_size,\n",
    "            dropout_rate=self.dropout_rate)\n",
    "\n",
    "        # Locality enhancement (Section 4.5.1 in paper) with seq-to-seq layer\n",
    "\n",
    "        temporal_feature_layer = seq_to_seq(\n",
    "            hidden_layer_size=self.hidden_layer_size,\n",
    "            dropout_rate=self.dropout_rate,\n",
    "            historical_features=historical_features,\n",
    "            static_context_state_c=self.static_context_state_c,\n",
    "            static_context_state_h=self.static_context_state_h,\n",
    "            future_features=future_features\n",
    "        )\n",
    "        # Temporal Fusion Decoder (TFT, Purple box in Fig. 2)\n",
    "        # contains three steps\n",
    "        # TFT 1st step: Static enrichment\n",
    "        #   - enhances the temporal features with static metadata (Eq. 18)\n",
    "        \n",
    "        expanded_static_context_c_e = keras.ops.expand_dims(\n",
    "            self.static_context_enrichment,\n",
    "            axis=1\n",
    "        )\n",
    "        enriched = gated_residual_network( # $\\theta(t, n) = \\text{GRN}_{\\theta}(\\tilde{\\theta}(t, n), c_e)\n",
    "            x=temporal_feature_layer, # from t-k to t+\\tau_max\n",
    "            hidden_layer_size=self.hidden_layer_size,\n",
    "            output_size=self.hidden_layer_size,\n",
    "            dropout_rate=self.dropout_rate,\n",
    "            use_time_distributed=True,\n",
    "            additional_context=expanded_static_context_c_e,\n",
    "            return_gate=False\n",
    "        )\n",
    "\n",
    "        # TFT 2nd step: Temporal self-attention\n",
    "\n",
    "        self_attention_layer = InterpretableMultiHeadAttention(\n",
    "            n_head=self.num_heads,\n",
    "            d_model=self.hidden_layer_size,\n",
    "            dropout=self.dropout_rate # Will be ignored if `training=False`\n",
    "        )\n",
    "        mask = get_decoder_mask(enriched)\n",
    "        post_attn, self_attention = self_attention_layer( # $B(t) = \\text{IMHA}(\\Theta(t), \\Theta(t), \\Theta(t))$\n",
    "            q=enriched,\n",
    "            k=enriched,\n",
    "            v=enriched,\n",
    "            mask=mask\n",
    "        )\n",
    "        post_attn, _ = apply_gating_layer( # $\\text{GLU}_{\\delta}(\\beta(t, n))$\n",
    "            x=post_attn, # Input tensors (batch first)\n",
    "            hidden_layer_size=self.hidden_layer_size, # Dimension of the GLU\n",
    "            dropout_rate=self.dropout_rate, # Dropout rate\n",
    "            use_time_distributed=True, # Apply the GLU across all time steps?\n",
    "            activation=None # Activation function\n",
    "        )\n",
    "\n",
    "        # skip connection: decides how much of the attention layer is used\n",
    "        post_attn = add_and_norm([post_attn, enriched]) # \\delta(t, n) = \\text{LayerNorm}(\\theta(t, n) + $\\text{GLU}_{\\delta}(\\beta(t, n)))$\n",
    "\n",
    "        # TFT 3rd step: Position-wise feed-forward\n",
    "        decoder = gated_residual_network(\n",
    "            x=post_attn,\n",
    "            hidden_layer_size=self.hidden_layer_size,\n",
    "            output_size=self.hidden_layer_size,\n",
    "            dropout_rate=self.dropout_rate,\n",
    "            use_time_distributed=True,\n",
    "            additional_context=None,\n",
    "            return_gate=False\n",
    "        )\n",
    "\n",
    "        # final skip connection\n",
    "        decoder, _ = apply_gating_layer(\n",
    "            x=decoder, # Input tensors (batch first)\n",
    "            hidden_layer_size=self.hidden_layer_size, # Dimension of the GLU\n",
    "            dropout_rate=self.dropout_rate, # Dropout rate\n",
    "            activation=None # Activation function\n",
    "        )\n",
    "        # the temporal feature layer here is to help the model decide\n",
    "        # how much to skip the Temporal Fusion Decoder altogether\n",
    "        transformer_layer = add_and_norm([decoder, temporal_feature_layer])\n",
    "\n",
    "        # the function also returns the attention components\n",
    "        # for explainability analyses\n",
    "        attention_components = {\n",
    "            \"temporal_attention_weights\": self_attention,\n",
    "            \"variable_selection_weights_static_inputs\": static_weights[Ellipsis, 0],\n",
    "            \"variable_selection_weights_past_inputs\": historical_flags[Ellipsis, 0, :],\n",
    "            \"variable_selection_weights_future_inputs\": future_flags[Ellipsis, 0, :]\n",
    "        }\n",
    "\n",
    "        return transformer_layer, all_inputs, attention_components\n",
    "\n",
    "    def build_model(self):\n",
    "        # Build model and define training losses\n",
    "\n",
    "        transformer_layer, all_inputs, self._attention_components = self._build_base_graph()\n",
    "        outputs = keras.layers.TimeDistributed(\n",
    "            keras.layers.Dense(self.output_size * len(self.quantiles))\n",
    "        )(transformer_layer[Ellipsis, self.num_encoder_steps:, :])\n",
    "        model = keras.Model(inputs=all_inputs, outputs=outputs)"
   ]
  },
  {
   "cell_type": "markdown",
   "metadata": {},
   "source": [
    "# Using the TFT model"
   ]
  },
  {
   "cell_type": "markdown",
   "metadata": {},
   "source": [
    "## Data\n",
    "\n",
    "In this example, we will use a simple inflation panel dataset."
   ]
  },
  {
   "cell_type": "code",
   "execution_count": 47,
   "metadata": {},
   "outputs": [],
   "source": [
    "from gingado.utils import list_all_dataflows, load_SDMX_data"
   ]
  },
  {
   "cell_type": "code",
   "execution_count": 48,
   "metadata": {},
   "outputs": [
    {
     "name": "stderr",
     "output_type": "stream",
     "text": [
      "2023-12-13 01:09:54,689 pandasdmx.reader.sdmxml - DEBUG: Truncate sub-microsecond time in <Prepared>\n",
      "2023-12-13 01:09:58,521 pandasdmx.reader.sdmxml - DEBUG: Truncate sub-microsecond time in <Prepared>\n",
      "2023-12-13 01:10:17,436 pandasdmx.reader.sdmxml - DEBUG: Truncate sub-microsecond time in <Prepared>\n",
      "2023-12-13 01:10:18,212 pandasdmx.reader.sdmxml - DEBUG: Truncate sub-microsecond time in <Prepared>\n",
      "2023-12-13 01:10:51,099 pandasdmx.reader.sdmxml - DEBUG: Truncate sub-microsecond time in <Prepared>\n",
      "2023-12-13 01:10:51,872 pandasdmx.reader.sdmxml - DEBUG: Truncate sub-microsecond time in <Prepared>\n"
     ]
    },
    {
     "data": {
      "text/plain": [
       "BIS  WS_LONG_CPI    BIS long consumer prices\n",
       "Name: dataflow, dtype: object"
      ]
     },
     "execution_count": 48,
     "metadata": {},
     "output_type": "execute_result"
    }
   ],
   "source": [
    "dflows = list_all_dataflows()\n",
    "dflows[dflows == 'BIS long consumer prices']"
   ]
  },
  {
   "cell_type": "code",
   "execution_count": 49,
   "metadata": {},
   "outputs": [
    {
     "name": "stdout",
     "output_type": "stream",
     "text": [
      "Querying data from BIS's dataflow 'WS_LONG_CPI' - BIS long consumer prices...\n"
     ]
    }
   ],
   "source": [
    "df_cpi = load_SDMX_data(\n",
    "    sources={'BIS': 'WS_LONG_CPI'},\n",
    "    keys={'FREQ': 'M'},\n",
    "    params={'startPeriod': 2002}\n",
    ")"
   ]
  },
  {
   "cell_type": "code",
   "execution_count": 50,
   "metadata": {},
   "outputs": [],
   "source": [
    "df_cpi = df_cpi['2002-01-01':'2023-09-01']\n",
    "cpi_cols = df_cpi.dropna(how='all', axis=1).columns"
   ]
  },
  {
   "cell_type": "code",
   "execution_count": 445,
   "metadata": {},
   "outputs": [],
   "source": [
    "# keep only one observation per country, retaining only the ones ending in 628 (in opposition to 771)\n",
    "df_infl = df_cpi[[c for c in cpi_cols if '628' in c and c != 'BIS__WS_LONG_CPI_M__AE__628']].pct_change(periods=1).dropna(how='all')"
   ]
  },
  {
   "cell_type": "markdown",
   "metadata": {},
   "source": [
    "Clean the titles from the metadata"
   ]
  },
  {
   "cell_type": "code",
   "execution_count": 446,
   "metadata": {},
   "outputs": [],
   "source": [
    "df_infl.columns = [c.split('__')[2] for c in df_infl.columns]"
   ]
  },
  {
   "cell_type": "code",
   "execution_count": 447,
   "metadata": {},
   "outputs": [
    {
     "data": {
      "text/plain": [
       "<AxesSubplot:xlabel='TIME_PERIOD'>"
      ]
     },
     "execution_count": 447,
     "metadata": {},
     "output_type": "execute_result"
    },
    {
     "data": {
      "image/png": "[encoded data removed]",
      "text/plain": [
       "<Figure size 432x288 with 1 Axes>"
      ]
     },
     "metadata": {
      "needs_background": "light"
     },
     "output_type": "display_data"
    }
   ],
   "source": [
    "df_infl.plot(legend=False)"
   ]
  },
  {
   "cell_type": "code",
   "execution_count": 448,
   "metadata": {},
   "outputs": [],
   "source": [
    "train_cutoff = '2013-01-01'\n",
    "valid_cutoff = '2020-01-01'\n",
    "df_infl_train, df_infl_valid, df_infl_test = df_infl[:train_cutoff], df_infl[train_cutoff:valid_cutoff], df_infl[valid_cutoff:]\n",
    "df_infl_train = df_infl_train[:-1]\n",
    "df_infl_valid = df_infl_valid[:-1]"
   ]
  },
  {
   "cell_type": "code",
   "execution_count": 449,
   "metadata": {},
   "outputs": [
    {
     "data": {
      "text/html": [
       "<div>\n",
       "<style scoped>\n",
       "    .dataframe tbody tr th:only-of-type {\n",
       "        vertical-align: middle;\n",
       "    }\n",
       "\n",
       "    .dataframe tbody tr th {\n",
       "        vertical-align: top;\n",
       "    }\n",
       "\n",
       "    .dataframe thead th {\n",
       "        text-align: right;\n",
       "    }\n",
       "</style>\n",
       "<table border=\"1\" class=\"dataframe\">\n",
       "  <thead>\n",
       "    <tr style=\"text-align: right;\">\n",
       "      <th></th>\n",
       "      <th>AR</th>\n",
       "      <th>AT</th>\n",
       "      <th>AU</th>\n",
       "      <th>BE</th>\n",
       "      <th>BG</th>\n",
       "      <th>BR</th>\n",
       "      <th>CA</th>\n",
       "      <th>CH</th>\n",
       "      <th>CL</th>\n",
       "      <th>CN</th>\n",
       "      <th>...</th>\n",
       "      <th>SA</th>\n",
       "      <th>SE</th>\n",
       "      <th>SG</th>\n",
       "      <th>SI</th>\n",
       "      <th>SK</th>\n",
       "      <th>TH</th>\n",
       "      <th>TR</th>\n",
       "      <th>US</th>\n",
       "      <th>XM</th>\n",
       "      <th>ZA</th>\n",
       "    </tr>\n",
       "    <tr>\n",
       "      <th>TIME_PERIOD</th>\n",
       "      <th></th>\n",
       "      <th></th>\n",
       "      <th></th>\n",
       "      <th></th>\n",
       "      <th></th>\n",
       "      <th></th>\n",
       "      <th></th>\n",
       "      <th></th>\n",
       "      <th></th>\n",
       "      <th></th>\n",
       "      <th></th>\n",
       "      <th></th>\n",
       "      <th></th>\n",
       "      <th></th>\n",
       "      <th></th>\n",
       "      <th></th>\n",
       "      <th></th>\n",
       "      <th></th>\n",
       "      <th></th>\n",
       "      <th></th>\n",
       "      <th></th>\n",
       "    </tr>\n",
       "  </thead>\n",
       "  <tbody>\n",
       "    <tr>\n",
       "      <th>2013-01-01</th>\n",
       "      <td>0.011371</td>\n",
       "      <td>-0.004469</td>\n",
       "      <td>0.003922</td>\n",
       "      <td>-0.000302</td>\n",
       "      <td>0.004121</td>\n",
       "      <td>0.0086</td>\n",
       "      <td>0.000825</td>\n",
       "      <td>-0.002611</td>\n",
       "      <td>0.003548</td>\n",
       "      <td>0.010002</td>\n",
       "      <td>...</td>\n",
       "      <td>0.010963</td>\n",
       "      <td>-0.008296</td>\n",
       "      <td>0.001889</td>\n",
       "      <td>-0.008048</td>\n",
       "      <td>0.006035</td>\n",
       "      <td>0.001570</td>\n",
       "      <td>0.016461</td>\n",
       "      <td>0.002957</td>\n",
       "      <td>-0.010392</td>\n",
       "      <td>0.001548</td>\n",
       "    </tr>\n",
       "    <tr>\n",
       "      <th>2013-02-01</th>\n",
       "      <td>0.004931</td>\n",
       "      <td>0.002245</td>\n",
       "      <td>0.000000</td>\n",
       "      <td>0.003220</td>\n",
       "      <td>0.000504</td>\n",
       "      <td>0.0060</td>\n",
       "      <td>0.011542</td>\n",
       "      <td>0.002955</td>\n",
       "      <td>0.001187</td>\n",
       "      <td>0.010999</td>\n",
       "      <td>...</td>\n",
       "      <td>0.000863</td>\n",
       "      <td>0.004455</td>\n",
       "      <td>0.010049</td>\n",
       "      <td>0.008114</td>\n",
       "      <td>-0.000245</td>\n",
       "      <td>0.002194</td>\n",
       "      <td>0.002999</td>\n",
       "      <td>0.008190</td>\n",
       "      <td>0.003670</td>\n",
       "      <td>0.010819</td>\n",
       "    </tr>\n",
       "    <tr>\n",
       "      <th>2013-03-01</th>\n",
       "      <td>0.007262</td>\n",
       "      <td>0.007839</td>\n",
       "      <td>0.000000</td>\n",
       "      <td>0.001404</td>\n",
       "      <td>-0.005390</td>\n",
       "      <td>0.0047</td>\n",
       "      <td>0.001630</td>\n",
       "      <td>0.002172</td>\n",
       "      <td>0.005572</td>\n",
       "      <td>-0.009005</td>\n",
       "      <td>...</td>\n",
       "      <td>-0.000216</td>\n",
       "      <td>0.004021</td>\n",
       "      <td>-0.005378</td>\n",
       "      <td>0.003018</td>\n",
       "      <td>0.000585</td>\n",
       "      <td>0.000626</td>\n",
       "      <td>0.006624</td>\n",
       "      <td>0.002615</td>\n",
       "      <td>0.011784</td>\n",
       "      <td>0.012233</td>\n",
       "    </tr>\n",
       "    <tr>\n",
       "      <th>2013-04-01</th>\n",
       "      <td>0.007275</td>\n",
       "      <td>0.001111</td>\n",
       "      <td>0.003906</td>\n",
       "      <td>-0.000401</td>\n",
       "      <td>-0.004348</td>\n",
       "      <td>0.0055</td>\n",
       "      <td>-0.001627</td>\n",
       "      <td>0.000336</td>\n",
       "      <td>-0.001756</td>\n",
       "      <td>0.002002</td>\n",
       "      <td>...</td>\n",
       "      <td>0.000000</td>\n",
       "      <td>-0.001970</td>\n",
       "      <td>-0.014831</td>\n",
       "      <td>0.007021</td>\n",
       "      <td>0.000362</td>\n",
       "      <td>0.001563</td>\n",
       "      <td>0.004204</td>\n",
       "      <td>-0.001040</td>\n",
       "      <td>-0.000904</td>\n",
       "      <td>0.003021</td>\n",
       "    </tr>\n",
       "    <tr>\n",
       "      <th>2013-05-01</th>\n",
       "      <td>0.006900</td>\n",
       "      <td>0.002220</td>\n",
       "      <td>0.000000</td>\n",
       "      <td>0.001503</td>\n",
       "      <td>-0.001421</td>\n",
       "      <td>0.0037</td>\n",
       "      <td>0.002445</td>\n",
       "      <td>0.001100</td>\n",
       "      <td>-0.000532</td>\n",
       "      <td>-0.006002</td>\n",
       "      <td>...</td>\n",
       "      <td>-0.000108</td>\n",
       "      <td>0.001624</td>\n",
       "      <td>0.003553</td>\n",
       "      <td>0.002988</td>\n",
       "      <td>0.001026</td>\n",
       "      <td>0.002497</td>\n",
       "      <td>0.001456</td>\n",
       "      <td>0.001780</td>\n",
       "      <td>0.001105</td>\n",
       "      <td>-0.001506</td>\n",
       "    </tr>\n",
       "    <tr>\n",
       "      <th>...</th>\n",
       "      <td>...</td>\n",
       "      <td>...</td>\n",
       "      <td>...</td>\n",
       "      <td>...</td>\n",
       "      <td>...</td>\n",
       "      <td>...</td>\n",
       "      <td>...</td>\n",
       "      <td>...</td>\n",
       "      <td>...</td>\n",
       "      <td>...</td>\n",
       "      <td>...</td>\n",
       "      <td>...</td>\n",
       "      <td>...</td>\n",
       "      <td>...</td>\n",
       "      <td>...</td>\n",
       "      <td>...</td>\n",
       "      <td>...</td>\n",
       "      <td>...</td>\n",
       "      <td>...</td>\n",
       "      <td>...</td>\n",
       "      <td>...</td>\n",
       "    </tr>\n",
       "    <tr>\n",
       "      <th>2019-08-01</th>\n",
       "      <td>0.038697</td>\n",
       "      <td>0.001017</td>\n",
       "      <td>0.000000</td>\n",
       "      <td>-0.000184</td>\n",
       "      <td>0.000682</td>\n",
       "      <td>0.0011</td>\n",
       "      <td>-0.001460</td>\n",
       "      <td>-0.000102</td>\n",
       "      <td>0.001855</td>\n",
       "      <td>0.007004</td>\n",
       "      <td>...</td>\n",
       "      <td>0.001940</td>\n",
       "      <td>-0.004199</td>\n",
       "      <td>0.006246</td>\n",
       "      <td>0.003708</td>\n",
       "      <td>0.002069</td>\n",
       "      <td>-0.001894</td>\n",
       "      <td>0.008587</td>\n",
       "      <td>-0.000051</td>\n",
       "      <td>0.001430</td>\n",
       "      <td>0.003304</td>\n",
       "    </tr>\n",
       "    <tr>\n",
       "      <th>2019-09-01</th>\n",
       "      <td>0.058082</td>\n",
       "      <td>0.004065</td>\n",
       "      <td>0.000000</td>\n",
       "      <td>-0.004590</td>\n",
       "      <td>-0.003423</td>\n",
       "      <td>-0.0004</td>\n",
       "      <td>-0.004386</td>\n",
       "      <td>-0.001096</td>\n",
       "      <td>0.000097</td>\n",
       "      <td>0.008996</td>\n",
       "      <td>...</td>\n",
       "      <td>0.002343</td>\n",
       "      <td>0.004665</td>\n",
       "      <td>-0.000619</td>\n",
       "      <td>-0.001894</td>\n",
       "      <td>0.001304</td>\n",
       "      <td>0.000899</td>\n",
       "      <td>0.009933</td>\n",
       "      <td>0.000783</td>\n",
       "      <td>0.002189</td>\n",
       "      <td>0.002195</td>\n",
       "    </tr>\n",
       "    <tr>\n",
       "      <th>2019-10-01</th>\n",
       "      <td>0.031973</td>\n",
       "      <td>0.003036</td>\n",
       "      <td>0.006932</td>\n",
       "      <td>0.003596</td>\n",
       "      <td>0.008009</td>\n",
       "      <td>0.0010</td>\n",
       "      <td>0.002937</td>\n",
       "      <td>-0.002249</td>\n",
       "      <td>0.008185</td>\n",
       "      <td>0.009000</td>\n",
       "      <td>...</td>\n",
       "      <td>0.000508</td>\n",
       "      <td>0.000268</td>\n",
       "      <td>-0.002167</td>\n",
       "      <td>0.000664</td>\n",
       "      <td>-0.000954</td>\n",
       "      <td>-0.001496</td>\n",
       "      <td>0.020022</td>\n",
       "      <td>0.002286</td>\n",
       "      <td>0.001425</td>\n",
       "      <td>0.000000</td>\n",
       "    </tr>\n",
       "    <tr>\n",
       "      <th>2019-11-01</th>\n",
       "      <td>0.040705</td>\n",
       "      <td>0.001009</td>\n",
       "      <td>0.000000</td>\n",
       "      <td>0.000643</td>\n",
       "      <td>0.005160</td>\n",
       "      <td>0.0051</td>\n",
       "      <td>-0.001464</td>\n",
       "      <td>-0.001331</td>\n",
       "      <td>0.000773</td>\n",
       "      <td>0.004000</td>\n",
       "      <td>...</td>\n",
       "      <td>-0.001321</td>\n",
       "      <td>0.000952</td>\n",
       "      <td>0.003242</td>\n",
       "      <td>0.000759</td>\n",
       "      <td>0.001658</td>\n",
       "      <td>-0.001299</td>\n",
       "      <td>0.003811</td>\n",
       "      <td>-0.000536</td>\n",
       "      <td>-0.003225</td>\n",
       "      <td>0.001095</td>\n",
       "    </tr>\n",
       "    <tr>\n",
       "      <th>2019-12-01</th>\n",
       "      <td>0.038314</td>\n",
       "      <td>0.007056</td>\n",
       "      <td>0.000000</td>\n",
       "      <td>0.001286</td>\n",
       "      <td>0.007356</td>\n",
       "      <td>0.0115</td>\n",
       "      <td>0.000000</td>\n",
       "      <td>0.000299</td>\n",
       "      <td>0.001062</td>\n",
       "      <td>0.000000</td>\n",
       "      <td>...</td>\n",
       "      <td>0.002238</td>\n",
       "      <td>0.003924</td>\n",
       "      <td>0.001905</td>\n",
       "      <td>-0.001611</td>\n",
       "      <td>-0.001401</td>\n",
       "      <td>0.000100</td>\n",
       "      <td>0.007433</td>\n",
       "      <td>-0.000910</td>\n",
       "      <td>0.003140</td>\n",
       "      <td>0.002188</td>\n",
       "    </tr>\n",
       "  </tbody>\n",
       "</table>\n",
       "<p>84 rows × 61 columns</p>\n",
       "</div>"
      ],
      "text/plain": [
       "                   AR        AT        AU        BE        BG      BR  \\\n",
       "TIME_PERIOD                                                             \n",
       "2013-01-01   0.011371 -0.004469  0.003922 -0.000302  0.004121  0.0086   \n",
       "2013-02-01   0.004931  0.002245  0.000000  0.003220  0.000504  0.0060   \n",
       "2013-03-01   0.007262  0.007839  0.000000  0.001404 -0.005390  0.0047   \n",
       "2013-04-01   0.007275  0.001111  0.003906 -0.000401 -0.004348  0.0055   \n",
       "2013-05-01   0.006900  0.002220  0.000000  0.001503 -0.001421  0.0037   \n",
       "...               ...       ...       ...       ...       ...     ...   \n",
       "2019-08-01   0.038697  0.001017  0.000000 -0.000184  0.000682  0.0011   \n",
       "2019-09-01   0.058082  0.004065  0.000000 -0.004590 -0.003423 -0.0004   \n",
       "2019-10-01   0.031973  0.003036  0.006932  0.003596  0.008009  0.0010   \n",
       "2019-11-01   0.040705  0.001009  0.000000  0.000643  0.005160  0.0051   \n",
       "2019-12-01   0.038314  0.007056  0.000000  0.001286  0.007356  0.0115   \n",
       "\n",
       "                   CA        CH        CL        CN  ...        SA        SE  \\\n",
       "TIME_PERIOD                                          ...                       \n",
       "2013-01-01   0.000825 -0.002611  0.003548  0.010002  ...  0.010963 -0.008296   \n",
       "2013-02-01   0.011542  0.002955  0.001187  0.010999  ...  0.000863  0.004455   \n",
       "2013-03-01   0.001630  0.002172  0.005572 -0.009005  ... -0.000216  0.004021   \n",
       "2013-04-01  -0.001627  0.000336 -0.001756  0.002002  ...  0.000000 -0.001970   \n",
       "2013-05-01   0.002445  0.001100 -0.000532 -0.006002  ... -0.000108  0.001624   \n",
       "...               ...       ...       ...       ...  ...       ...       ...   \n",
       "2019-08-01  -0.001460 -0.000102  0.001855  0.007004  ...  0.001940 -0.004199   \n",
       "2019-09-01  -0.004386 -0.001096  0.000097  0.008996  ...  0.002343  0.004665   \n",
       "2019-10-01   0.002937 -0.002249  0.008185  0.009000  ...  0.000508  0.000268   \n",
       "2019-11-01  -0.001464 -0.001331  0.000773  0.004000  ... -0.001321  0.000952   \n",
       "2019-12-01   0.000000  0.000299  0.001062  0.000000  ...  0.002238  0.003924   \n",
       "\n",
       "                   SG        SI        SK        TH        TR        US  \\\n",
       "TIME_PERIOD                                                               \n",
       "2013-01-01   0.001889 -0.008048  0.006035  0.001570  0.016461  0.002957   \n",
       "2013-02-01   0.010049  0.008114 -0.000245  0.002194  0.002999  0.008190   \n",
       "2013-03-01  -0.005378  0.003018  0.000585  0.000626  0.006624  0.002615   \n",
       "2013-04-01  -0.014831  0.007021  0.000362  0.001563  0.004204 -0.001040   \n",
       "2013-05-01   0.003553  0.002988  0.001026  0.002497  0.001456  0.001780   \n",
       "...               ...       ...       ...       ...       ...       ...   \n",
       "2019-08-01   0.006246  0.003708  0.002069 -0.001894  0.008587 -0.000051   \n",
       "2019-09-01  -0.000619 -0.001894  0.001304  0.000899  0.009933  0.000783   \n",
       "2019-10-01  -0.002167  0.000664 -0.000954 -0.001496  0.020022  0.002286   \n",
       "2019-11-01   0.003242  0.000759  0.001658 -0.001299  0.003811 -0.000536   \n",
       "2019-12-01   0.001905 -0.001611 -0.001401  0.000100  0.007433 -0.000910   \n",
       "\n",
       "                   XM        ZA  \n",
       "TIME_PERIOD                      \n",
       "2013-01-01  -0.010392  0.001548  \n",
       "2013-02-01   0.003670  0.010819  \n",
       "2013-03-01   0.011784  0.012233  \n",
       "2013-04-01  -0.000904  0.003021  \n",
       "2013-05-01   0.001105 -0.001506  \n",
       "...               ...       ...  \n",
       "2019-08-01   0.001430  0.003304  \n",
       "2019-09-01   0.002189  0.002195  \n",
       "2019-10-01   0.001425  0.000000  \n",
       "2019-11-01  -0.003225  0.001095  \n",
       "2019-12-01   0.003140  0.002188  \n",
       "\n",
       "[84 rows x 61 columns]"
      ]
     },
     "execution_count": 449,
     "metadata": {},
     "output_type": "execute_result"
    }
   ],
   "source": [
    "df_infl_valid"
   ]
  },
  {
   "cell_type": "markdown",
   "metadata": {},
   "source": [
    "### Data preparation\n",
    "\n",
    "This crucial step involves:\n",
    "* measuring the mean and standard deviation of the inflation of each country in the training dataset\n",
    "* using the values above to standardise the training, validation and testing datasets"
   ]
  },
  {
   "cell_type": "code",
   "execution_count": 450,
   "metadata": {},
   "outputs": [],
   "source": [
    "train_scale = {\n",
    "    'mean': df_infl_train.mean(axis=0),\n",
    "    'std': df_infl_train.std(axis=0)\n",
    "}"
   ]
  },
  {
   "cell_type": "code",
   "execution_count": 451,
   "metadata": {},
   "outputs": [],
   "source": [
    "def normalise_df(df, scale=train_scale):\n",
    "    norm_dfs = []\n",
    "    for cty in df.columns.tolist():\n",
    "        norm_dfs.append((df[cty] - scale['mean'][cty]) / scale['std'][cty])\n",
    "    return pd.concat(norm_dfs, axis=1)"
   ]
  },
  {
   "cell_type": "code",
   "execution_count": 452,
   "metadata": {},
   "outputs": [],
   "source": [
    "def renormalise_df(df, scale=train_scale):\n",
    "    renorm_dfs = []\n",
    "    for cty in df.columns.tolist():\n",
    "        renorm_dfs.append((df[cty] * scale['std'][cty]) + scale['mean'][cty])\n",
    "    return pd.concat(renorm_dfs, axis=1)"
   ]
  },
  {
   "cell_type": "code",
   "execution_count": 453,
   "metadata": {},
   "outputs": [],
   "source": [
    "# the code below check that it is working:\n",
    "# (renormalise_df(normalise_df(df_infl_train, train_scale)) - df_infl_train)"
   ]
  },
  {
   "cell_type": "code",
   "execution_count": 454,
   "metadata": {},
   "outputs": [],
   "source": [
    "df_infl_train_n = normalise_df(df_infl_train)\n",
    "df_infl_valid_n = normalise_df(df_infl_valid)\n",
    "df_infl_test_n = normalise_df(df_infl_test)"
   ]
  },
  {
   "cell_type": "code",
   "execution_count": 455,
   "metadata": {},
   "outputs": [
    {
     "data": {
      "text/plain": [
       "<AxesSubplot:xlabel='TIME_PERIOD'>"
      ]
     },
     "execution_count": 455,
     "metadata": {},
     "output_type": "execute_result"
    },
    {
     "data": {
      "image/png": "[encoded data removed]",
      "text/plain": [
       "<Figure size 432x288 with 1 Axes>"
      ]
     },
     "metadata": {
      "needs_background": "light"
     },
     "output_type": "display_data"
    }
   ],
   "source": [
    "df_infl_valid_n.plot(legend=False)"
   ]
  },
  {
   "cell_type": "markdown",
   "metadata": {},
   "source": [
    "## A simple dense layer\n",
    "\n",
    "This first model is autoregressive: it takes in $p$ lags of an inflation series $\\pi_i$ (in other words, $\\pi_{i, t-p}, ..., \\pi_{i, t-1}$) to predict the period $\\pi_{i,t}$.\n",
    "\n",
    "Note that the model is very simple:\n",
    "* each country's inflation series is only predicted by its past values\n",
    "* the fully connected linear layer learns to pick up any meaningful non-linear interactions between lags, but there is no intrinsic meaning in the order of the lags\n",
    "* this network will always take in as input a $p$-sized vector of lagged data"
   ]
  },
  {
   "cell_type": "markdown",
   "metadata": {},
   "source": [
    "### Data formatting"
   ]
  },
  {
   "cell_type": "markdown",
   "metadata": {},
   "source": [
    "Let's create a simple function that will take a data frame and return a (input, output) tuple for the model."
   ]
  },
  {
   "cell_type": "code",
   "execution_count": 490,
   "metadata": {},
   "outputs": [],
   "source": [
    "def dense_layer_io(\n",
    "    df, # Pandas DataFrame with the data\n",
    "    idx:[Int], # DataFrame indedx\n",
    "    col:[str], # Column name\n",
    "    p:Int # Number of lags\n",
    "):\n",
    "    # Return an (input, output) tuple for a linear_layer model\n",
    "    \n",
    "    assert len(idx) == len(col)\n",
    "\n",
    "    batch_X, batch_y = [], []\n",
    "    for i in range(len(idx)):\n",
    "        X = df.iloc[idx[i]:(idx[i]+p)][[col[i]]].values.reshape(-1)\n",
    "        if np.isnan(X).any():\n",
    "            continue\n",
    "        batch_X.append(X)\n",
    "        batch_y.append(df.iloc[idx[i]+p][[col[i]]].values)\n",
    "    \n",
    "    return np.vstack(batch_X), np.vstack(batch_y)\n",
    "\n",
    "    #return df.iloc[idx:(idx+p)][[col]].values.reshape(-1), df.iloc[idx+p+1][[col]].values"
   ]
  },
  {
   "cell_type": "code",
   "execution_count": 491,
   "metadata": {},
   "outputs": [
    {
     "data": {
      "text/plain": [
       "(array([[0.00209779, 0.00419757, 0.01190234, 0.00649815],\n",
       "        [0.00419757, 0.01190234, 0.00649815, 0.00719811],\n",
       "        [0.01190234, 0.00649815, 0.00719811, 0.01310222]]),\n",
       " array([[0.00719811],\n",
       "        [0.01310222],\n",
       "        [0.03020224]]))"
      ]
     },
     "execution_count": 491,
     "metadata": {},
     "output_type": "execute_result"
    }
   ],
   "source": [
    "dense_layer_io(df=df_infl_train, idx=[3, 4, 5], col=['BR', 'BR', 'BR'], p=4)"
   ]
  },
  {
   "cell_type": "code",
   "execution_count": 492,
   "metadata": {},
   "outputs": [],
   "source": [
    "def random_select(df, p, n_samples):\n",
    "    max_index = len(df) - p\n",
    "    rand_idx, rand_col = [], []\n",
    "    for _ in range(n_samples):\n",
    "        rand_idx.append(random.randint(0, max_index-2)) # instead of -1 only, we also need to account for the target value\n",
    "        rand_col.append(random.choice(df.columns))\n",
    "    return rand_idx, rand_col"
   ]
  },
  {
   "cell_type": "code",
   "execution_count": 493,
   "metadata": {},
   "outputs": [],
   "source": [
    "n_samples = 1000 # with replacement"
   ]
  },
  {
   "cell_type": "code",
   "execution_count": 494,
   "metadata": {},
   "outputs": [],
   "source": [
    "p = 24\n",
    "\n",
    "idx, col = random_select(df_infl_train_n, p=p, n_samples=n_samples)\n",
    "train_samples = dense_layer_io(df=df_infl_train_n, idx=idx, col=col, p=p)\n",
    "\n",
    "idx, col = random_select(df_infl_valid_n, p=p, n_samples=n_samples)\n",
    "valid_samples = dense_layer_io(df=df_infl_valid_n, idx=idx, col=col, p=p)"
   ]
  },
  {
   "cell_type": "markdown",
   "metadata": {},
   "source": [
    "### Model"
   ]
  },
  {
   "cell_type": "code",
   "execution_count": 503,
   "metadata": {},
   "outputs": [],
   "source": [
    "#nn_linear = linear_layer(size=p)\n",
    "\n",
    "nn_linear = keras.Sequential([\n",
    "    layers.Input((p,)),\n",
    "    layers.Dense(32, activation='relu'),\n",
    "    layers.Dense(5, activation='relu'),\n",
    "    layers.Dense(1)\n",
    "])"
   ]
  },
  {
   "cell_type": "code",
   "execution_count": 504,
   "metadata": {},
   "outputs": [
    {
     "data": {
      "text/html": [
       "<pre style=\"white-space:pre;overflow-x:auto;line-height:normal;font-family:Menlo,'DejaVu Sans Mono',consolas,'Courier New',monospace\"><span style=\"font-weight: bold\">Model: \"sequential_61\"</span>\n",
       "</pre>\n"
      ],
      "text/plain": [
       "\u001b[1mModel: \"sequential_61\"\u001b[0m\n"
      ]
     },
     "metadata": {},
     "output_type": "display_data"
    },
    {
     "data": {
      "text/html": [
       "<pre style=\"white-space:pre;overflow-x:auto;line-height:normal;font-family:Menlo,'DejaVu Sans Mono',consolas,'Courier New',monospace\">┏━━━━━━━━━━━━━━━━━━━━━━━━━━━━━━━━━┳━━━━━━━━━━━━━━━━━━━━━━━━━━━┳━━━━━━━━━━━━┓\n",
       "┃<span style=\"font-weight: bold\"> Layer (type)                    </span>┃<span style=\"font-weight: bold\"> Output Shape              </span>┃<span style=\"font-weight: bold\">    Param # </span>┃\n",
       "┡━━━━━━━━━━━━━━━━━━━━━━━━━━━━━━━━━╇━━━━━━━━━━━━━━━━━━━━━━━━━━━╇━━━━━━━━━━━━┩\n",
       "│ dense_169 (<span style=\"color: #0087ff; text-decoration-color: #0087ff\">Dense</span>)               │ (<span style=\"color: #00d7ff; text-decoration-color: #00d7ff\">None</span>, <span style=\"color: #00af00; text-decoration-color: #00af00\">32</span>)                │        <span style=\"color: #00af00; text-decoration-color: #00af00\">800</span> │\n",
       "├─────────────────────────────────┼───────────────────────────┼────────────┤\n",
       "│ dense_170 (<span style=\"color: #0087ff; text-decoration-color: #0087ff\">Dense</span>)               │ (<span style=\"color: #00d7ff; text-decoration-color: #00d7ff\">None</span>, <span style=\"color: #00af00; text-decoration-color: #00af00\">5</span>)                 │        <span style=\"color: #00af00; text-decoration-color: #00af00\">165</span> │\n",
       "├─────────────────────────────────┼───────────────────────────┼────────────┤\n",
       "│ dense_171 (<span style=\"color: #0087ff; text-decoration-color: #0087ff\">Dense</span>)               │ (<span style=\"color: #00d7ff; text-decoration-color: #00d7ff\">None</span>, <span style=\"color: #00af00; text-decoration-color: #00af00\">1</span>)                 │          <span style=\"color: #00af00; text-decoration-color: #00af00\">6</span> │\n",
       "└─────────────────────────────────┴───────────────────────────┴────────────┘\n",
       "</pre>\n"
      ],
      "text/plain": [
       "┏━━━━━━━━━━━━━━━━━━━━━━━━━━━━━━━━━┳━━━━━━━━━━━━━━━━━━━━━━━━━━━┳━━━━━━━━━━━━┓\n",
       "┃\u001b[1m \u001b[0m\u001b[1mLayer (type)                   \u001b[0m\u001b[1m \u001b[0m┃\u001b[1m \u001b[0m\u001b[1mOutput Shape             \u001b[0m\u001b[1m \u001b[0m┃\u001b[1m \u001b[0m\u001b[1m   Param #\u001b[0m\u001b[1m \u001b[0m┃\n",
       "┡━━━━━━━━━━━━━━━━━━━━━━━━━━━━━━━━━╇━━━━━━━━━━━━━━━━━━━━━━━━━━━╇━━━━━━━━━━━━┩\n",
       "│ dense_169 (\u001b[38;5;33mDense\u001b[0m)               │ (\u001b[38;5;45mNone\u001b[0m, \u001b[38;5;34m32\u001b[0m)                │        \u001b[38;5;34m800\u001b[0m │\n",
       "├─────────────────────────────────┼───────────────────────────┼────────────┤\n",
       "│ dense_170 (\u001b[38;5;33mDense\u001b[0m)               │ (\u001b[38;5;45mNone\u001b[0m, \u001b[38;5;34m5\u001b[0m)                 │        \u001b[38;5;34m165\u001b[0m │\n",
       "├─────────────────────────────────┼───────────────────────────┼────────────┤\n",
       "│ dense_171 (\u001b[38;5;33mDense\u001b[0m)               │ (\u001b[38;5;45mNone\u001b[0m, \u001b[38;5;34m1\u001b[0m)                 │          \u001b[38;5;34m6\u001b[0m │\n",
       "└─────────────────────────────────┴───────────────────────────┴────────────┘\n"
      ]
     },
     "metadata": {},
     "output_type": "display_data"
    },
    {
     "data": {
      "text/html": [
       "<pre style=\"white-space:pre;overflow-x:auto;line-height:normal;font-family:Menlo,'DejaVu Sans Mono',consolas,'Courier New',monospace\"><span style=\"font-weight: bold\"> Total params: </span><span style=\"color: #00af00; text-decoration-color: #00af00\">971</span> (3.79 KB)\n",
       "</pre>\n"
      ],
      "text/plain": [
       "\u001b[1m Total params: \u001b[0m\u001b[38;5;34m971\u001b[0m (3.79 KB)\n"
      ]
     },
     "metadata": {},
     "output_type": "display_data"
    },
    {
     "data": {
      "text/html": [
       "<pre style=\"white-space:pre;overflow-x:auto;line-height:normal;font-family:Menlo,'DejaVu Sans Mono',consolas,'Courier New',monospace\"><span style=\"font-weight: bold\"> Trainable params: </span><span style=\"color: #00af00; text-decoration-color: #00af00\">971</span> (3.79 KB)\n",
       "</pre>\n"
      ],
      "text/plain": [
       "\u001b[1m Trainable params: \u001b[0m\u001b[38;5;34m971\u001b[0m (3.79 KB)\n"
      ]
     },
     "metadata": {},
     "output_type": "display_data"
    },
    {
     "data": {
      "text/html": [
       "<pre style=\"white-space:pre;overflow-x:auto;line-height:normal;font-family:Menlo,'DejaVu Sans Mono',consolas,'Courier New',monospace\"><span style=\"font-weight: bold\"> Non-trainable params: </span><span style=\"color: #00af00; text-decoration-color: #00af00\">0</span> (0.00 B)\n",
       "</pre>\n"
      ],
      "text/plain": [
       "\u001b[1m Non-trainable params: \u001b[0m\u001b[38;5;34m0\u001b[0m (0.00 B)\n"
      ]
     },
     "metadata": {},
     "output_type": "display_data"
    }
   ],
   "source": [
    "nn_linear.summary()"
   ]
  },
  {
   "cell_type": "code",
   "execution_count": 505,
   "metadata": {},
   "outputs": [
    {
     "data": {
      "text/plain": [
       "[array([[-1.25436381e-01,  1.37049228e-01,  1.69924617e-01,\n",
       "          1.69283301e-01,  3.71685624e-02,  1.57691419e-01,\n",
       "         -2.91454375e-01,  8.29318464e-02,  2.17539907e-01,\n",
       "         -2.31632426e-01,  2.12575018e-01,  2.59149551e-01,\n",
       "          2.81261146e-01,  2.26867795e-01,  1.89939857e-01,\n",
       "          8.64438415e-02, -1.20107204e-01, -2.42888093e-01,\n",
       "         -1.28105298e-01, -2.05363899e-01,  9.20752585e-02,\n",
       "          2.23235607e-01,  1.40925765e-01, -5.99078536e-02,\n",
       "         -2.08548039e-01, -1.64981365e-01,  2.42001295e-01,\n",
       "         -2.01440781e-01,  2.55879223e-01,  2.39253163e-01,\n",
       "          2.37589896e-01,  1.82021558e-01],\n",
       "        [ 6.54733479e-02,  1.08548582e-01,  2.45202303e-01,\n",
       "          2.79301167e-01, -1.99180484e-01,  1.05306387e-01,\n",
       "         -3.04478765e-01,  9.50431526e-02,  3.09630513e-01,\n",
       "         -1.88650832e-01,  1.38486296e-01, -2.06741154e-01,\n",
       "          1.00098401e-01,  1.02334589e-01, -2.41440281e-01,\n",
       "          3.08910370e-01, -1.00503206e-01,  2.84006715e-01,\n",
       "          1.89527214e-01,  1.51446283e-01,  3.00049841e-01,\n",
       "          3.24356854e-01, -3.22453886e-01,  2.78687060e-01,\n",
       "          2.38354921e-01,  3.04860592e-01, -1.77910939e-01,\n",
       "         -3.20894957e-01, -2.05856711e-01,  2.78549671e-01,\n",
       "         -3.24720889e-01,  3.24884474e-01],\n",
       "        [ 2.37746000e-01, -5.45763373e-02,  2.59389997e-01,\n",
       "         -2.64258385e-01,  9.06104445e-02,  1.18148685e-01,\n",
       "         -3.07159752e-01,  1.19303077e-01, -6.28452301e-02,\n",
       "         -2.78713405e-02, -2.51679391e-01, -2.95400649e-01,\n",
       "         -3.80111635e-02,  3.15619290e-01, -6.19434714e-02,\n",
       "         -1.76392570e-01,  9.43186879e-03, -2.79594660e-01,\n",
       "         -3.57614160e-02, -3.26761663e-01, -2.67436206e-01,\n",
       "          9.29855406e-02,  3.25119555e-01,  1.27434134e-01,\n",
       "         -1.35185555e-01, -1.18683115e-01, -3.39072943e-03,\n",
       "          1.06362730e-01,  1.94627523e-01, -2.70797014e-02,\n",
       "          3.11105609e-01,  2.83948898e-01],\n",
       "        [ 3.02297056e-01,  5.59888184e-02,  1.59920186e-01,\n",
       "         -3.80295217e-02,  4.81509268e-02,  7.15984404e-02,\n",
       "          6.27545714e-02, -1.85597017e-01, -2.07560271e-01,\n",
       "         -2.94719040e-01,  1.92628562e-01, -5.09790480e-02,\n",
       "          2.64570951e-01, -2.02477008e-01, -3.06433290e-01,\n",
       "          7.83889294e-02,  2.93360412e-01, -3.32290828e-02,\n",
       "          5.74699044e-03, -3.20840240e-01, -2.33272687e-01,\n",
       "         -2.43183970e-03, -1.79910570e-01,  1.97894394e-01,\n",
       "         -3.42004299e-02,  2.39439309e-02, -2.98121631e-01,\n",
       "         -2.60521263e-01, -2.35103369e-01,  1.47848129e-01,\n",
       "          3.04343820e-01,  9.34136510e-02],\n",
       "        [-6.75148964e-02, -2.16712952e-02,  2.34189689e-01,\n",
       "         -2.22547308e-01,  2.93552577e-01, -6.75079525e-02,\n",
       "          2.79074073e-01, -2.43342295e-01, -1.02922931e-01,\n",
       "          2.29938924e-01, -2.62910724e-01, -3.08621079e-01,\n",
       "          2.78976440e-01,  7.56552517e-02, -2.16008663e-01,\n",
       "          1.70650005e-01,  1.84070170e-01,  3.17092776e-01,\n",
       "          1.45281911e-01,  1.62999302e-01, -1.25576302e-01,\n",
       "          3.19253027e-01, -1.67258129e-01, -1.18973508e-01,\n",
       "         -1.97032332e-01, -1.35398597e-01,  7.29745328e-02,\n",
       "         -3.19571763e-01,  1.90443218e-01, -3.00235122e-01,\n",
       "          1.41677439e-01, -2.88335681e-02],\n",
       "        [ 2.58586943e-01,  1.46270633e-01, -2.48952031e-01,\n",
       "          2.71403730e-01,  2.67891765e-01, -1.90133378e-01,\n",
       "         -1.02884382e-01,  3.15405726e-01,  1.58665061e-01,\n",
       "         -2.94680566e-01, -1.33405328e-02, -1.85834333e-01,\n",
       "          4.03064489e-03,  1.28527105e-01,  1.66920066e-01,\n",
       "          1.61523700e-01,  7.17930198e-02,  1.07990921e-01,\n",
       "         -3.12852204e-01, -2.39784420e-01, -3.23586583e-01,\n",
       "         -4.34567034e-02, -3.24980706e-01, -2.66544133e-01,\n",
       "          8.99332762e-02,  2.93434858e-02, -9.75993872e-02,\n",
       "         -3.21984589e-02, -3.09437007e-01,  1.64346099e-02,\n",
       "          2.24427521e-01, -3.14781785e-01],\n",
       "        [-2.00557992e-01,  9.45830345e-03, -2.85328001e-01,\n",
       "         -1.55430809e-01, -2.00322464e-01, -1.80878744e-01,\n",
       "          9.93827581e-02,  2.88553894e-01,  2.73783743e-01,\n",
       "         -1.56563655e-01, -3.14393610e-01, -1.43176019e-02,\n",
       "          7.41271377e-02,  1.75913572e-01, -3.06779146e-02,\n",
       "         -5.02161980e-02,  2.12426484e-01, -5.99322915e-02,\n",
       "          2.33789861e-01, -5.25318384e-02, -2.61366129e-01,\n",
       "          8.50877166e-02, -2.76231408e-01,  3.12501192e-02,\n",
       "         -1.08360976e-01, -2.38669440e-01, -9.73212421e-02,\n",
       "         -1.18084863e-01,  6.79795444e-02,  1.62504196e-01,\n",
       "          2.26729095e-01,  6.15642667e-02],\n",
       "        [-2.36645699e-01, -1.47084296e-02, -1.68199152e-01,\n",
       "          2.82603800e-02, -2.40649730e-01, -3.08574170e-01,\n",
       "          5.12623489e-02, -1.03068560e-01, -3.26775074e-01,\n",
       "         -2.00141713e-01,  1.09980166e-01,  3.02793562e-01,\n",
       "         -2.53674686e-02, -2.57321835e-01,  1.27055049e-02,\n",
       "          3.10799420e-01, -2.17076331e-01,  1.48866564e-01,\n",
       "          9.05865431e-03, -5.98440170e-02, -1.48076251e-01,\n",
       "         -3.07832390e-01,  2.14729190e-01, -8.41685683e-02,\n",
       "         -9.31903869e-02, -9.77712274e-02, -1.67975321e-01,\n",
       "          1.92694545e-01,  4.49513495e-02, -2.13925898e-01,\n",
       "         -2.64072120e-01, -2.63574302e-01],\n",
       "        [ 7.53404200e-02, -3.61669064e-02,  1.46598309e-01,\n",
       "         -1.82935670e-01, -2.62267649e-01,  1.16900206e-01,\n",
       "          3.19608033e-01,  2.38931298e-01,  1.82879865e-01,\n",
       "          2.43403018e-01,  2.21532464e-01, -1.07475832e-01,\n",
       "         -5.55582643e-02,  3.22507083e-01, -1.16571784e-02,\n",
       "          6.06377721e-02, -7.67799020e-02,  1.70408100e-01,\n",
       "          2.88271785e-01,  3.46946120e-02,  3.03374767e-01,\n",
       "          1.33778781e-01, -1.49160922e-02, -2.24503785e-01,\n",
       "         -7.67191052e-02, -3.26413751e-01,  2.68377841e-01,\n",
       "          1.00472063e-01, -2.27056429e-01, -1.52630940e-01,\n",
       "         -8.24272335e-02,  1.53546989e-01],\n",
       "        [ 3.26931775e-02, -2.40350842e-01,  6.41929209e-02,\n",
       "         -1.70793146e-01, -4.06183600e-02, -1.67818546e-01,\n",
       "          8.47648084e-02, -9.62136090e-02,  1.52769923e-01,\n",
       "          3.47444713e-02, -2.57673562e-01,  2.99483776e-01,\n",
       "          7.84360766e-02, -3.07706833e-01, -1.17819756e-01,\n",
       "         -1.39228687e-01, -3.23411226e-01, -1.62237540e-01,\n",
       "         -2.94706106e-01,  3.04256558e-01, -7.23652840e-02,\n",
       "          3.93137336e-03,  3.26458812e-02,  2.75557876e-01,\n",
       "         -2.22456470e-01, -2.60278881e-01, -3.03376257e-01,\n",
       "          1.15475327e-01,  2.20328927e-01,  2.03864753e-01,\n",
       "         -1.09239474e-01, -1.30875200e-01],\n",
       "        [ 2.85126507e-01, -2.34853014e-01, -3.71268988e-02,\n",
       "          1.25782251e-01, -2.09027916e-01, -2.74972081e-01,\n",
       "          3.57341766e-03,  1.89738870e-01, -1.46112353e-01,\n",
       "         -3.03364873e-01, -1.60585642e-01,  9.74546075e-02,\n",
       "         -3.09955895e-01, -1.31563544e-02, -2.52284676e-01,\n",
       "         -9.69173014e-02,  5.50499558e-03, -4.61947918e-03,\n",
       "         -1.01785809e-01, -3.17931175e-02, -2.10536435e-01,\n",
       "         -3.05972308e-01, -2.87108511e-01,  2.14604318e-01,\n",
       "         -3.02380234e-01, -1.04186267e-01,  2.36494303e-01,\n",
       "         -2.86706358e-01,  6.51779473e-02,  2.87069440e-01,\n",
       "         -6.42596483e-02, -2.98426688e-01],\n",
       "        [ 2.69027472e-01,  2.83262372e-01,  5.86866736e-02,\n",
       "          1.05092227e-02, -1.74957216e-02,  2.80462503e-01,\n",
       "          1.02780461e-02, -2.39284173e-01,  2.30651438e-01,\n",
       "         -2.60824382e-01, -1.93415612e-01,  2.20779419e-01,\n",
       "         -1.23124659e-01,  3.14491093e-01, -2.71655321e-01,\n",
       "         -2.47009113e-01, -2.41857946e-01,  1.68582201e-02,\n",
       "         -5.02889454e-02, -5.72550297e-02, -2.56329447e-01,\n",
       "         -2.78720677e-01, -2.70778537e-01, -3.97221446e-02,\n",
       "         -2.82129198e-01, -1.59304291e-01,  3.23904991e-01,\n",
       "         -2.88093776e-01, -7.63244331e-02, -2.39906937e-01,\n",
       "         -3.07358444e-01, -2.69592941e-01],\n",
       "        [-1.36939049e-01,  2.39578724e-01,  2.84514725e-01,\n",
       "         -2.37416804e-01,  1.28750235e-01, -2.19589412e-01,\n",
       "         -7.07515478e-02, -2.68771499e-01, -5.85558712e-02,\n",
       "         -2.82598764e-01, -2.77614921e-01, -2.16759413e-01,\n",
       "         -2.44031623e-01,  1.60846919e-01, -2.20981330e-01,\n",
       "          5.22912443e-02, -3.09738308e-01, -2.38274008e-01,\n",
       "         -2.95199782e-01,  2.27942050e-01, -1.48310959e-02,\n",
       "         -2.34966874e-02,  2.23262787e-01, -2.49110371e-01,\n",
       "          8.49502981e-02, -4.16409969e-03,  1.61902040e-01,\n",
       "          1.04762048e-01,  6.19960725e-02, -1.26089349e-01,\n",
       "          2.74894834e-01,  1.27564400e-01],\n",
       "        [-9.43062156e-02, -1.49256289e-02, -9.22428966e-02,\n",
       "         -2.64356017e-01,  5.77211678e-02, -1.68130085e-01,\n",
       "          8.71804655e-02, -2.23192245e-01, -1.75620511e-01,\n",
       "          2.45754480e-01, -2.27914959e-01,  6.82174861e-02,\n",
       "         -2.04427868e-01, -6.52773678e-02, -2.82575577e-01,\n",
       "         -1.36674106e-01,  1.57619148e-01,  8.64744484e-02,\n",
       "          1.67453706e-01, -3.08516413e-01,  4.30145860e-03,\n",
       "         -4.99539077e-02, -7.10598230e-02, -1.58118233e-01,\n",
       "         -3.25971335e-01,  2.76010633e-01, -9.93702114e-02,\n",
       "          3.14019024e-02, -1.32330120e-01, -6.98917806e-02,\n",
       "         -2.35492170e-01,  1.42641872e-01],\n",
       "        [ 1.00784004e-01,  1.72012299e-01,  8.51960480e-02,\n",
       "         -1.40731052e-01,  2.39957273e-01, -1.09865829e-01,\n",
       "          1.04896426e-01,  1.77966952e-01, -2.13973820e-02,\n",
       "         -1.24426842e-01,  1.80840790e-02, -1.29952058e-01,\n",
       "         -3.11750114e-01, -6.89763725e-02,  1.86540782e-02,\n",
       "          2.91643798e-01,  6.81412220e-03, -1.27186447e-01,\n",
       "         -1.50338426e-01,  8.69134068e-02, -1.72708347e-01,\n",
       "          2.92917073e-01, -2.46026739e-01,  2.20201015e-01,\n",
       "         -3.08246166e-01,  2.50127554e-01, -1.83114618e-01,\n",
       "         -1.44450560e-01,  3.20564151e-01,  1.05587482e-01,\n",
       "          8.81612003e-02,  2.67815828e-01],\n",
       "        [-3.23413610e-02,  5.64173460e-02, -1.96685672e-01,\n",
       "         -9.55171734e-02,  1.23631150e-01,  1.77307785e-01,\n",
       "          8.97591710e-02,  4.15700674e-03, -1.97954774e-01,\n",
       "         -2.58672774e-01,  1.28579795e-01,  2.79315293e-01,\n",
       "         -1.40736908e-01,  1.15003288e-02, -1.78348124e-01,\n",
       "         -1.63344696e-01, -2.92678505e-01, -1.85542226e-01,\n",
       "         -2.40567625e-01, -3.48813534e-02,  4.32932079e-02,\n",
       "         -3.27788591e-02, -2.58850485e-01, -2.12848634e-01,\n",
       "         -2.47192502e-01,  2.90935814e-01,  4.57319915e-02,\n",
       "         -1.67543054e-01, -9.79568958e-02, -2.73495138e-01,\n",
       "         -1.83564842e-01, -2.82309949e-01],\n",
       "        [-1.95961699e-01, -2.39244133e-01,  1.14284337e-01,\n",
       "         -1.97545767e-01,  2.43293881e-01, -1.50567293e-02,\n",
       "         -1.46487653e-01,  2.44668722e-01,  7.08312392e-02,\n",
       "         -1.94677919e-01,  8.25660825e-02,  2.33903170e-01,\n",
       "         -2.42603630e-01,  8.59446824e-02,  1.51430756e-01,\n",
       "          4.09690738e-02, -2.24808544e-01, -1.25757277e-01,\n",
       "         -1.64078280e-01,  8.96241665e-02, -1.55840769e-01,\n",
       "          9.24831629e-03,  1.21347994e-01, -9.17238444e-02,\n",
       "          1.86665177e-01,  2.29859114e-01, -2.05310524e-01,\n",
       "         -7.19520450e-02,  2.21558988e-01,  3.44767869e-02,\n",
       "          1.60139650e-01, -3.11428845e-01],\n",
       "        [ 5.98874092e-02,  1.21671706e-01,  1.54125273e-01,\n",
       "         -2.00100437e-01,  4.54151630e-03,  2.25934505e-01,\n",
       "          1.30656987e-01, -2.40215361e-01,  2.33967960e-01,\n",
       "          2.80876935e-01,  1.97851479e-01,  3.02465618e-01,\n",
       "          2.09709048e-01,  1.07444227e-02, -2.06351280e-04,\n",
       "          6.81488216e-02,  6.94342256e-02,  2.73357570e-01,\n",
       "         -2.71394134e-01, -6.95853829e-02, -8.42298269e-02,\n",
       "         -1.01085857e-01,  2.35394061e-01, -1.39452815e-01,\n",
       "         -1.17802039e-01, -1.85699254e-01, -9.40087438e-03,\n",
       "         -1.18881345e-01,  2.30539322e-01,  3.21398675e-02,\n",
       "          6.25403225e-02, -2.55761772e-01],\n",
       "        [-8.23438168e-05,  1.41128123e-01, -7.98982531e-02,\n",
       "          5.38756251e-02, -1.27509385e-01,  2.53658116e-01,\n",
       "          2.68585503e-01, -1.28137767e-01,  3.19589317e-01,\n",
       "          3.60458791e-02, -1.37251213e-01,  3.50538194e-02,\n",
       "          2.74275661e-01, -5.01103103e-02,  2.92706847e-01,\n",
       "          1.85566127e-01,  4.62233424e-02, -9.86401290e-02,\n",
       "          2.44602561e-02, -4.43528593e-02,  1.27047151e-01,\n",
       "         -1.36451840e-01,  1.05445683e-01, -1.11015931e-01,\n",
       "          1.15573704e-02, -1.72804490e-01, -2.43902206e-03,\n",
       "         -8.09122324e-02,  3.14412236e-01, -8.18043202e-02,\n",
       "          2.77051330e-01,  4.72174287e-02],\n",
       "        [ 1.77799046e-01, -2.74041891e-01,  6.19213879e-02,\n",
       "          1.36108369e-01, -3.84956598e-02, -1.94601133e-01,\n",
       "          1.11509532e-01,  8.37731957e-02, -1.84129849e-01,\n",
       "          2.98146188e-01, -1.10747546e-01,  6.02303147e-02,\n",
       "          1.01321310e-01, -1.08120844e-01,  2.87573695e-01,\n",
       "         -2.43500173e-01, -1.25657082e-01, -1.65283695e-01,\n",
       "         -3.78621817e-02,  2.94060767e-01, -1.27653986e-01,\n",
       "          1.46036029e-01,  1.50969237e-01,  7.60287642e-02,\n",
       "         -2.26459414e-01,  3.03546786e-02, -2.94827133e-01,\n",
       "         -1.58221632e-01,  2.94094026e-01,  3.06463122e-01,\n",
       "         -7.11728036e-02, -6.71986639e-02],\n",
       "        [ 2.10067928e-02, -2.26008803e-01, -1.76415980e-01,\n",
       "         -2.57962137e-01,  8.02126825e-02,  2.29328990e-01,\n",
       "         -1.93151206e-01,  9.55075026e-04,  1.76607966e-01,\n",
       "         -8.01255852e-02, -2.14463472e-03, -2.17584148e-01,\n",
       "          1.50075257e-01, -1.29403189e-01,  2.09940195e-01,\n",
       "          2.99634933e-01,  3.46367657e-02, -2.66154230e-01,\n",
       "         -3.53684723e-02, -2.91698873e-01,  3.13903451e-01,\n",
       "          2.65529633e-01, -1.20569289e-01, -1.23132467e-01,\n",
       "          2.43311644e-01, -2.61224866e-01,  2.53983378e-01,\n",
       "         -1.74063608e-01,  1.85151935e-01,  1.69004679e-01,\n",
       "         -3.12055796e-01, -1.10335171e-01],\n",
       "        [ 2.19805241e-01,  2.92819977e-01,  2.91836679e-01,\n",
       "          2.65683889e-01,  5.12135625e-02, -2.74118781e-01,\n",
       "          1.58720016e-02, -1.25668392e-01,  9.94642377e-02,\n",
       "         -2.88946301e-01,  2.52452016e-01, -4.49632108e-02,\n",
       "          7.24586248e-02,  1.54616684e-01, -2.92671084e-01,\n",
       "         -1.22037396e-01, -4.05724049e-02,  2.90394962e-01,\n",
       "          1.67423725e-01, -2.97298133e-01, -6.41161203e-03,\n",
       "          2.12436020e-01,  2.08722055e-01, -2.43329808e-01,\n",
       "          1.27038062e-02,  4.25396562e-02,  2.35302985e-01,\n",
       "          1.96970701e-01,  2.61549056e-01,  2.04546392e-01,\n",
       "          6.05081618e-02, -2.34997869e-01],\n",
       "        [-1.38164207e-01, -2.27462396e-01, -2.92846084e-01,\n",
       "          1.26987755e-01, -1.34104222e-01,  1.38811707e-01,\n",
       "         -1.09534860e-01,  8.92293453e-02,  1.33078903e-01,\n",
       "          1.44671500e-01,  2.64877498e-01,  1.15641236e-01,\n",
       "         -1.58767924e-01, -2.32275635e-01, -1.89590365e-01,\n",
       "          1.12913638e-01,  2.73899317e-01, -1.39648929e-01,\n",
       "          3.47417295e-02, -9.08966959e-02,  2.39410460e-01,\n",
       "         -2.47750580e-01,  3.06959450e-01, -2.74470747e-01,\n",
       "         -2.67949492e-01, -3.26552421e-01,  2.35165656e-01,\n",
       "         -1.65748045e-01, -3.93839180e-02, -3.07924420e-01,\n",
       "          3.36026549e-02, -2.88601667e-01],\n",
       "        [ 2.29010582e-01, -1.13321483e-01, -1.88380495e-01,\n",
       "         -7.99700469e-02, -2.92131305e-01, -8.18267912e-02,\n",
       "          9.15741026e-02, -3.28918695e-02,  2.14350820e-01,\n",
       "          2.66682446e-01,  1.40367836e-01, -1.04198441e-01,\n",
       "          5.81071377e-02,  1.34178430e-01, -2.64494240e-01,\n",
       "          1.20364815e-01,  1.88863039e-01, -2.19794884e-01,\n",
       "         -1.28018752e-01, -2.67012715e-02, -3.02418709e-01,\n",
       "          8.30804408e-02,  2.26214826e-01, -1.35819629e-01,\n",
       "         -4.81635928e-02,  1.43891454e-01,  1.35430038e-01,\n",
       "          2.37372398e-01, -3.23582292e-01,  2.94927239e-01,\n",
       "         -1.86108261e-01,  3.26202571e-01]], dtype=float32),\n",
       " array([0., 0., 0., 0., 0., 0., 0., 0., 0., 0., 0., 0., 0., 0., 0., 0., 0.,\n",
       "        0., 0., 0., 0., 0., 0., 0., 0., 0., 0., 0., 0., 0., 0., 0.],\n",
       "       dtype=float32)]"
      ]
     },
     "execution_count": 505,
     "metadata": {},
     "output_type": "execute_result"
    }
   ],
   "source": [
    "nn_linear.layers[0].get_weights()"
   ]
  },
  {
   "cell_type": "code",
   "execution_count": 506,
   "metadata": {},
   "outputs": [
    {
     "data": {
      "text/plain": [
       "[array([[ 0.39539236,  0.29364318, -0.0604305 ,  0.11099201,  0.19382256],\n",
       "        [-0.03695315, -0.25778502, -0.06532678, -0.1760405 , -0.10289699],\n",
       "        [-0.03100872, -0.08885595,  0.25190878,  0.12284791, -0.28754428],\n",
       "        [ 0.22087902, -0.09892133,  0.01420406, -0.3273177 ,  0.04801318],\n",
       "        [ 0.15591824,  0.01036385,  0.03119728,  0.01280636, -0.27067405],\n",
       "        [-0.06940421,  0.03067383,  0.22537178, -0.2658053 ,  0.17310858],\n",
       "        [ 0.16001713, -0.3015855 , -0.19281846,  0.13813543, -0.10343617],\n",
       "        [ 0.13829786, -0.01574022, -0.00988516, -0.3462799 ,  0.16332376],\n",
       "        [-0.03111202,  0.00705218,  0.01551238,  0.29308164,  0.2955314 ],\n",
       "        [-0.12915573,  0.18651861,  0.39866912, -0.35268575, -0.35925484],\n",
       "        [-0.25027543, -0.2037459 , -0.3059114 , -0.07918778,  0.3984518 ],\n",
       "        [ 0.22206116, -0.31220734, -0.39567378, -0.28975758, -0.11959776],\n",
       "        [-0.28152186, -0.24652521, -0.11150283,  0.33754236, -0.00961536],\n",
       "        [-0.16788217, -0.21462265, -0.39877942, -0.24014749, -0.15557949],\n",
       "        [-0.29681727, -0.08202738,  0.30977374,  0.15224361, -0.14595002],\n",
       "        [-0.27228343,  0.16586262, -0.20783284,  0.12756199,  0.2435252 ],\n",
       "        [ 0.14849895,  0.26101768,  0.24874747, -0.05785829,  0.27547097],\n",
       "        [-0.11044344,  0.07551917,  0.24939495, -0.01119712, -0.36964297],\n",
       "        [-0.16714415,  0.18975663, -0.03948742, -0.22543679,  0.34079987],\n",
       "        [ 0.23901206,  0.22293007,  0.36676443, -0.27129108,  0.16159517],\n",
       "        [-0.22765355, -0.32062006, -0.03895736,  0.21240413,  0.30567956],\n",
       "        [-0.27891532,  0.19759542,  0.05533457, -0.16765271, -0.2534284 ],\n",
       "        [ 0.29028082, -0.23782213,  0.27523822,  0.24789631, -0.31854683],\n",
       "        [-0.34742713, -0.34783438, -0.34272966,  0.11309975, -0.12472132],\n",
       "        [-0.03063658,  0.34386623, -0.02018055,  0.01127577, -0.23362958],\n",
       "        [-0.15916353, -0.05391154,  0.14534086, -0.32938537,  0.26232362],\n",
       "        [ 0.20089078,  0.11512822, -0.10244986,  0.14023286, -0.11637568],\n",
       "        [ 0.28958255,  0.0918985 , -0.02427748,  0.01206774, -0.31608602],\n",
       "        [-0.24213046, -0.0972808 , -0.13673714,  0.11476099, -0.01060089],\n",
       "        [ 0.11577517,  0.28928626, -0.07367289, -0.0801526 ,  0.29637754],\n",
       "        [-0.07985967, -0.06027055,  0.32271963,  0.06976426, -0.10466087],\n",
       "        [-0.12455109, -0.09890425, -0.35326922, -0.21692966,  0.06803963]],\n",
       "       dtype=float32),\n",
       " array([0., 0., 0., 0., 0.], dtype=float32)]"
      ]
     },
     "execution_count": 506,
     "metadata": {},
     "output_type": "execute_result"
    }
   ],
   "source": [
    "nn_linear.layers[1].get_weights()"
   ]
  },
  {
   "cell_type": "code",
   "execution_count": 507,
   "metadata": {},
   "outputs": [],
   "source": [
    "nn_linear.compile(\n",
    "    loss=keras.losses.MeanSquaredError(),\n",
    "    optimizer=keras.optimizers.Adam(learning_rate=1e-3),\n",
    "    metrics=[\n",
    "        keras.metrics.RootMeanSquaredError(name=\"rmse\")\n",
    "    ]\n",
    ")"
   ]
  },
  {
   "cell_type": "code",
   "execution_count": 508,
   "metadata": {},
   "outputs": [],
   "source": [
    "assert nn_linear(train_samples[0]).shape == train_samples[1].shape"
   ]
  },
  {
   "cell_type": "code",
   "execution_count": 509,
   "metadata": {},
   "outputs": [
    {
     "name": "stdout",
     "output_type": "stream",
     "text": [
      "Epoch 1/500\n",
      "\u001b[1m99/99\u001b[0m \u001b[32m━━━━━━━━━━━━━━━━━━━━\u001b[0m\u001b[37m\u001b[0m \u001b[1m1s\u001b[0m 3ms/step - loss: 1.0624 - rmse: 1.0291 - val_loss: 0.9658 - val_rmse: 0.9828\n",
      "Epoch 2/500\n",
      "\u001b[1m99/99\u001b[0m \u001b[32m━━━━━━━━━━━━━━━━━━━━\u001b[0m\u001b[37m\u001b[0m \u001b[1m0s\u001b[0m 1ms/step - loss: 0.8046 - rmse: 0.8964 - val_loss: 0.8588 - val_rmse: 0.9267\n",
      "Epoch 3/500\n",
      "\u001b[1m99/99\u001b[0m \u001b[32m━━━━━━━━━━━━━━━━━━━━\u001b[0m\u001b[37m\u001b[0m \u001b[1m0s\u001b[0m 2ms/step - loss: 0.7532 - rmse: 0.8677 - val_loss: 0.8101 - val_rmse: 0.9000\n",
      "Epoch 4/500\n",
      "\u001b[1m99/99\u001b[0m \u001b[32m━━━━━━━━━━━━━━━━━━━━\u001b[0m\u001b[37m\u001b[0m \u001b[1m0s\u001b[0m 2ms/step - loss: 0.6698 - rmse: 0.8182 - val_loss: 0.7645 - val_rmse: 0.8744\n",
      "Epoch 5/500\n",
      "\u001b[1m99/99\u001b[0m \u001b[32m━━━━━━━━━━━━━━━━━━━━\u001b[0m\u001b[37m\u001b[0m \u001b[1m0s\u001b[0m 2ms/step - loss: 0.6040 - rmse: 0.7752 - val_loss: 0.7337 - val_rmse: 0.8566\n",
      "Epoch 6/500\n",
      "\u001b[1m99/99\u001b[0m \u001b[32m━━━━━━━━━━━━━━━━━━━━\u001b[0m\u001b[37m\u001b[0m \u001b[1m0s\u001b[0m 2ms/step - loss: 0.5271 - rmse: 0.7236 - val_loss: 0.7318 - val_rmse: 0.8555\n",
      "Epoch 7/500\n",
      "\u001b[1m99/99\u001b[0m \u001b[32m━━━━━━━━━━━━━━━━━━━━\u001b[0m\u001b[37m\u001b[0m \u001b[1m0s\u001b[0m 2ms/step - loss: 0.5775 - rmse: 0.7595 - val_loss: 0.7214 - val_rmse: 0.8494\n",
      "Epoch 8/500\n",
      "\u001b[1m99/99\u001b[0m \u001b[32m━━━━━━━━━━━━━━━━━━━━\u001b[0m\u001b[37m\u001b[0m \u001b[1m0s\u001b[0m 2ms/step - loss: 0.5454 - rmse: 0.7372 - val_loss: 0.7223 - val_rmse: 0.8499\n",
      "Epoch 9/500\n",
      "\u001b[1m99/99\u001b[0m \u001b[32m━━━━━━━━━━━━━━━━━━━━\u001b[0m\u001b[37m\u001b[0m \u001b[1m0s\u001b[0m 2ms/step - loss: 0.5112 - rmse: 0.7142 - val_loss: 0.7313 - val_rmse: 0.8552\n",
      "Epoch 10/500\n",
      "\u001b[1m99/99\u001b[0m \u001b[32m━━━━━━━━━━━━━━━━━━━━\u001b[0m\u001b[37m\u001b[0m \u001b[1m0s\u001b[0m 2ms/step - loss: 0.5612 - rmse: 0.7487 - val_loss: 0.7281 - val_rmse: 0.8533\n",
      "Epoch 11/500\n",
      "\u001b[1m99/99\u001b[0m \u001b[32m━━━━━━━━━━━━━━━━━━━━\u001b[0m\u001b[37m\u001b[0m \u001b[1m0s\u001b[0m 2ms/step - loss: 0.5151 - rmse: 0.7174 - val_loss: 0.7260 - val_rmse: 0.8521\n",
      "Epoch 12/500\n",
      "\u001b[1m99/99\u001b[0m \u001b[32m━━━━━━━━━━━━━━━━━━━━\u001b[0m\u001b[37m\u001b[0m \u001b[1m0s\u001b[0m 2ms/step - loss: 0.4557 - rmse: 0.6743 - val_loss: 0.7348 - val_rmse: 0.8572\n",
      "Epoch 13/500\n",
      "\u001b[1m99/99\u001b[0m \u001b[32m━━━━━━━━━━━━━━━━━━━━\u001b[0m\u001b[37m\u001b[0m \u001b[1m0s\u001b[0m 2ms/step - loss: 0.4275 - rmse: 0.6532 - val_loss: 0.7354 - val_rmse: 0.8576\n",
      "Epoch 14/500\n",
      "\u001b[1m99/99\u001b[0m \u001b[32m━━━━━━━━━━━━━━━━━━━━\u001b[0m\u001b[37m\u001b[0m \u001b[1m0s\u001b[0m 2ms/step - loss: 0.4406 - rmse: 0.6632 - val_loss: 0.7531 - val_rmse: 0.8678\n",
      "Epoch 15/500\n",
      "\u001b[1m99/99\u001b[0m \u001b[32m━━━━━━━━━━━━━━━━━━━━\u001b[0m\u001b[37m\u001b[0m \u001b[1m0s\u001b[0m 2ms/step - loss: 0.4179 - rmse: 0.6460 - val_loss: 0.7459 - val_rmse: 0.8637\n",
      "Epoch 16/500\n",
      "\u001b[1m99/99\u001b[0m \u001b[32m━━━━━━━━━━━━━━━━━━━━\u001b[0m\u001b[37m\u001b[0m \u001b[1m0s\u001b[0m 2ms/step - loss: 0.4023 - rmse: 0.6338 - val_loss: 0.7468 - val_rmse: 0.8642\n",
      "Epoch 17/500\n",
      "\u001b[1m99/99\u001b[0m \u001b[32m━━━━━━━━━━━━━━━━━━━━\u001b[0m\u001b[37m\u001b[0m \u001b[1m0s\u001b[0m 2ms/step - loss: 0.4587 - rmse: 0.6764 - val_loss: 0.7539 - val_rmse: 0.8683\n"
     ]
    }
   ],
   "source": [
    "history_dense = nn_linear.fit(\n",
    "    x=train_samples[0],\n",
    "    y=train_samples[1],\n",
    "    batch_size=10,\n",
    "    epochs=500,\n",
    "    validation_data=valid_samples,\n",
    "    callbacks=[keras.callbacks.EarlyStopping(patience=10)]\n",
    ")"
   ]
  },
  {
   "cell_type": "code",
   "execution_count": 510,
   "metadata": {},
   "outputs": [
    {
     "data": {
      "image/png": "[encoded data removed]",
      "text/plain": [
       "<Figure size 432x288 with 1 Axes>"
      ]
     },
     "metadata": {
      "needs_background": "light"
     },
     "output_type": "display_data"
    }
   ],
   "source": [
    "train_loss = history_dense.history['rmse']\n",
    "val_loss = history_dense.history['val_rmse']\n",
    "\n",
    "epochs = range(1, len(train_loss) + 1)\n",
    "\n",
    "plt.plot(epochs, train_loss, 'bo-', label='Training RMSE')\n",
    "plt.plot(epochs, val_loss, 'ro-', label='Validation RMSE')\n",
    "plt.title('Training and Validation RMSE')\n",
    "plt.xlabel('Epochs')\n",
    "plt.ylabel('RMSE')\n",
    "plt.legend()\n",
    "\n",
    "plt.show()"
   ]
  },
  {
   "cell_type": "markdown",
   "metadata": {},
   "source": [
    "## LSTM neural network"
   ]
  },
  {
   "cell_type": "code",
   "execution_count": 535,
   "metadata": {},
   "outputs": [],
   "source": [
    "def lstm_io(\n",
    "    df, # Pandas DataFrame with the data\n",
    "    idx:[Int], # DataFrame indedx\n",
    "    col:[str], # Column name\n",
    "    p:Int # Number of lags\n",
    "):\n",
    "    # Return an (input, output) tuple for a linear_layer model\n",
    "    \n",
    "    assert len(idx) == len(col)\n",
    "\n",
    "    batch_X, batch_y = [], []\n",
    "    for i in range(len(idx)):\n",
    "        X = df.iloc[idx[i]:(idx[i]+p)].values\n",
    "        X[np.isnan(X)] = 0\n",
    "        batch_X.append(X)\n",
    "        batch_y.append(df.iloc[idx[i]+p][[col[i]]].values)\n",
    "    \n",
    "    return np.vstack(batch_X), np.vstack(batch_y)"
   ]
  },
  {
   "cell_type": "code",
   "execution_count": 536,
   "metadata": {},
   "outputs": [],
   "source": [
    "lstm = layers.LSTM(units=64, return_sequences=True, return_state=False)\n",
    "fl = layers.Flatten()"
   ]
  },
  {
   "cell_type": "code",
   "execution_count": 534,
   "metadata": {},
   "outputs": [
    {
     "data": {
      "text/plain": [
       "(5, 24)"
      ]
     },
     "execution_count": 534,
     "metadata": {},
     "output_type": "execute_result"
    }
   ],
   "source": [
    "train_samples[0][:5].shape"
   ]
  },
  {
   "cell_type": "code",
   "execution_count": 531,
   "metadata": {},
   "outputs": [],
   "source": [
    "nn_lstm = keras.Sequential([\n",
    "    layers.LSTM(units=64, return_sequences=True, return_state=False, dropout=0.1),\n",
    "    #layers.LSTM(units=1, return_sequences=False, return_state=False, dropout=0.1),\n",
    "    layers.Flatten(),\n",
    "    layers.Dense(15, activation='relu'),\n",
    "    layers.Dense(1)\n",
    "])"
   ]
  },
  {
   "cell_type": "code",
   "execution_count": 525,
   "metadata": {},
   "outputs": [],
   "source": [
    "assert nn_lstm(np.expand_dims(train_samples[0], axis=-1)).shape == train_samples[1].shape"
   ]
  },
  {
   "cell_type": "code",
   "execution_count": 526,
   "metadata": {},
   "outputs": [
    {
     "data": {
      "text/html": [
       "<pre style=\"white-space:pre;overflow-x:auto;line-height:normal;font-family:Menlo,'DejaVu Sans Mono',consolas,'Courier New',monospace\"><span style=\"font-weight: bold\">Model: \"sequential_65\"</span>\n",
       "</pre>\n"
      ],
      "text/plain": [
       "\u001b[1mModel: \"sequential_65\"\u001b[0m\n"
      ]
     },
     "metadata": {},
     "output_type": "display_data"
    },
    {
     "data": {
      "text/html": [
       "<pre style=\"white-space:pre;overflow-x:auto;line-height:normal;font-family:Menlo,'DejaVu Sans Mono',consolas,'Courier New',monospace\">┏━━━━━━━━━━━━━━━━━━━━━━━━━━━━━━━━━┳━━━━━━━━━━━━━━━━━━━━━━━━━━━┳━━━━━━━━━━━━┓\n",
       "┃<span style=\"font-weight: bold\"> Layer (type)                    </span>┃<span style=\"font-weight: bold\"> Output Shape              </span>┃<span style=\"font-weight: bold\">    Param # </span>┃\n",
       "┡━━━━━━━━━━━━━━━━━━━━━━━━━━━━━━━━━╇━━━━━━━━━━━━━━━━━━━━━━━━━━━╇━━━━━━━━━━━━┩\n",
       "│ lstm_94 (<span style=\"color: #0087ff; text-decoration-color: #0087ff\">LSTM</span>)                  │ (<span style=\"color: #00af00; text-decoration-color: #00af00\">988</span>, <span style=\"color: #00af00; text-decoration-color: #00af00\">24</span>, <span style=\"color: #00af00; text-decoration-color: #00af00\">64</span>)             │     <span style=\"color: #00af00; text-decoration-color: #00af00\">16,896</span> │\n",
       "├─────────────────────────────────┼───────────────────────────┼────────────┤\n",
       "│ flatten_22 (<span style=\"color: #0087ff; text-decoration-color: #0087ff\">Flatten</span>)            │ (<span style=\"color: #00af00; text-decoration-color: #00af00\">988</span>, <span style=\"color: #00af00; text-decoration-color: #00af00\">1536</span>)               │          <span style=\"color: #00af00; text-decoration-color: #00af00\">0</span> │\n",
       "├─────────────────────────────────┼───────────────────────────┼────────────┤\n",
       "│ dense_174 (<span style=\"color: #0087ff; text-decoration-color: #0087ff\">Dense</span>)               │ (<span style=\"color: #00af00; text-decoration-color: #00af00\">988</span>, <span style=\"color: #00af00; text-decoration-color: #00af00\">15</span>)                 │     <span style=\"color: #00af00; text-decoration-color: #00af00\">23,055</span> │\n",
       "├─────────────────────────────────┼───────────────────────────┼────────────┤\n",
       "│ dense_175 (<span style=\"color: #0087ff; text-decoration-color: #0087ff\">Dense</span>)               │ (<span style=\"color: #00af00; text-decoration-color: #00af00\">988</span>, <span style=\"color: #00af00; text-decoration-color: #00af00\">1</span>)                  │         <span style=\"color: #00af00; text-decoration-color: #00af00\">16</span> │\n",
       "└─────────────────────────────────┴───────────────────────────┴────────────┘\n",
       "</pre>\n"
      ],
      "text/plain": [
       "┏━━━━━━━━━━━━━━━━━━━━━━━━━━━━━━━━━┳━━━━━━━━━━━━━━━━━━━━━━━━━━━┳━━━━━━━━━━━━┓\n",
       "┃\u001b[1m \u001b[0m\u001b[1mLayer (type)                   \u001b[0m\u001b[1m \u001b[0m┃\u001b[1m \u001b[0m\u001b[1mOutput Shape             \u001b[0m\u001b[1m \u001b[0m┃\u001b[1m \u001b[0m\u001b[1m   Param #\u001b[0m\u001b[1m \u001b[0m┃\n",
       "┡━━━━━━━━━━━━━━━━━━━━━━━━━━━━━━━━━╇━━━━━━━━━━━━━━━━━━━━━━━━━━━╇━━━━━━━━━━━━┩\n",
       "│ lstm_94 (\u001b[38;5;33mLSTM\u001b[0m)                  │ (\u001b[38;5;34m988\u001b[0m, \u001b[38;5;34m24\u001b[0m, \u001b[38;5;34m64\u001b[0m)             │     \u001b[38;5;34m16,896\u001b[0m │\n",
       "├─────────────────────────────────┼───────────────────────────┼────────────┤\n",
       "│ flatten_22 (\u001b[38;5;33mFlatten\u001b[0m)            │ (\u001b[38;5;34m988\u001b[0m, \u001b[38;5;34m1536\u001b[0m)               │          \u001b[38;5;34m0\u001b[0m │\n",
       "├─────────────────────────────────┼───────────────────────────┼────────────┤\n",
       "│ dense_174 (\u001b[38;5;33mDense\u001b[0m)               │ (\u001b[38;5;34m988\u001b[0m, \u001b[38;5;34m15\u001b[0m)                 │     \u001b[38;5;34m23,055\u001b[0m │\n",
       "├─────────────────────────────────┼───────────────────────────┼────────────┤\n",
       "│ dense_175 (\u001b[38;5;33mDense\u001b[0m)               │ (\u001b[38;5;34m988\u001b[0m, \u001b[38;5;34m1\u001b[0m)                  │         \u001b[38;5;34m16\u001b[0m │\n",
       "└─────────────────────────────────┴───────────────────────────┴────────────┘\n"
      ]
     },
     "metadata": {},
     "output_type": "display_data"
    },
    {
     "data": {
      "text/html": [
       "<pre style=\"white-space:pre;overflow-x:auto;line-height:normal;font-family:Menlo,'DejaVu Sans Mono',consolas,'Courier New',monospace\"><span style=\"font-weight: bold\"> Total params: </span><span style=\"color: #00af00; text-decoration-color: #00af00\">39,967</span> (156.12 KB)\n",
       "</pre>\n"
      ],
      "text/plain": [
       "\u001b[1m Total params: \u001b[0m\u001b[38;5;34m39,967\u001b[0m (156.12 KB)\n"
      ]
     },
     "metadata": {},
     "output_type": "display_data"
    },
    {
     "data": {
      "text/html": [
       "<pre style=\"white-space:pre;overflow-x:auto;line-height:normal;font-family:Menlo,'DejaVu Sans Mono',consolas,'Courier New',monospace\"><span style=\"font-weight: bold\"> Trainable params: </span><span style=\"color: #00af00; text-decoration-color: #00af00\">39,967</span> (156.12 KB)\n",
       "</pre>\n"
      ],
      "text/plain": [
       "\u001b[1m Trainable params: \u001b[0m\u001b[38;5;34m39,967\u001b[0m (156.12 KB)\n"
      ]
     },
     "metadata": {},
     "output_type": "display_data"
    },
    {
     "data": {
      "text/html": [
       "<pre style=\"white-space:pre;overflow-x:auto;line-height:normal;font-family:Menlo,'DejaVu Sans Mono',consolas,'Courier New',monospace\"><span style=\"font-weight: bold\"> Non-trainable params: </span><span style=\"color: #00af00; text-decoration-color: #00af00\">0</span> (0.00 B)\n",
       "</pre>\n"
      ],
      "text/plain": [
       "\u001b[1m Non-trainable params: \u001b[0m\u001b[38;5;34m0\u001b[0m (0.00 B)\n"
      ]
     },
     "metadata": {},
     "output_type": "display_data"
    }
   ],
   "source": [
    "nn_lstm.summary()"
   ]
  },
  {
   "cell_type": "code",
   "execution_count": 527,
   "metadata": {},
   "outputs": [],
   "source": [
    "nn_lstm.compile(\n",
    "    loss=keras.losses.MeanSquaredError(),\n",
    "    optimizer=keras.optimizers.Adam(learning_rate=1e-3),\n",
    "    metrics=[\n",
    "        keras.metrics.RootMeanSquaredError(name=\"rmse\")\n",
    "    ]\n",
    ")"
   ]
  },
  {
   "cell_type": "code",
   "execution_count": 528,
   "metadata": {},
   "outputs": [
    {
     "name": "stdout",
     "output_type": "stream",
     "text": [
      "Epoch 1/500\n"
     ]
    },
    {
     "name": "stderr",
     "output_type": "stream",
     "text": [
      "2023-12-13 04:11:46.375325: W tensorflow/core/framework/op_kernel.cc:1839] OP_REQUIRES failed at reshape_op.h:65 : INVALID_ARGUMENT: Only one input size may be -1, not both 0 and 1\n"
     ]
    },
    {
     "ename": "InvalidArgumentError",
     "evalue": "Graph execution error:\n\nDetected at node sequential_65_1/flatten_22_1/Reshape defined at (most recent call last):\n  File \"/Library/Frameworks/Python.framework/Versions/3.10/lib/python3.10/runpy.py\", line 196, in _run_module_as_main\n\n  File \"/Library/Frameworks/Python.framework/Versions/3.10/lib/python3.10/runpy.py\", line 86, in _run_code\n\n  File \"/Users/douglasaraujo/Coding/.venv_gingado/lib/python3.10/site-packages/ipykernel_launcher.py\", line 17, in <module>\n\n  File \"/Users/douglasaraujo/Coding/.venv_gingado/lib/python3.10/site-packages/traitlets/config/application.py\", line 1043, in launch_instance\n\n  File \"/Users/douglasaraujo/Coding/.venv_gingado/lib/python3.10/site-packages/ipykernel/kernelapp.py\", line 724, in start\n\n  File \"/Users/douglasaraujo/Coding/.venv_gingado/lib/python3.10/site-packages/tornado/platform/asyncio.py\", line 215, in start\n\n  File \"/Library/Frameworks/Python.framework/Versions/3.10/lib/python3.10/asyncio/base_events.py\", line 595, in run_forever\n\n  File \"/Library/Frameworks/Python.framework/Versions/3.10/lib/python3.10/asyncio/base_events.py\", line 1881, in _run_once\n\n  File \"/Library/Frameworks/Python.framework/Versions/3.10/lib/python3.10/asyncio/events.py\", line 80, in _run\n\n  File \"/Users/douglasaraujo/Coding/.venv_gingado/lib/python3.10/site-packages/ipykernel/kernelbase.py\", line 512, in dispatch_queue\n\n  File \"/Users/douglasaraujo/Coding/.venv_gingado/lib/python3.10/site-packages/ipykernel/kernelbase.py\", line 501, in process_one\n\n  File \"/Users/douglasaraujo/Coding/.venv_gingado/lib/python3.10/site-packages/ipykernel/kernelbase.py\", line 408, in dispatch_shell\n\n  File \"/Users/douglasaraujo/Coding/.venv_gingado/lib/python3.10/site-packages/ipykernel/kernelbase.py\", line 731, in execute_request\n\n  File \"/Users/douglasaraujo/Coding/.venv_gingado/lib/python3.10/site-packages/ipykernel/ipkernel.py\", line 424, in do_execute\n\n  File \"/Users/douglasaraujo/Coding/.venv_gingado/lib/python3.10/site-packages/ipykernel/zmqshell.py\", line 540, in run_cell\n\n  File \"/Users/douglasaraujo/Coding/.venv_gingado/lib/python3.10/site-packages/IPython/core/interactiveshell.py\", line 2768, in run_cell\n\n  File \"/Users/douglasaraujo/Coding/.venv_gingado/lib/python3.10/site-packages/IPython/core/interactiveshell.py\", line 2814, in _run_cell\n\n  File \"/Users/douglasaraujo/Coding/.venv_gingado/lib/python3.10/site-packages/IPython/core/async_helpers.py\", line 129, in _pseudo_sync_runner\n\n  File \"/Users/douglasaraujo/Coding/.venv_gingado/lib/python3.10/site-packages/IPython/core/interactiveshell.py\", line 3012, in run_cell_async\n\n  File \"/Users/douglasaraujo/Coding/.venv_gingado/lib/python3.10/site-packages/IPython/core/interactiveshell.py\", line 3191, in run_ast_nodes\n\n  File \"/Users/douglasaraujo/Coding/.venv_gingado/lib/python3.10/site-packages/IPython/core/interactiveshell.py\", line 3251, in run_code\n\n  File \"/var/folders/b9/p8z57lqd55xfk68xz34dg0s40000gn/T/ipykernel_3761/3066928478.py\", line 1, in <module>\n\n  File \"/Users/douglasaraujo/Coding/.venv_gingado/lib/python3.10/site-packages/keras/src/utils/traceback_utils.py\", line 118, in error_handler\n\n  File \"/Users/douglasaraujo/Coding/.venv_gingado/lib/python3.10/site-packages/keras/src/backend/tensorflow/trainer.py\", line 323, in fit\n\n  File \"/Users/douglasaraujo/Coding/.venv_gingado/lib/python3.10/site-packages/keras/src/backend/tensorflow/trainer.py\", line 117, in one_step_on_iterator\n\n  File \"/Users/douglasaraujo/Coding/.venv_gingado/lib/python3.10/site-packages/keras/src/backend/tensorflow/trainer.py\", line 105, in one_step_on_data\n\n  File \"/Users/douglasaraujo/Coding/.venv_gingado/lib/python3.10/site-packages/keras/src/backend/tensorflow/trainer.py\", line 56, in train_step\n\n  File \"/Users/douglasaraujo/Coding/.venv_gingado/lib/python3.10/site-packages/keras/src/utils/traceback_utils.py\", line 118, in error_handler\n\n  File \"/Users/douglasaraujo/Coding/.venv_gingado/lib/python3.10/site-packages/keras/src/layers/layer.py\", line 831, in __call__\n\n  File \"/Users/douglasaraujo/Coding/.venv_gingado/lib/python3.10/site-packages/keras/src/utils/traceback_utils.py\", line 118, in error_handler\n\n  File \"/Users/douglasaraujo/Coding/.venv_gingado/lib/python3.10/site-packages/keras/src/ops/operation.py\", line 42, in __call__\n\n  File \"/Users/douglasaraujo/Coding/.venv_gingado/lib/python3.10/site-packages/keras/src/utils/traceback_utils.py\", line 157, in error_handler\n\n  File \"/Users/douglasaraujo/Coding/.venv_gingado/lib/python3.10/site-packages/keras/src/models/sequential.py\", line 203, in call\n\n  File \"/Users/douglasaraujo/Coding/.venv_gingado/lib/python3.10/site-packages/keras/src/models/functional.py\", line 188, in call\n\n  File \"/Users/douglasaraujo/Coding/.venv_gingado/lib/python3.10/site-packages/keras/src/ops/function.py\", line 153, in _run_through_graph\n\n  File \"/Users/douglasaraujo/Coding/.venv_gingado/lib/python3.10/site-packages/keras/src/models/functional.py\", line 572, in call\n\n  File \"/Users/douglasaraujo/Coding/.venv_gingado/lib/python3.10/site-packages/keras/src/utils/traceback_utils.py\", line 118, in error_handler\n\n  File \"/Users/douglasaraujo/Coding/.venv_gingado/lib/python3.10/site-packages/keras/src/layers/layer.py\", line 831, in __call__\n\n  File \"/Users/douglasaraujo/Coding/.venv_gingado/lib/python3.10/site-packages/keras/src/utils/traceback_utils.py\", line 118, in error_handler\n\n  File \"/Users/douglasaraujo/Coding/.venv_gingado/lib/python3.10/site-packages/keras/src/ops/operation.py\", line 42, in __call__\n\n  File \"/Users/douglasaraujo/Coding/.venv_gingado/lib/python3.10/site-packages/keras/src/utils/traceback_utils.py\", line 157, in error_handler\n\n  File \"/Users/douglasaraujo/Coding/.venv_gingado/lib/python3.10/site-packages/keras/src/layers/reshaping/flatten.py\", line 54, in call\n\n  File \"/Users/douglasaraujo/Coding/.venv_gingado/lib/python3.10/site-packages/keras/src/ops/numpy.py\", line 4501, in reshape\n\n  File \"/Users/douglasaraujo/Coding/.venv_gingado/lib/python3.10/site-packages/keras/src/backend/tensorflow/numpy.py\", line 1279, in reshape\n\nOnly one input size may be -1, not both 0 and 1\n\t [[{{node sequential_65_1/flatten_22_1/Reshape}}]] [Op:__inference_one_step_on_iterator_1542446]",
     "output_type": "error",
     "traceback": [
      "\u001b[0;31m---------------------------------------------------------------------------\u001b[0m",
      "\u001b[0;31mInvalidArgumentError\u001b[0m                      Traceback (most recent call last)",
      "\u001b[1;32m/Users/douglasaraujo/Coding/TemporalFusionTransformers/temporal_fusion_transformers.ipynb Cell 131\u001b[0m in \u001b[0;36m<module>\u001b[0;34m\u001b[0m\n\u001b[0;32m----> <a href='vscode-notebook-cell:/Users/douglasaraujo/Coding/TemporalFusionTransformers/temporal_fusion_transformers.ipynb#Y335sZmlsZQ%3D%3D?line=0'>1</a>\u001b[0m history_lstm \u001b[39m=\u001b[39m nn_lstm\u001b[39m.\u001b[39;49mfit(\n\u001b[1;32m      <a href='vscode-notebook-cell:/Users/douglasaraujo/Coding/TemporalFusionTransformers/temporal_fusion_transformers.ipynb#Y335sZmlsZQ%3D%3D?line=1'>2</a>\u001b[0m     x\u001b[39m=\u001b[39;49mtrain_samples[\u001b[39m0\u001b[39;49m],\n\u001b[1;32m      <a href='vscode-notebook-cell:/Users/douglasaraujo/Coding/TemporalFusionTransformers/temporal_fusion_transformers.ipynb#Y335sZmlsZQ%3D%3D?line=2'>3</a>\u001b[0m     y\u001b[39m=\u001b[39;49mtrain_samples[\u001b[39m1\u001b[39;49m],\n\u001b[1;32m      <a href='vscode-notebook-cell:/Users/douglasaraujo/Coding/TemporalFusionTransformers/temporal_fusion_transformers.ipynb#Y335sZmlsZQ%3D%3D?line=3'>4</a>\u001b[0m     batch_size\u001b[39m=\u001b[39;49m\u001b[39m10\u001b[39;49m,\n\u001b[1;32m      <a href='vscode-notebook-cell:/Users/douglasaraujo/Coding/TemporalFusionTransformers/temporal_fusion_transformers.ipynb#Y335sZmlsZQ%3D%3D?line=4'>5</a>\u001b[0m     epochs\u001b[39m=\u001b[39;49m\u001b[39m500\u001b[39;49m,\n\u001b[1;32m      <a href='vscode-notebook-cell:/Users/douglasaraujo/Coding/TemporalFusionTransformers/temporal_fusion_transformers.ipynb#Y335sZmlsZQ%3D%3D?line=5'>6</a>\u001b[0m     validation_data\u001b[39m=\u001b[39;49mvalid_samples,\n\u001b[1;32m      <a href='vscode-notebook-cell:/Users/douglasaraujo/Coding/TemporalFusionTransformers/temporal_fusion_transformers.ipynb#Y335sZmlsZQ%3D%3D?line=6'>7</a>\u001b[0m     callbacks\u001b[39m=\u001b[39;49m[keras\u001b[39m.\u001b[39;49mcallbacks\u001b[39m.\u001b[39;49mEarlyStopping(patience\u001b[39m=\u001b[39;49m\u001b[39m10\u001b[39;49m)]\n\u001b[1;32m      <a href='vscode-notebook-cell:/Users/douglasaraujo/Coding/TemporalFusionTransformers/temporal_fusion_transformers.ipynb#Y335sZmlsZQ%3D%3D?line=7'>8</a>\u001b[0m )\n",
      "File \u001b[0;32m~/Coding/.venv_gingado/lib/python3.10/site-packages/keras/src/utils/traceback_utils.py:123\u001b[0m, in \u001b[0;36mfilter_traceback.<locals>.error_handler\u001b[0;34m(*args, **kwargs)\u001b[0m\n\u001b[1;32m    120\u001b[0m     filtered_tb \u001b[39m=\u001b[39m _process_traceback_frames(e\u001b[39m.\u001b[39m__traceback__)\n\u001b[1;32m    121\u001b[0m     \u001b[39m# To get the full stack trace, call:\u001b[39;00m\n\u001b[1;32m    122\u001b[0m     \u001b[39m# `keras.config.disable_traceback_filtering()`\u001b[39;00m\n\u001b[0;32m--> 123\u001b[0m     \u001b[39mraise\u001b[39;00m e\u001b[39m.\u001b[39mwith_traceback(filtered_tb) \u001b[39mfrom\u001b[39;00m \u001b[39mNone\u001b[39m\n\u001b[1;32m    124\u001b[0m \u001b[39mfinally\u001b[39;00m:\n\u001b[1;32m    125\u001b[0m     \u001b[39mdel\u001b[39;00m filtered_tb\n",
      "File \u001b[0;32m~/Coding/.venv_gingado/lib/python3.10/site-packages/tensorflow/python/eager/execute.py:53\u001b[0m, in \u001b[0;36mquick_execute\u001b[0;34m(op_name, num_outputs, inputs, attrs, ctx, name)\u001b[0m\n\u001b[1;32m     51\u001b[0m \u001b[39mtry\u001b[39;00m:\n\u001b[1;32m     52\u001b[0m   ctx\u001b[39m.\u001b[39mensure_initialized()\n\u001b[0;32m---> 53\u001b[0m   tensors \u001b[39m=\u001b[39m pywrap_tfe\u001b[39m.\u001b[39mTFE_Py_Execute(ctx\u001b[39m.\u001b[39m_handle, device_name, op_name,\n\u001b[1;32m     54\u001b[0m                                       inputs, attrs, num_outputs)\n\u001b[1;32m     55\u001b[0m \u001b[39mexcept\u001b[39;00m core\u001b[39m.\u001b[39m_NotOkStatusException \u001b[39mas\u001b[39;00m e:\n\u001b[1;32m     56\u001b[0m   \u001b[39mif\u001b[39;00m name \u001b[39mis\u001b[39;00m \u001b[39mnot\u001b[39;00m \u001b[39mNone\u001b[39;00m:\n",
      "\u001b[0;31mInvalidArgumentError\u001b[0m: Graph execution error:\n\nDetected at node sequential_65_1/flatten_22_1/Reshape defined at (most recent call last):\n  File \"/Library/Frameworks/Python.framework/Versions/3.10/lib/python3.10/runpy.py\", line 196, in _run_module_as_main\n\n  File \"/Library/Frameworks/Python.framework/Versions/3.10/lib/python3.10/runpy.py\", line 86, in _run_code\n\n  File \"/Users/douglasaraujo/Coding/.venv_gingado/lib/python3.10/site-packages/ipykernel_launcher.py\", line 17, in <module>\n\n  File \"/Users/douglasaraujo/Coding/.venv_gingado/lib/python3.10/site-packages/traitlets/config/application.py\", line 1043, in launch_instance\n\n  File \"/Users/douglasaraujo/Coding/.venv_gingado/lib/python3.10/site-packages/ipykernel/kernelapp.py\", line 724, in start\n\n  File \"/Users/douglasaraujo/Coding/.venv_gingado/lib/python3.10/site-packages/tornado/platform/asyncio.py\", line 215, in start\n\n  File \"/Library/Frameworks/Python.framework/Versions/3.10/lib/python3.10/asyncio/base_events.py\", line 595, in run_forever\n\n  File \"/Library/Frameworks/Python.framework/Versions/3.10/lib/python3.10/asyncio/base_events.py\", line 1881, in _run_once\n\n  File \"/Library/Frameworks/Python.framework/Versions/3.10/lib/python3.10/asyncio/events.py\", line 80, in _run\n\n  File \"/Users/douglasaraujo/Coding/.venv_gingado/lib/python3.10/site-packages/ipykernel/kernelbase.py\", line 512, in dispatch_queue\n\n  File \"/Users/douglasaraujo/Coding/.venv_gingado/lib/python3.10/site-packages/ipykernel/kernelbase.py\", line 501, in process_one\n\n  File \"/Users/douglasaraujo/Coding/.venv_gingado/lib/python3.10/site-packages/ipykernel/kernelbase.py\", line 408, in dispatch_shell\n\n  File \"/Users/douglasaraujo/Coding/.venv_gingado/lib/python3.10/site-packages/ipykernel/kernelbase.py\", line 731, in execute_request\n\n  File \"/Users/douglasaraujo/Coding/.venv_gingado/lib/python3.10/site-packages/ipykernel/ipkernel.py\", line 424, in do_execute\n\n  File \"/Users/douglasaraujo/Coding/.venv_gingado/lib/python3.10/site-packages/ipykernel/zmqshell.py\", line 540, in run_cell\n\n  File \"/Users/douglasaraujo/Coding/.venv_gingado/lib/python3.10/site-packages/IPython/core/interactiveshell.py\", line 2768, in run_cell\n\n  File \"/Users/douglasaraujo/Coding/.venv_gingado/lib/python3.10/site-packages/IPython/core/interactiveshell.py\", line 2814, in _run_cell\n\n  File \"/Users/douglasaraujo/Coding/.venv_gingado/lib/python3.10/site-packages/IPython/core/async_helpers.py\", line 129, in _pseudo_sync_runner\n\n  File \"/Users/douglasaraujo/Coding/.venv_gingado/lib/python3.10/site-packages/IPython/core/interactiveshell.py\", line 3012, in run_cell_async\n\n  File \"/Users/douglasaraujo/Coding/.venv_gingado/lib/python3.10/site-packages/IPython/core/interactiveshell.py\", line 3191, in run_ast_nodes\n\n  File \"/Users/douglasaraujo/Coding/.venv_gingado/lib/python3.10/site-packages/IPython/core/interactiveshell.py\", line 3251, in run_code\n\n  File \"/var/folders/b9/p8z57lqd55xfk68xz34dg0s40000gn/T/ipykernel_3761/3066928478.py\", line 1, in <module>\n\n  File \"/Users/douglasaraujo/Coding/.venv_gingado/lib/python3.10/site-packages/keras/src/utils/traceback_utils.py\", line 118, in error_handler\n\n  File \"/Users/douglasaraujo/Coding/.venv_gingado/lib/python3.10/site-packages/keras/src/backend/tensorflow/trainer.py\", line 323, in fit\n\n  File \"/Users/douglasaraujo/Coding/.venv_gingado/lib/python3.10/site-packages/keras/src/backend/tensorflow/trainer.py\", line 117, in one_step_on_iterator\n\n  File \"/Users/douglasaraujo/Coding/.venv_gingado/lib/python3.10/site-packages/keras/src/backend/tensorflow/trainer.py\", line 105, in one_step_on_data\n\n  File \"/Users/douglasaraujo/Coding/.venv_gingado/lib/python3.10/site-packages/keras/src/backend/tensorflow/trainer.py\", line 56, in train_step\n\n  File \"/Users/douglasaraujo/Coding/.venv_gingado/lib/python3.10/site-packages/keras/src/utils/traceback_utils.py\", line 118, in error_handler\n\n  File \"/Users/douglasaraujo/Coding/.venv_gingado/lib/python3.10/site-packages/keras/src/layers/layer.py\", line 831, in __call__\n\n  File \"/Users/douglasaraujo/Coding/.venv_gingado/lib/python3.10/site-packages/keras/src/utils/traceback_utils.py\", line 118, in error_handler\n\n  File \"/Users/douglasaraujo/Coding/.venv_gingado/lib/python3.10/site-packages/keras/src/ops/operation.py\", line 42, in __call__\n\n  File \"/Users/douglasaraujo/Coding/.venv_gingado/lib/python3.10/site-packages/keras/src/utils/traceback_utils.py\", line 157, in error_handler\n\n  File \"/Users/douglasaraujo/Coding/.venv_gingado/lib/python3.10/site-packages/keras/src/models/sequential.py\", line 203, in call\n\n  File \"/Users/douglasaraujo/Coding/.venv_gingado/lib/python3.10/site-packages/keras/src/models/functional.py\", line 188, in call\n\n  File \"/Users/douglasaraujo/Coding/.venv_gingado/lib/python3.10/site-packages/keras/src/ops/function.py\", line 153, in _run_through_graph\n\n  File \"/Users/douglasaraujo/Coding/.venv_gingado/lib/python3.10/site-packages/keras/src/models/functional.py\", line 572, in call\n\n  File \"/Users/douglasaraujo/Coding/.venv_gingado/lib/python3.10/site-packages/keras/src/utils/traceback_utils.py\", line 118, in error_handler\n\n  File \"/Users/douglasaraujo/Coding/.venv_gingado/lib/python3.10/site-packages/keras/src/layers/layer.py\", line 831, in __call__\n\n  File \"/Users/douglasaraujo/Coding/.venv_gingado/lib/python3.10/site-packages/keras/src/utils/traceback_utils.py\", line 118, in error_handler\n\n  File \"/Users/douglasaraujo/Coding/.venv_gingado/lib/python3.10/site-packages/keras/src/ops/operation.py\", line 42, in __call__\n\n  File \"/Users/douglasaraujo/Coding/.venv_gingado/lib/python3.10/site-packages/keras/src/utils/traceback_utils.py\", line 157, in error_handler\n\n  File \"/Users/douglasaraujo/Coding/.venv_gingado/lib/python3.10/site-packages/keras/src/layers/reshaping/flatten.py\", line 54, in call\n\n  File \"/Users/douglasaraujo/Coding/.venv_gingado/lib/python3.10/site-packages/keras/src/ops/numpy.py\", line 4501, in reshape\n\n  File \"/Users/douglasaraujo/Coding/.venv_gingado/lib/python3.10/site-packages/keras/src/backend/tensorflow/numpy.py\", line 1279, in reshape\n\nOnly one input size may be -1, not both 0 and 1\n\t [[{{node sequential_65_1/flatten_22_1/Reshape}}]] [Op:__inference_one_step_on_iterator_1542446]"
     ]
    }
   ],
   "source": [
    "history_lstm = nn_lstm.fit(\n",
    "    x=train_samples[0],\n",
    "    y=train_samples[1],\n",
    "    batch_size=10,\n",
    "    epochs=500,\n",
    "    validation_data=valid_samples,\n",
    "    callbacks=[keras.callbacks.EarlyStopping(patience=10)]\n",
    ")"
   ]
  },
  {
   "cell_type": "code",
   "execution_count": 518,
   "metadata": {},
   "outputs": [
    {
     "data": {
      "image/png": "[encoded data removed]",
      "text/plain": [
       "<Figure size 432x288 with 1 Axes>"
      ]
     },
     "metadata": {
      "needs_background": "light"
     },
     "output_type": "display_data"
    }
   ],
   "source": [
    "train_loss = history_lstm.history['rmse']\n",
    "val_loss = history_lstm.history['val_rmse']\n",
    "\n",
    "epochs = range(1, len(train_loss) + 1)\n",
    "\n",
    "plt.plot(epochs, train_loss, 'bo-', label='Training RMSE')\n",
    "plt.plot(epochs, val_loss, 'ro-', label='Validation RMSE')\n",
    "plt.title('Training and Validation RMSE')\n",
    "plt.xlabel('Epochs')\n",
    "plt.ylabel('RMSE')\n",
    "plt.legend()\n",
    "\n",
    "plt.show()"
   ]
  },
  {
   "cell_type": "markdown",
   "metadata": {},
   "source": [
    "## LSTM with other countries' inflation data"
   ]
  },
  {
   "cell_type": "markdown",
   "metadata": {},
   "source": [
    "The difference between this and the previous one is that it is not only autoregressive, but also considers past data from other countries."
   ]
  },
  {
   "cell_type": "markdown",
   "metadata": {},
   "source": [
    "### Data formatting"
   ]
  },
  {
   "cell_type": "code",
   "execution_count": 421,
   "metadata": {},
   "outputs": [],
   "source": [
    "def lstm_cty_io(\n",
    "    df, # Pandas DataFrame with the data\n",
    "    idx:[Int], # DataFrame indedx\n",
    "    col:[str], # Column name\n",
    "    p:Int # Number of lags\n",
    "):\n",
    "    # Return an (input, output) tuple for a linear_layer model\n",
    "    \n",
    "    assert len(idx) == len(col)\n",
    "\n",
    "    batch_X, batch_y = [], []\n",
    "    for i in range(len(idx)):\n",
    "        X = df.iloc[idx[i]:(idx[i]+p)].values\n",
    "        X[np.isnan(X)] = 0\n",
    "        batch_X.append(X)\n",
    "        batch_y.append(df.iloc[idx[i]+p][[col[i]]].values)\n",
    "    \n",
    "    return np.stack(batch_X, axis=0), np.vstack(batch_y)  #np.vstack(batch_X), np.vstack(batch_y)"
   ]
  },
  {
   "cell_type": "code",
   "execution_count": 422,
   "metadata": {},
   "outputs": [
    {
     "data": {
      "text/plain": [
       "(3, 4, 61)"
      ]
     },
     "execution_count": 422,
     "metadata": {},
     "output_type": "execute_result"
    }
   ],
   "source": [
    "lstm_cty_io(df=df_infl_train, idx=[3, 4, 5], col=['BR', 'BR', 'BR'], p=4)[0].shape"
   ]
  },
  {
   "cell_type": "code",
   "execution_count": 423,
   "metadata": {},
   "outputs": [],
   "source": [
    "p = 24\n",
    "\n",
    "idx, col = random_select(df_infl_train_n, p=p, n_samples=n_samples)\n",
    "train_samples = lstm_cty_io(df=df_infl_train_n, idx=idx, col=col, p=p)\n",
    "\n",
    "idx, col = random_select(df_infl_valid_n, p=p, n_samples=n_samples)\n",
    "valid_samples = lstm__ctyio(df=df_infl_valid_n, idx=idx, col=col, p=p)"
   ]
  },
  {
   "cell_type": "code",
   "execution_count": 424,
   "metadata": {},
   "outputs": [
    {
     "data": {
      "text/plain": [
       "(1000, 24, 61)"
      ]
     },
     "execution_count": 424,
     "metadata": {},
     "output_type": "execute_result"
    }
   ],
   "source": [
    "train_samples[0].shape"
   ]
  },
  {
   "cell_type": "markdown",
   "metadata": {},
   "source": [
    "### Model"
   ]
  },
  {
   "cell_type": "code",
   "execution_count": 439,
   "metadata": {},
   "outputs": [],
   "source": [
    "nn_lstm_cty = keras.Sequential([\n",
    "    layers.LSTM(units=30, return_sequences=True, return_state=False, dropout=0.1),\n",
    "    layers.Flatten(),\n",
    "    layers.Dense(15, activation='relu'),\n",
    "    layers.Dense(1)\n",
    "])"
   ]
  },
  {
   "cell_type": "code",
   "execution_count": 440,
   "metadata": {},
   "outputs": [
    {
     "data": {
      "text/html": [
       "<pre style=\"white-space:pre;overflow-x:auto;line-height:normal;font-family:Menlo,'DejaVu Sans Mono',consolas,'Courier New',monospace\"><span style=\"font-weight: bold\">Model: \"sequential_54\"</span>\n",
       "</pre>\n"
      ],
      "text/plain": [
       "\u001b[1mModel: \"sequential_54\"\u001b[0m\n"
      ]
     },
     "metadata": {},
     "output_type": "display_data"
    },
    {
     "data": {
      "text/html": [
       "<pre style=\"white-space:pre;overflow-x:auto;line-height:normal;font-family:Menlo,'DejaVu Sans Mono',consolas,'Courier New',monospace\">┏━━━━━━━━━━━━━━━━━━━━━━━━━━━━━━━━━┳━━━━━━━━━━━━━━━━━━━━━━━━━━━┳━━━━━━━━━━━━┓\n",
       "┃<span style=\"font-weight: bold\"> Layer (type)                    </span>┃<span style=\"font-weight: bold\"> Output Shape              </span>┃<span style=\"font-weight: bold\">    Param # </span>┃\n",
       "┡━━━━━━━━━━━━━━━━━━━━━━━━━━━━━━━━━╇━━━━━━━━━━━━━━━━━━━━━━━━━━━╇━━━━━━━━━━━━┩\n",
       "│ lstm_87 (<span style=\"color: #0087ff; text-decoration-color: #0087ff\">LSTM</span>)                  │ ?                         │          <span style=\"color: #00af00; text-decoration-color: #00af00\">0</span> │\n",
       "│                                 │                           │  (unbuilt) │\n",
       "├─────────────────────────────────┼───────────────────────────┼────────────┤\n",
       "│ flatten_20 (<span style=\"color: #0087ff; text-decoration-color: #0087ff\">Flatten</span>)            │ ?                         │          <span style=\"color: #00af00; text-decoration-color: #00af00\">0</span> │\n",
       "│                                 │                           │  (unbuilt) │\n",
       "├─────────────────────────────────┼───────────────────────────┼────────────┤\n",
       "│ dense_143 (<span style=\"color: #0087ff; text-decoration-color: #0087ff\">Dense</span>)               │ ?                         │          <span style=\"color: #00af00; text-decoration-color: #00af00\">0</span> │\n",
       "│                                 │                           │  (unbuilt) │\n",
       "├─────────────────────────────────┼───────────────────────────┼────────────┤\n",
       "│ dense_144 (<span style=\"color: #0087ff; text-decoration-color: #0087ff\">Dense</span>)               │ ?                         │          <span style=\"color: #00af00; text-decoration-color: #00af00\">0</span> │\n",
       "│                                 │                           │  (unbuilt) │\n",
       "└─────────────────────────────────┴───────────────────────────┴────────────┘\n",
       "</pre>\n"
      ],
      "text/plain": [
       "┏━━━━━━━━━━━━━━━━━━━━━━━━━━━━━━━━━┳━━━━━━━━━━━━━━━━━━━━━━━━━━━┳━━━━━━━━━━━━┓\n",
       "┃\u001b[1m \u001b[0m\u001b[1mLayer (type)                   \u001b[0m\u001b[1m \u001b[0m┃\u001b[1m \u001b[0m\u001b[1mOutput Shape             \u001b[0m\u001b[1m \u001b[0m┃\u001b[1m \u001b[0m\u001b[1m   Param #\u001b[0m\u001b[1m \u001b[0m┃\n",
       "┡━━━━━━━━━━━━━━━━━━━━━━━━━━━━━━━━━╇━━━━━━━━━━━━━━━━━━━━━━━━━━━╇━━━━━━━━━━━━┩\n",
       "│ lstm_87 (\u001b[38;5;33mLSTM\u001b[0m)                  │ ?                         │          \u001b[38;5;34m0\u001b[0m │\n",
       "│                                 │                           │  (unbuilt) │\n",
       "├─────────────────────────────────┼───────────────────────────┼────────────┤\n",
       "│ flatten_20 (\u001b[38;5;33mFlatten\u001b[0m)            │ ?                         │          \u001b[38;5;34m0\u001b[0m │\n",
       "│                                 │                           │  (unbuilt) │\n",
       "├─────────────────────────────────┼───────────────────────────┼────────────┤\n",
       "│ dense_143 (\u001b[38;5;33mDense\u001b[0m)               │ ?                         │          \u001b[38;5;34m0\u001b[0m │\n",
       "│                                 │                           │  (unbuilt) │\n",
       "├─────────────────────────────────┼───────────────────────────┼────────────┤\n",
       "│ dense_144 (\u001b[38;5;33mDense\u001b[0m)               │ ?                         │          \u001b[38;5;34m0\u001b[0m │\n",
       "│                                 │                           │  (unbuilt) │\n",
       "└─────────────────────────────────┴───────────────────────────┴────────────┘\n"
      ]
     },
     "metadata": {},
     "output_type": "display_data"
    },
    {
     "data": {
      "text/html": [
       "<pre style=\"white-space:pre;overflow-x:auto;line-height:normal;font-family:Menlo,'DejaVu Sans Mono',consolas,'Courier New',monospace\"><span style=\"font-weight: bold\"> Total params: </span><span style=\"color: #00af00; text-decoration-color: #00af00\">0</span> (0.00 B)\n",
       "</pre>\n"
      ],
      "text/plain": [
       "\u001b[1m Total params: \u001b[0m\u001b[38;5;34m0\u001b[0m (0.00 B)\n"
      ]
     },
     "metadata": {},
     "output_type": "display_data"
    },
    {
     "data": {
      "text/html": [
       "<pre style=\"white-space:pre;overflow-x:auto;line-height:normal;font-family:Menlo,'DejaVu Sans Mono',consolas,'Courier New',monospace\"><span style=\"font-weight: bold\"> Trainable params: </span><span style=\"color: #00af00; text-decoration-color: #00af00\">0</span> (0.00 B)\n",
       "</pre>\n"
      ],
      "text/plain": [
       "\u001b[1m Trainable params: \u001b[0m\u001b[38;5;34m0\u001b[0m (0.00 B)\n"
      ]
     },
     "metadata": {},
     "output_type": "display_data"
    },
    {
     "data": {
      "text/html": [
       "<pre style=\"white-space:pre;overflow-x:auto;line-height:normal;font-family:Menlo,'DejaVu Sans Mono',consolas,'Courier New',monospace\"><span style=\"font-weight: bold\"> Non-trainable params: </span><span style=\"color: #00af00; text-decoration-color: #00af00\">0</span> (0.00 B)\n",
       "</pre>\n"
      ],
      "text/plain": [
       "\u001b[1m Non-trainable params: \u001b[0m\u001b[38;5;34m0\u001b[0m (0.00 B)\n"
      ]
     },
     "metadata": {},
     "output_type": "display_data"
    }
   ],
   "source": [
    "nn_lstm_cty.summary()"
   ]
  },
  {
   "cell_type": "code",
   "execution_count": 441,
   "metadata": {},
   "outputs": [],
   "source": [
    "assert nn_lstm_cty(train_samples[0]).shape == train_samples[1].shape"
   ]
  },
  {
   "cell_type": "code",
   "execution_count": 442,
   "metadata": {},
   "outputs": [],
   "source": [
    "nn_lstm_cty.compile(\n",
    "    loss=keras.losses.MeanSquaredError(),\n",
    "    optimizer=keras.optimizers.Adam(learning_rate=1e-3),\n",
    "    metrics=[\n",
    "        keras.metrics.RootMeanSquaredError(name=\"rmse\")\n",
    "    ]\n",
    ")"
   ]
  },
  {
   "cell_type": "code",
   "execution_count": 443,
   "metadata": {},
   "outputs": [
    {
     "data": {
      "text/plain": [
       "(1000, 24, 61)"
      ]
     },
     "execution_count": 443,
     "metadata": {},
     "output_type": "execute_result"
    }
   ],
   "source": [
    "train_samples[0].shape"
   ]
  },
  {
   "cell_type": "code",
   "execution_count": 444,
   "metadata": {},
   "outputs": [
    {
     "name": "stdout",
     "output_type": "stream",
     "text": [
      "Epoch 1/500\n",
      "\u001b[1m100/100\u001b[0m \u001b[32m━━━━━━━━━━━━━━━━━━━━\u001b[0m\u001b[37m\u001b[0m \u001b[1m2s\u001b[0m 9ms/step - loss: 0.7813 - rmse: 0.8829 - val_loss: 2.5626 - val_rmse: 1.6008\n",
      "Epoch 2/500\n",
      "\u001b[1m100/100\u001b[0m \u001b[32m━━━━━━━━━━━━━━━━━━━━\u001b[0m\u001b[37m\u001b[0m \u001b[1m1s\u001b[0m 7ms/step - loss: 0.6313 - rmse: 0.7935 - val_loss: 2.6443 - val_rmse: 1.6261\n",
      "Epoch 3/500\n",
      "\u001b[1m100/100\u001b[0m \u001b[32m━━━━━━━━━━━━━━━━━━━━\u001b[0m\u001b[37m\u001b[0m \u001b[1m1s\u001b[0m 7ms/step - loss: 0.6424 - rmse: 0.8000 - val_loss: 2.5030 - val_rmse: 1.5821\n",
      "Epoch 4/500\n",
      "\u001b[1m100/100\u001b[0m \u001b[32m━━━━━━━━━━━━━━━━━━━━\u001b[0m\u001b[37m\u001b[0m \u001b[1m1s\u001b[0m 7ms/step - loss: 0.6886 - rmse: 0.8293 - val_loss: 2.4627 - val_rmse: 1.5693\n",
      "Epoch 5/500\n",
      "\u001b[1m100/100\u001b[0m \u001b[32m━━━━━━━━━━━━━━━━━━━━\u001b[0m\u001b[37m\u001b[0m \u001b[1m1s\u001b[0m 6ms/step - loss: 0.6486 - rmse: 0.8043 - val_loss: 2.3683 - val_rmse: 1.5389\n",
      "Epoch 6/500\n",
      "\u001b[1m100/100\u001b[0m \u001b[32m━━━━━━━━━━━━━━━━━━━━\u001b[0m\u001b[37m\u001b[0m \u001b[1m1s\u001b[0m 6ms/step - loss: 0.6308 - rmse: 0.7935 - val_loss: 2.3862 - val_rmse: 1.5447\n",
      "Epoch 7/500\n",
      "\u001b[1m100/100\u001b[0m \u001b[32m━━━━━━━━━━━━━━━━━━━━\u001b[0m\u001b[37m\u001b[0m \u001b[1m1s\u001b[0m 6ms/step - loss: 0.6635 - rmse: 0.8129 - val_loss: 2.6140 - val_rmse: 1.6168\n",
      "Epoch 8/500\n",
      "\u001b[1m100/100\u001b[0m \u001b[32m━━━━━━━━━━━━━━━━━━━━\u001b[0m\u001b[37m\u001b[0m \u001b[1m1s\u001b[0m 6ms/step - loss: 0.6976 - rmse: 0.8346 - val_loss: 2.4875 - val_rmse: 1.5772\n",
      "Epoch 9/500\n",
      "\u001b[1m100/100\u001b[0m \u001b[32m━━━━━━━━━━━━━━━━━━━━\u001b[0m\u001b[37m\u001b[0m \u001b[1m1s\u001b[0m 6ms/step - loss: 0.5990 - rmse: 0.7735 - val_loss: 2.4128 - val_rmse: 1.5533\n",
      "Epoch 10/500\n",
      "\u001b[1m100/100\u001b[0m \u001b[32m━━━━━━━━━━━━━━━━━━━━\u001b[0m\u001b[37m\u001b[0m \u001b[1m1s\u001b[0m 6ms/step - loss: 0.6155 - rmse: 0.7843 - val_loss: 2.4505 - val_rmse: 1.5654\n",
      "Epoch 11/500\n",
      "\u001b[1m100/100\u001b[0m \u001b[32m━━━━━━━━━━━━━━━━━━━━\u001b[0m\u001b[37m\u001b[0m \u001b[1m1s\u001b[0m 6ms/step - loss: 0.6440 - rmse: 0.8021 - val_loss: 2.4556 - val_rmse: 1.5670\n",
      "Epoch 12/500\n",
      "\u001b[1m100/100\u001b[0m \u001b[32m━━━━━━━━━━━━━━━━━━━━\u001b[0m\u001b[37m\u001b[0m \u001b[1m1s\u001b[0m 6ms/step - loss: 0.5770 - rmse: 0.7593 - val_loss: 2.3924 - val_rmse: 1.5467\n",
      "Epoch 13/500\n",
      "\u001b[1m100/100\u001b[0m \u001b[32m━━━━━━━━━━━━━━━━━━━━\u001b[0m\u001b[37m\u001b[0m \u001b[1m1s\u001b[0m 6ms/step - loss: 0.6030 - rmse: 0.7760 - val_loss: 2.4229 - val_rmse: 1.5566\n",
      "Epoch 14/500\n",
      "\u001b[1m100/100\u001b[0m \u001b[32m━━━━━━━━━━━━━━━━━━━━\u001b[0m\u001b[37m\u001b[0m \u001b[1m1s\u001b[0m 6ms/step - loss: 0.6392 - rmse: 0.7994 - val_loss: 2.4537 - val_rmse: 1.5664\n",
      "Epoch 15/500\n",
      "\u001b[1m100/100\u001b[0m \u001b[32m━━━━━━━━━━━━━━━━━━━━\u001b[0m\u001b[37m\u001b[0m \u001b[1m1s\u001b[0m 6ms/step - loss: 0.5859 - rmse: 0.7650 - val_loss: 2.4003 - val_rmse: 1.5493\n"
     ]
    }
   ],
   "source": [
    "history_lstm_cty = nn_lstm_cty.fit(\n",
    "    x=train_samples[0],\n",
    "    y=train_samples[1],\n",
    "    batch_size=10,\n",
    "    epochs=500,\n",
    "    validation_data=valid_samples,\n",
    "    callbacks=[keras.callbacks.EarlyStopping(patience=10)]\n",
    ")"
   ]
  },
  {
   "cell_type": "code",
   "execution_count": 438,
   "metadata": {},
   "outputs": [
    {
     "data": {
      "image/png": "[encoded data removed]",
      "text/plain": [
       "<Figure size 432x288 with 1 Axes>"
      ]
     },
     "metadata": {
      "needs_background": "light"
     },
     "output_type": "display_data"
    }
   ],
   "source": [
    "train_loss = history_lstm_cty.history['rmse']\n",
    "val_loss = history_lstm_cty.history['val_rmse']\n",
    "\n",
    "epochs = range(1, len(train_loss) + 1)\n",
    "\n",
    "plt.plot(epochs, train_loss, 'bo-', label='Training RMSE')\n",
    "plt.plot(epochs, val_loss, 'ro-', label='Validation RMSE')\n",
    "plt.title('Training and Validation RMSE')\n",
    "plt.xlabel('Epochs')\n",
    "plt.ylabel('RMSE')\n",
    "plt.legend()\n",
    "\n",
    "plt.show()"
   ]
  },
  {
   "cell_type": "markdown",
   "metadata": {},
   "source": [
    "## Model with date features\n",
    "\n",
    "Repeating date features (eg, day in the week, month, quarter and year, week in the month, quarter and year, month in the quarter and year, and quarter in year) can be embedded and included in the model."
   ]
  },
  {
   "cell_type": "code",
   "execution_count": null,
   "metadata": {},
   "outputs": [],
   "source": [
    "#nn_lstm_datefeat = layers.LSTM()"
   ]
  },
  {
   "cell_type": "markdown",
   "metadata": {},
   "source": [
    "## Creating a TFT model"
   ]
  },
  {
   "cell_type": "code",
   "execution_count": null,
   "metadata": {},
   "outputs": [],
   "source": [
    "tft = TemporalFusionTransformer(\n",
    "    time_steps=12,\n",
    "    input_size=20,\n",
    "    output_size=4,\n",
    "    category_counts=5,\n",
    "    n_workers=2, # Number of multiprocessing workers\n",
    "\n",
    "    # TFT params\n",
    "    input_obs_loc=24,\n",
    "    static_input_loc=24,\n",
    "    known_regular_input_idx=24,\n",
    "    known_categorical_input_idx=24,\n",
    "    column_definition=None,\n",
    ")"
   ]
  },
  {
   "cell_type": "code",
   "execution_count": null,
   "metadata": {},
   "outputs": [],
   "source": [
    "tft.time_steps"
   ]
  },
  {
   "cell_type": "markdown",
   "metadata": {},
   "source": [
    "# Test"
   ]
  },
  {
   "cell_type": "code",
   "execution_count": null,
   "metadata": {},
   "outputs": [
    {
     "data": {
      "text/plain": [
       "TensorShape([3, 4, 1])"
      ]
     },
     "execution_count": 23,
     "metadata": {},
     "output_type": "execute_result"
    }
   ],
   "source": [
    "batch_size = 3\n",
    "n_timesteps = 4\n",
    "\n",
    "univariate_x = np.ones(shape=(batch_size, n_timesteps))\n",
    "univariate_x = keras.ops.expand_dims(univariate_x, axis=-1)\n",
    "univariate_x.shape"
   ]
  },
  {
   "cell_type": "code",
   "execution_count": null,
   "metadata": {},
   "outputs": [],
   "source": [
    "lstm = layers.LSTM(\n",
    "    units=6,\n",
    "    return_sequences=True,\n",
    "    return_state=False,\n",
    ")"
   ]
  },
  {
   "cell_type": "code",
   "execution_count": null,
   "metadata": {},
   "outputs": [
    {
     "data": {
      "text/plain": [
       "(TensorShape([3, 4, 6]), TensorShape([3, 8, 6]))"
      ]
     },
     "execution_count": 51,
     "metadata": {},
     "output_type": "execute_result"
    }
   ],
   "source": [
    "transf_x = lstm(univariate_x)\n",
    "transf_x.shape, keras.ops.concatenate([transf_x, transf_x], axis=1).shape"
   ]
  },
  {
   "cell_type": "code",
   "execution_count": null,
   "metadata": {},
   "outputs": [
    {
     "data": {
      "text/plain": [
       "TensorShape([3, 14])"
      ]
     },
     "execution_count": 18,
     "metadata": {},
     "output_type": "execute_result"
    }
   ],
   "source": [
    "transf_x.shape"
   ]
  },
  {
   "cell_type": "markdown",
   "metadata": {
    "vscode": {
     "languageId": "python"
    }
   },
   "source": [
    "# References {.unnumbered}"
   ]
  },
  {
   "cell_type": "markdown",
   "metadata": {},
   "source": []
  }
 ],
 "metadata": {
  "kernelspec": {
   "display_name": "Python 3.10.2 ('.venv_gingado')",
   "language": "python",
   "name": "python3"
  },
  "language_info": {
   "codemirror_mode": {
    "name": "ipython",
    "version": 3
   },
   "file_extension": ".py",
   "mimetype": "text/x-python",
   "name": "python",
   "nbconvert_exporter": "python",
   "pygments_lexer": "ipython3",
   "version": "3.10.2"
  },
  "orig_nbformat": 4,
  "vscode": {
   "interpreter": {
    "hash": "977c2d9435ad3a481cf1bbece8d5ecb19e078de55648a0a0bad32b79c2e18340"
   }
  }
 },
 "nbformat": 4,
 "nbformat_minor": 2
}
